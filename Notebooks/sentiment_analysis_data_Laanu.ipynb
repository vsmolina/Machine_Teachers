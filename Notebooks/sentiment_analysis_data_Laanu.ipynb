{
 "cells": [
  {
   "cell_type": "markdown",
   "metadata": {},
   "source": [
    "# Instructor Do: Getting Data for Sentiment Analysis"
   ]
  },
  {
   "cell_type": "code",
   "execution_count": 37,
   "metadata": {},
   "outputs": [
    {
     "data": {
      "text/plain": [
       "True"
      ]
     },
     "execution_count": 37,
     "metadata": {},
     "output_type": "execute_result"
    }
   ],
   "source": [
    "# Initial imports\n",
    "import os\n",
    "import pandas as pd\n",
    "from newsapi import NewsApiClient\n",
    "from dotenv import load_dotenv\n",
    "load_dotenv()\n"
   ]
  },
  {
   "cell_type": "code",
   "execution_count": 38,
   "metadata": {},
   "outputs": [],
   "source": [
    "# Reading the News API key enviroment variable\n",
    "api_key = os.getenv(\"news_api\")\n",
    "\n"
   ]
  },
  {
   "cell_type": "code",
   "execution_count": 39,
   "metadata": {},
   "outputs": [],
   "source": [
    "# Create a newsapi client\n",
    "newsapi = NewsApiClient(api_key=api_key)\n",
    "\n"
   ]
  },
  {
   "cell_type": "code",
   "execution_count": 40,
   "metadata": {},
   "outputs": [
    {
     "data": {
      "text/plain": [
       "{'status': 'ok',\n",
       " 'totalResults': 1,\n",
       " 'articles': [{'source': {'id': None, 'name': 'Fox Business'},\n",
       "   'author': 'Tyler McCarthy',\n",
       "   'title': 'Netflix unveils plans to release movies every week in 2021 with star-studded sizzle reel - Fox Business',\n",
       "   'description': 'As the coronavirus pandemic sends the theater industry into a tailspin, Netflix is stepping up to bridge the gap by promising the release of at least one original movie every week in 2021.',\n",
       "   'url': 'https://www.foxbusiness.com/lifestyle/netflix-unveils-plans-to-release-movies-every-week-in-2021-with-star-studded-sizzle-reel',\n",
       "   'urlToImage': 'https://a57.foxnews.com/static.foxbusiness.com/foxbusiness.com/content/uploads/2021/01/0/0/ConcreteCowboy-Netflix.jpg?ve=1&tl=1',\n",
       "   'publishedAt': '2021-01-12T20:05:02Z',\n",
       "   'content': 'As the coronavirus pandemic sends the movie theater industry into a tailspin, Netflix is stepping up to bridge the gap by promising the release of at least one original film every week in 2021.\\r\\nThe … [+3633 chars]'}]}"
      ]
     },
     "execution_count": 40,
     "metadata": {},
     "output_type": "execute_result"
    }
   ],
   "source": [
    "# Fetch top news articles about PDD\n",
    "nflx_headlines = newsapi.get_top_headlines(q=\"NETFLIX\", language=\"en\", country=\"us\")\n",
    "nflx_headlines"
   ]
  },
  {
   "cell_type": "code",
   "execution_count": 41,
   "metadata": {},
   "outputs": [
    {
     "name": "stdout",
     "output_type": "stream",
     "text": [
      "Total articles about PDD: 1\n"
     ]
    },
    {
     "data": {
      "text/plain": [
       "{'source': {'id': None, 'name': 'Fox Business'},\n",
       " 'author': 'Tyler McCarthy',\n",
       " 'title': 'Netflix unveils plans to release movies every week in 2021 with star-studded sizzle reel - Fox Business',\n",
       " 'description': 'As the coronavirus pandemic sends the theater industry into a tailspin, Netflix is stepping up to bridge the gap by promising the release of at least one original movie every week in 2021.',\n",
       " 'url': 'https://www.foxbusiness.com/lifestyle/netflix-unveils-plans-to-release-movies-every-week-in-2021-with-star-studded-sizzle-reel',\n",
       " 'urlToImage': 'https://a57.foxnews.com/static.foxbusiness.com/foxbusiness.com/content/uploads/2021/01/0/0/ConcreteCowboy-Netflix.jpg?ve=1&tl=1',\n",
       " 'publishedAt': '2021-01-12T20:05:02Z',\n",
       " 'content': 'As the coronavirus pandemic sends the movie theater industry into a tailspin, Netflix is stepping up to bridge the gap by promising the release of at least one original film every week in 2021.\\r\\nThe … [+3633 chars]'}"
      ]
     },
     "execution_count": 41,
     "metadata": {},
     "output_type": "execute_result"
    }
   ],
   "source": [
    "# Print total articles\n",
    "print(f\"Total articles about PDD: {nflx_headlines['totalResults']}\")\n",
    "\n",
    "# Show sample article\n",
    "nflx_headlines[\"articles\"][0]\n",
    "\n"
   ]
  },
  {
   "cell_type": "code",
   "execution_count": 43,
   "metadata": {},
   "outputs": [
    {
     "data": {
      "text/html": [
       "<div>\n",
       "<style scoped>\n",
       "    .dataframe tbody tr th:only-of-type {\n",
       "        vertical-align: middle;\n",
       "    }\n",
       "\n",
       "    .dataframe tbody tr th {\n",
       "        vertical-align: top;\n",
       "    }\n",
       "\n",
       "    .dataframe thead th {\n",
       "        text-align: right;\n",
       "    }\n",
       "</style>\n",
       "<table border=\"1\" class=\"dataframe\">\n",
       "  <thead>\n",
       "    <tr style=\"text-align: right;\">\n",
       "      <th></th>\n",
       "      <th>source</th>\n",
       "      <th>author</th>\n",
       "      <th>title</th>\n",
       "      <th>description</th>\n",
       "      <th>url</th>\n",
       "      <th>urlToImage</th>\n",
       "      <th>publishedAt</th>\n",
       "      <th>content</th>\n",
       "    </tr>\n",
       "  </thead>\n",
       "  <tbody>\n",
       "    <tr>\n",
       "      <th>0</th>\n",
       "      <td>{'id': None, 'name': 'Fox Business'}</td>\n",
       "      <td>Tyler McCarthy</td>\n",
       "      <td>Netflix unveils plans to release movies every ...</td>\n",
       "      <td>As the coronavirus pandemic sends the theater ...</td>\n",
       "      <td>https://www.foxbusiness.com/lifestyle/netflix-...</td>\n",
       "      <td>https://a57.foxnews.com/static.foxbusiness.com...</td>\n",
       "      <td>2021-01-12T20:05:02Z</td>\n",
       "      <td>As the coronavirus pandemic sends the movie th...</td>\n",
       "    </tr>\n",
       "  </tbody>\n",
       "</table>\n",
       "</div>"
      ],
      "text/plain": [
       "                                 source          author  \\\n",
       "0  {'id': None, 'name': 'Fox Business'}  Tyler McCarthy   \n",
       "\n",
       "                                               title  \\\n",
       "0  Netflix unveils plans to release movies every ...   \n",
       "\n",
       "                                         description  \\\n",
       "0  As the coronavirus pandemic sends the theater ...   \n",
       "\n",
       "                                                 url  \\\n",
       "0  https://www.foxbusiness.com/lifestyle/netflix-...   \n",
       "\n",
       "                                          urlToImage           publishedAt  \\\n",
       "0  https://a57.foxnews.com/static.foxbusiness.com...  2021-01-12T20:05:02Z   \n",
       "\n",
       "                                             content  \n",
       "0  As the coronavirus pandemic sends the movie th...  "
      ]
     },
     "execution_count": 43,
     "metadata": {},
     "output_type": "execute_result"
    }
   ],
   "source": [
    "# Transform the response dictionary to a DataFrame\n",
    "nflx_df = pd.DataFrame.from_dict(nflx_headlines[\"articles\"])\n",
    "\n",
    "nflx_df.head()\n",
    "\n"
   ]
  },
  {
   "cell_type": "code",
   "execution_count": 44,
   "metadata": {},
   "outputs": [
    {
     "name": "stdout",
     "output_type": "stream",
     "text": [
      "Total articles about Facebook Libra: 77\n"
     ]
    },
    {
     "data": {
      "text/plain": [
       "{'source': {'id': 'the-verge', 'name': 'The Verge'},\n",
       " 'author': 'Casey Newton',\n",
       " 'title': '12 predictions for the consumer internet in 2021',\n",
       " 'description': 'Casey Newton crowdsources the best predictions about breakout apps, cultural trends, regulation, and more for the coming year.',\n",
       " 'url': 'https://www.theverge.com/22188075/12-predictions-consumer-internet-2021-labor-apps-social-networks',\n",
       " 'urlToImage': 'https://cdn.vox-cdn.com/thumbor/tUlBEM9Nh9q_LEwjGhPEv2fzrhg=/0x358:5002x2977/fit-in/1200x630/cdn.vox-cdn.com/uploads/chorus_asset/file/7384447/VRG_2021_v02.0.jpg',\n",
       " 'publishedAt': '2020-12-18T20:40:05Z',\n",
       " 'content': 'I like to end each year by surveying you all about your predictions for social networks and the broader consumer internet in the 12 months to come. One, it’s a lot of fun. And two, a year later I get… [+7063 chars]'}"
      ]
     },
     "execution_count": 44,
     "metadata": {},
     "output_type": "execute_result"
    }
   ],
   "source": [
    "# Fetch all the news about Facebook Libra\n",
    "nflx_headlines = newsapi.get_everything(\n",
    "    q=\"facebook libra\", language=\"en\", sort_by=\"relevancy\"\n",
    ")\n",
    "\n",
    "# Print total articles\n",
    "print(f\"Total articles about Facebook Libra: {nflx_headlines['totalResults']}\")\n",
    "\n",
    "# Show sample article\n",
    "nflx_headlines[\"articles\"][0]\n",
    "\n"
   ]
  },
  {
   "cell_type": "code",
   "execution_count": 47,
   "metadata": {},
   "outputs": [
    {
     "data": {
      "text/html": [
       "<div>\n",
       "<style scoped>\n",
       "    .dataframe tbody tr th:only-of-type {\n",
       "        vertical-align: middle;\n",
       "    }\n",
       "\n",
       "    .dataframe tbody tr th {\n",
       "        vertical-align: top;\n",
       "    }\n",
       "\n",
       "    .dataframe thead th {\n",
       "        text-align: right;\n",
       "    }\n",
       "</style>\n",
       "<table border=\"1\" class=\"dataframe\">\n",
       "  <thead>\n",
       "    <tr style=\"text-align: right;\">\n",
       "      <th></th>\n",
       "      <th>source</th>\n",
       "      <th>author</th>\n",
       "      <th>title</th>\n",
       "      <th>description</th>\n",
       "      <th>url</th>\n",
       "      <th>urlToImage</th>\n",
       "      <th>publishedAt</th>\n",
       "      <th>content</th>\n",
       "    </tr>\n",
       "  </thead>\n",
       "  <tbody>\n",
       "    <tr>\n",
       "      <th>0</th>\n",
       "      <td>{'id': 'the-verge', 'name': 'The Verge'}</td>\n",
       "      <td>Casey Newton</td>\n",
       "      <td>12 predictions for the consumer internet in 2021</td>\n",
       "      <td>Casey Newton crowdsources the best predictions...</td>\n",
       "      <td>https://www.theverge.com/22188075/12-predictio...</td>\n",
       "      <td>https://cdn.vox-cdn.com/thumbor/tUlBEM9Nh9q_LE...</td>\n",
       "      <td>2020-12-18T20:40:05Z</td>\n",
       "      <td>I like to end each year by surveying you all a...</td>\n",
       "    </tr>\n",
       "    <tr>\n",
       "      <th>1</th>\n",
       "      <td>{'id': None, 'name': 'MarketWatch'}</td>\n",
       "      <td>+Peter Morici</td>\n",
       "      <td>Peter Morici: The antitrust case against Faceb...</td>\n",
       "      <td>The lawsuits against Facebook are without meri...</td>\n",
       "      <td>https://www.marketwatch.com/story/the-antitrus...</td>\n",
       "      <td>https://images.mktw.net/im-245995/social</td>\n",
       "      <td>2021-01-11T12:37:00Z</td>\n",
       "      <td>Facebook \\r\\n FB,\\r\\n -0.44%\\r\\noffers users a...</td>\n",
       "    </tr>\n",
       "    <tr>\n",
       "      <th>2</th>\n",
       "      <td>{'id': 'reuters', 'name': 'Reuters'}</td>\n",
       "      <td>Tom Wilson</td>\n",
       "      <td>Analysis: Central bankers comb for crypto clue...</td>\n",
       "      <td>Analysis: Central bankers comb for crypto clue...</td>\n",
       "      <td>https://in.reuters.com/article/cenbanks-digita...</td>\n",
       "      <td>https://static.reuters.com/resources/r/?m=02&amp;d...</td>\n",
       "      <td>2020-12-18T06:39:00Z</td>\n",
       "      <td>LONDON (Reuters) - It didnt seem like a revolu...</td>\n",
       "    </tr>\n",
       "    <tr>\n",
       "      <th>3</th>\n",
       "      <td>{'id': 'reuters', 'name': 'Reuters'}</td>\n",
       "      <td>Tom Wilson</td>\n",
       "      <td>Analysis: Central bankers comb for crypto clue...</td>\n",
       "      <td>A botanical green smoothie and a snapper fish ...</td>\n",
       "      <td>https://www.reuters.com/article/us-cenbanks-di...</td>\n",
       "      <td>https://static.reuters.com/resources/r/?m=02&amp;d...</td>\n",
       "      <td>2020-12-18T06:17:00Z</td>\n",
       "      <td>LONDON (Reuters) - It didnt seem like a revolu...</td>\n",
       "    </tr>\n",
       "    <tr>\n",
       "      <th>4</th>\n",
       "      <td>{'id': None, 'name': 'Adweek'}</td>\n",
       "      <td>David Cohen</td>\n",
       "      <td>Can Facebook-Led Libra, Now Named Diem, Seize ...</td>\n",
       "      <td>Facebook's cryptocurrency play was back in the...</td>\n",
       "      <td>https://www.adweek.com/digital/can-facebook-le...</td>\n",
       "      <td>https://www.adweek.com/wp-content/uploads/2020...</td>\n",
       "      <td>2020-12-14T17:26:48Z</td>\n",
       "      <td>Facebooks cryptocurrency play was back in the ...</td>\n",
       "    </tr>\n",
       "  </tbody>\n",
       "</table>\n",
       "</div>"
      ],
      "text/plain": [
       "                                     source         author  \\\n",
       "0  {'id': 'the-verge', 'name': 'The Verge'}   Casey Newton   \n",
       "1       {'id': None, 'name': 'MarketWatch'}  +Peter Morici   \n",
       "2      {'id': 'reuters', 'name': 'Reuters'}     Tom Wilson   \n",
       "3      {'id': 'reuters', 'name': 'Reuters'}     Tom Wilson   \n",
       "4            {'id': None, 'name': 'Adweek'}    David Cohen   \n",
       "\n",
       "                                               title  \\\n",
       "0   12 predictions for the consumer internet in 2021   \n",
       "1  Peter Morici: The antitrust case against Faceb...   \n",
       "2  Analysis: Central bankers comb for crypto clue...   \n",
       "3  Analysis: Central bankers comb for crypto clue...   \n",
       "4  Can Facebook-Led Libra, Now Named Diem, Seize ...   \n",
       "\n",
       "                                         description  \\\n",
       "0  Casey Newton crowdsources the best predictions...   \n",
       "1  The lawsuits against Facebook are without meri...   \n",
       "2  Analysis: Central bankers comb for crypto clue...   \n",
       "3  A botanical green smoothie and a snapper fish ...   \n",
       "4  Facebook's cryptocurrency play was back in the...   \n",
       "\n",
       "                                                 url  \\\n",
       "0  https://www.theverge.com/22188075/12-predictio...   \n",
       "1  https://www.marketwatch.com/story/the-antitrus...   \n",
       "2  https://in.reuters.com/article/cenbanks-digita...   \n",
       "3  https://www.reuters.com/article/us-cenbanks-di...   \n",
       "4  https://www.adweek.com/digital/can-facebook-le...   \n",
       "\n",
       "                                          urlToImage           publishedAt  \\\n",
       "0  https://cdn.vox-cdn.com/thumbor/tUlBEM9Nh9q_LE...  2020-12-18T20:40:05Z   \n",
       "1           https://images.mktw.net/im-245995/social  2021-01-11T12:37:00Z   \n",
       "2  https://static.reuters.com/resources/r/?m=02&d...  2020-12-18T06:39:00Z   \n",
       "3  https://static.reuters.com/resources/r/?m=02&d...  2020-12-18T06:17:00Z   \n",
       "4  https://www.adweek.com/wp-content/uploads/2020...  2020-12-14T17:26:48Z   \n",
       "\n",
       "                                             content  \n",
       "0  I like to end each year by surveying you all a...  \n",
       "1  Facebook \\r\\n FB,\\r\\n -0.44%\\r\\noffers users a...  \n",
       "2  LONDON (Reuters) - It didnt seem like a revolu...  \n",
       "3  LONDON (Reuters) - It didnt seem like a revolu...  \n",
       "4  Facebooks cryptocurrency play was back in the ...  "
      ]
     },
     "execution_count": 47,
     "metadata": {},
     "output_type": "execute_result"
    }
   ],
   "source": [
    "# Transform the response dictionary to a DataFrame\n",
    "nflx_df = pd.DataFrame.from_dict(nflx_headlines[\"articles\"])\n",
    "\n",
    "nflx_df.head()\n"
   ]
  },
  {
   "cell_type": "code",
   "execution_count": null,
   "metadata": {},
   "outputs": [],
   "source": []
  }
 ],
 "metadata": {
  "file_extension": ".py",
  "kernelspec": {
   "display_name": "Python 3",
   "language": "python",
   "name": "python3"
  },
  "language_info": {
   "codemirror_mode": {
    "name": "ipython",
    "version": 3
   },
   "file_extension": ".py",
   "mimetype": "text/x-python",
   "name": "python",
   "nbconvert_exporter": "python",
   "pygments_lexer": "ipython3",
   "version": "3.8.5"
  },
  "mimetype": "text/x-python",
  "name": "python",
  "npconvert_exporter": "python",
  "pygments_lexer": "ipython3",
  "version": 3
 },
 "nbformat": 4,
 "nbformat_minor": 4
}
