{
 "cells": [
  {
   "cell_type": "markdown",
   "metadata": {},
   "source": [
    "# Instructor Do: Intro to VADER Sentiment"
   ]
  },
  {
   "cell_type": "code",
   "execution_count": 1,
   "metadata": {},
   "outputs": [
    {
     "output_type": "execute_result",
     "data": {
      "text/plain": [
       "True"
      ]
     },
     "metadata": {},
     "execution_count": 1
    }
   ],
   "source": [
    "# Initial imports\n",
    "import os\n",
    "from pathlib import Path\n",
    "import pandas as pd\n",
    "from newsapi import NewsApiClient\n",
    "import nltk\n",
    "from nltk.sentiment.vader import SentimentIntensityAnalyzer\n",
    "from dotenv import load_dotenv\n",
    "load_dotenv()\n"
   ]
  },
  {
   "cell_type": "code",
   "execution_count": 2,
   "metadata": {},
   "outputs": [
    {
     "output_type": "stream",
     "name": "stderr",
     "text": [
      "[nltk_data] Downloading package vader_lexicon to\n[nltk_data]     /Users/laanuadeyeye/nltk_data...\n"
     ]
    }
   ],
   "source": [
    "# Download/Update the VADER Lexicon\n",
    "nltk.download('vader_lexicon')\n",
    "\n",
    "# Initialize the VADER sentiment analyzer\n",
    "analyzer = SentimentIntensityAnalyzer()\n",
    "\n"
   ]
  },
  {
   "cell_type": "code",
   "execution_count": 3,
   "metadata": {},
   "outputs": [],
   "source": [
    "# Reading the News API key enviroment variable\n",
    "api_key = os.getenv(\"news_api\")\n",
    "\n"
   ]
  },
  {
   "cell_type": "code",
   "execution_count": 4,
   "metadata": {},
   "outputs": [],
   "source": [
    "# Create a newsapi client\n",
    "newsapi = NewsApiClient(api_key=api_key)\n",
    "\n"
   ]
  },
  {
   "cell_type": "code",
   "execution_count": 5,
   "metadata": {},
   "outputs": [
    {
     "output_type": "stream",
     "name": "stdout",
     "text": [
      "Total articles about PDD : 265\n"
     ]
    },
    {
     "output_type": "execute_result",
     "data": {
      "text/plain": [
       "{'source': {'id': 'techcrunch', 'name': 'TechCrunch'},\n",
       " 'author': 'Rita Liao',\n",
       " 'title': 'Why Alibaba rival Pinduoduo is investing in agritech',\n",
       " 'description': 'Back in 2018, Pinduoduo sent shock waves through the investor community when it raised $1.6 billion from a Nasdaq listing as a three-year-old company. Online shoppers in China were excited to see its rise as an alternative to long-time market dominators Aliba…',\n",
       " 'url': 'http://techcrunch.com/2020/12/16/pinduoduo-agritech/',\n",
       " 'urlToImage': 'https://techcrunch.com/wp-content/uploads/2020/12/Screen-Shot-2020-12-16-at-6.11.42-PM.png?w=607',\n",
       " 'publishedAt': '2020-12-16T10:36:23Z',\n",
       " 'content': 'Back in 2018, Pinduoduo sent shock waves through the investor community when it raised $1.6 billion from a Nasdaq listing as a three-year-old company. Online shoppers in China were excited to see its… [+5346 chars]'}"
      ]
     },
     "metadata": {},
     "execution_count": 5
    }
   ],
   "source": [
    "# Fetch all the news about Facebook Libra\n",
    "PDD_headlines = newsapi.get_everything(\n",
    "    q=\"pinduoduo\",\n",
    "    language=\"en\",\n",
    "    page_size=100,\n",
    "    sort_by=\"relevancy\"\n",
    ")\n",
    "\n",
    "# Print total articles\n",
    "print(f\"Total articles about PDD : {PDD_headlines['totalResults']}\")\n",
    "\n",
    "# Show sample article\n",
    "PDD_headlines[\"articles\"][0]\n",
    "\n"
   ]
  },
  {
   "cell_type": "code",
   "execution_count": 10,
   "metadata": {},
   "outputs": [
    {
     "output_type": "execute_result",
     "data": {
      "text/plain": [
       "         date                                               text  compound  \\\n",
       "0  2020-12-16  Back in 2018, Pinduoduo sent shock waves throu...   -0.0516   \n",
       "1  2021-01-12  Pinduoduo, a rapidly growing Chinese e-commerc...   -0.7269   \n",
       "2  2020-12-24  China’s market regulator has opened an investi...    0.0000   \n",
       "3  2021-01-04  By Reuters Staff\\r\\nBEIJING, Jan 4 (Reuters) -...   -0.5994   \n",
       "4  2021-01-04  By Reuters Staff\\r\\nBEIJING (Reuters) - Local ...   -0.5994   \n",
       "\n",
       "   positive  negative  neutral  \n",
       "0     0.067     0.072    0.861  \n",
       "1     0.047     0.186    0.767  \n",
       "2     0.000     0.000    1.000  \n",
       "3     0.000     0.126    0.874  \n",
       "4     0.000     0.122    0.878  "
      ],
      "text/html": "<div>\n<style scoped>\n    .dataframe tbody tr th:only-of-type {\n        vertical-align: middle;\n    }\n\n    .dataframe tbody tr th {\n        vertical-align: top;\n    }\n\n    .dataframe thead th {\n        text-align: right;\n    }\n</style>\n<table border=\"1\" class=\"dataframe\">\n  <thead>\n    <tr style=\"text-align: right;\">\n      <th></th>\n      <th>date</th>\n      <th>text</th>\n      <th>compound</th>\n      <th>positive</th>\n      <th>negative</th>\n      <th>neutral</th>\n    </tr>\n  </thead>\n  <tbody>\n    <tr>\n      <th>0</th>\n      <td>2020-12-16</td>\n      <td>Back in 2018, Pinduoduo sent shock waves throu...</td>\n      <td>-0.0516</td>\n      <td>0.067</td>\n      <td>0.072</td>\n      <td>0.861</td>\n    </tr>\n    <tr>\n      <th>1</th>\n      <td>2021-01-12</td>\n      <td>Pinduoduo, a rapidly growing Chinese e-commerc...</td>\n      <td>-0.7269</td>\n      <td>0.047</td>\n      <td>0.186</td>\n      <td>0.767</td>\n    </tr>\n    <tr>\n      <th>2</th>\n      <td>2020-12-24</td>\n      <td>China’s market regulator has opened an investi...</td>\n      <td>0.0000</td>\n      <td>0.000</td>\n      <td>0.000</td>\n      <td>1.000</td>\n    </tr>\n    <tr>\n      <th>3</th>\n      <td>2021-01-04</td>\n      <td>By Reuters Staff\\r\\nBEIJING, Jan 4 (Reuters) -...</td>\n      <td>-0.5994</td>\n      <td>0.000</td>\n      <td>0.126</td>\n      <td>0.874</td>\n    </tr>\n    <tr>\n      <th>4</th>\n      <td>2021-01-04</td>\n      <td>By Reuters Staff\\r\\nBEIJING (Reuters) - Local ...</td>\n      <td>-0.5994</td>\n      <td>0.000</td>\n      <td>0.122</td>\n      <td>0.878</td>\n    </tr>\n  </tbody>\n</table>\n</div>"
     },
     "metadata": {},
     "execution_count": 10
    }
   ],
   "source": [
    "# Create the Facebook Libra sentiment scores DataFrame\n",
    "PDD_sentiments = []\n",
    "\n",
    "for article in PDD_headlines[\"articles\"]:\n",
    "    try:\n",
    "        text = article[\"content\"]\n",
    "        date = article[\"publishedAt\"][:10]\n",
    "        sentiment = analyzer.polarity_scores(text)\n",
    "        compound = sentiment[\"compound\"]\n",
    "        pos = sentiment[\"pos\"]\n",
    "        neu = sentiment[\"neu\"]\n",
    "        neg = sentiment[\"neg\"]\n",
    "        \n",
    "        PDD_sentiments.append({\n",
    "            \"text\": text,\n",
    "            \"date\": date,\n",
    "            \"compound\": compound,\n",
    "            \"positive\": pos,\n",
    "            \"negative\": neg,\n",
    "            \"neutral\": neu\n",
    "            \n",
    "        })\n",
    "        \n",
    "    except AttributeError:\n",
    "        pass\n",
    "    \n",
    "# Create DataFrame\n",
    "PDD_df = pd.DataFrame(PDD_sentiments)\n",
    "\n",
    "# Reorder DataFrame columns\n",
    "cols = [\"date\", \"text\", \"compound\", \"positive\", \"negative\", \"neutral\"]\n",
    "PDD_df = PDD_df[cols]\n",
    "\n",
    "PDD_df.head()\n",
    "\n"
   ]
  },
  {
   "cell_type": "code",
   "execution_count": 11,
   "metadata": {},
   "outputs": [
    {
     "output_type": "execute_result",
     "data": {
      "text/plain": [
       "        compound   positive   negative    neutral\n",
       "count  93.000000  93.000000  93.000000  93.000000\n",
       "mean    0.057874   0.056505   0.040559   0.902968\n",
       "std     0.424809   0.060502   0.057876   0.073809\n",
       "min    -0.840200   0.000000   0.000000   0.750000\n",
       "25%    -0.202300   0.000000   0.000000   0.861000\n",
       "50%     0.000000   0.051000   0.000000   0.898000\n",
       "75%     0.440400   0.102000   0.072000   0.960000\n",
       "max     0.771700   0.209000   0.225000   1.000000"
      ],
      "text/html": "<div>\n<style scoped>\n    .dataframe tbody tr th:only-of-type {\n        vertical-align: middle;\n    }\n\n    .dataframe tbody tr th {\n        vertical-align: top;\n    }\n\n    .dataframe thead th {\n        text-align: right;\n    }\n</style>\n<table border=\"1\" class=\"dataframe\">\n  <thead>\n    <tr style=\"text-align: right;\">\n      <th></th>\n      <th>compound</th>\n      <th>positive</th>\n      <th>negative</th>\n      <th>neutral</th>\n    </tr>\n  </thead>\n  <tbody>\n    <tr>\n      <th>count</th>\n      <td>93.000000</td>\n      <td>93.000000</td>\n      <td>93.000000</td>\n      <td>93.000000</td>\n    </tr>\n    <tr>\n      <th>mean</th>\n      <td>0.057874</td>\n      <td>0.056505</td>\n      <td>0.040559</td>\n      <td>0.902968</td>\n    </tr>\n    <tr>\n      <th>std</th>\n      <td>0.424809</td>\n      <td>0.060502</td>\n      <td>0.057876</td>\n      <td>0.073809</td>\n    </tr>\n    <tr>\n      <th>min</th>\n      <td>-0.840200</td>\n      <td>0.000000</td>\n      <td>0.000000</td>\n      <td>0.750000</td>\n    </tr>\n    <tr>\n      <th>25%</th>\n      <td>-0.202300</td>\n      <td>0.000000</td>\n      <td>0.000000</td>\n      <td>0.861000</td>\n    </tr>\n    <tr>\n      <th>50%</th>\n      <td>0.000000</td>\n      <td>0.051000</td>\n      <td>0.000000</td>\n      <td>0.898000</td>\n    </tr>\n    <tr>\n      <th>75%</th>\n      <td>0.440400</td>\n      <td>0.102000</td>\n      <td>0.072000</td>\n      <td>0.960000</td>\n    </tr>\n    <tr>\n      <th>max</th>\n      <td>0.771700</td>\n      <td>0.209000</td>\n      <td>0.225000</td>\n      <td>1.000000</td>\n    </tr>\n  </tbody>\n</table>\n</div>"
     },
     "metadata": {},
     "execution_count": 11
    }
   ],
   "source": [
    "# Get descriptive stats from the DataFrame\n",
    "PDD_df.describe()\n",
    "\n"
   ]
  },
  {
   "cell_type": "code",
   "execution_count": null,
   "metadata": {},
   "outputs": [],
   "source": []
  }
 ],
 "metadata": {
  "kernelspec": {
   "display_name": "Python 3",
   "language": "python",
   "name": "python3"
  },
  "language_info": {
   "codemirror_mode": {
    "name": "ipython",
    "version": 3
   },
   "file_extension": ".py",
   "mimetype": "text/x-python",
   "name": "python",
   "nbconvert_exporter": "python",
   "pygments_lexer": "ipython3",
   "version": "3.8.2-final"
  }
 },
 "nbformat": 4,
 "nbformat_minor": 2
}