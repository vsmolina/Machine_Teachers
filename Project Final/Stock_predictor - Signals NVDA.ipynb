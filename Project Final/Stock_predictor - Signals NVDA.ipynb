{
 "cells": [
  {
   "cell_type": "markdown",
   "metadata": {},
   "source": [
    "# LSTM Stock Predictor Using Closing Prices"
   ]
  },
  {
   "cell_type": "markdown",
   "metadata": {},
   "source": [
    "## Data Preparation"
   ]
  },
  {
   "cell_type": "code",
   "execution_count": 1,
   "metadata": {},
   "outputs": [],
   "source": [
    "import numpy as np\n",
    "import pandas as pd\n",
    "#import hvplot.pandas"
   ]
  },
  {
   "cell_type": "code",
   "execution_count": 2,
   "metadata": {},
   "outputs": [],
   "source": [
    "# Set the random seed for reproducibility\n",
    "# Note: This is for the homework solution, but it is good practice to comment this out and run multiple experiments to evaluate your model\n",
    "from numpy.random import seed\n",
    "seed(1)\n",
    "from tensorflow import random\n",
    "random.set_seed(2)"
   ]
  },
  {
   "cell_type": "code",
   "execution_count": 3,
   "metadata": {},
   "outputs": [
    {
     "output_type": "execute_result",
     "data": {
      "text/plain": [
       "                     Closing Price    Volume\n",
       "Date                                        \n",
       "2019-01-08 16:00:00         139.83  19650429\n",
       "2019-01-09 16:00:00         142.58  15431475\n",
       "2019-01-10 16:00:00         145.23  13078906\n",
       "2019-01-11 16:00:00         148.83  21869066\n",
       "2019-01-14 16:00:00         150.44  18254249"
      ],
      "text/html": "<div>\n<style scoped>\n    .dataframe tbody tr th:only-of-type {\n        vertical-align: middle;\n    }\n\n    .dataframe tbody tr th {\n        vertical-align: top;\n    }\n\n    .dataframe thead th {\n        text-align: right;\n    }\n</style>\n<table border=\"1\" class=\"dataframe\">\n  <thead>\n    <tr style=\"text-align: right;\">\n      <th></th>\n      <th>Closing Price</th>\n      <th>Volume</th>\n    </tr>\n    <tr>\n      <th>Date</th>\n      <th></th>\n      <th></th>\n    </tr>\n  </thead>\n  <tbody>\n    <tr>\n      <th>2019-01-08 16:00:00</th>\n      <td>139.83</td>\n      <td>19650429</td>\n    </tr>\n    <tr>\n      <th>2019-01-09 16:00:00</th>\n      <td>142.58</td>\n      <td>15431475</td>\n    </tr>\n    <tr>\n      <th>2019-01-10 16:00:00</th>\n      <td>145.23</td>\n      <td>13078906</td>\n    </tr>\n    <tr>\n      <th>2019-01-11 16:00:00</th>\n      <td>148.83</td>\n      <td>21869066</td>\n    </tr>\n    <tr>\n      <th>2019-01-14 16:00:00</th>\n      <td>150.44</td>\n      <td>18254249</td>\n    </tr>\n  </tbody>\n</table>\n</div>"
     },
     "metadata": {},
     "execution_count": 3
    }
   ],
   "source": [
    "# Load NFLX Data\n",
    "df = pd.read_csv('../Data/Cleandata/Rawdata/nvda_data.csv', index_col=\"Date\", infer_datetime_format=True, parse_dates=True)\n",
    "\n",
    "df.head()"
   ]
  },
  {
   "cell_type": "code",
   "execution_count": 4,
   "metadata": {},
   "outputs": [],
   "source": [
    "# This function accepts the column number for the features (X) and the target (y)\n",
    "# It chunks the data up with a rolling window of Xt-n to predict Xt\n",
    "# It returns a numpy array of X any y\n",
    "def window_data(df, window, feature_col_number, target_col_number):\n",
    "    X = []\n",
    "    y = []\n",
    "    for i in range(len(df) - window - 1):\n",
    "        features = df.iloc[i:(i + window), feature_col_number]\n",
    "        target = df.iloc[(i + window), target_col_number]\n",
    "        X.append(features)\n",
    "        y.append(target)\n",
    "    return np.array(X), np.array(y).reshape(-1, 1)"
   ]
  },
  {
   "cell_type": "code",
   "execution_count": 5,
   "metadata": {},
   "outputs": [],
   "source": [
    "# Predict Closing Prices using a 10 day window of previous closing prices\n",
    "# Then, experiment with window sizes anywhere from 1 to 10 and see how the model performance changes\n",
    "window_size = 5\n",
    "\n",
    "# Column index 0 is the 'Close' column\n",
    "# Column index 1 is the `Volume` column\n",
    "feature_column = 0\n",
    "target_column = 0\n",
    "X, y = window_data(df, window_size, feature_column, target_column)"
   ]
  },
  {
   "cell_type": "code",
   "execution_count": 6,
   "metadata": {},
   "outputs": [],
   "source": [
    "# Use 70% of the data for training and the remaineder for testing\n",
    "split = int(0.7 * len(X))\n",
    "\n",
    "X_train = X[: split]\n",
    "X_test = X[: split]\n",
    "\n",
    "y_train = y[: split]\n",
    "y_test = y[: split]"
   ]
  },
  {
   "cell_type": "code",
   "execution_count": 7,
   "metadata": {},
   "outputs": [],
   "source": [
    "from sklearn.preprocessing import MinMaxScaler\n",
    "# Use the MinMaxScaler to scale data between 0 and 1.\n",
    "# YOUR CODE HERE!\n",
    "scaler = MinMaxScaler()\n",
    "\n",
    "scaler.fit(X)\n",
    "\n",
    "X_train = scaler.transform(X_train)\n",
    "X_test = scaler.transform(X_test)\n",
    "\n",
    "scaler.fit(y)\n",
    "\n",
    "y_train = scaler.transform(y_train)\n",
    "y_test = scaler.transform(y_test)"
   ]
  },
  {
   "cell_type": "code",
   "execution_count": 8,
   "metadata": {},
   "outputs": [
    {
     "output_type": "stream",
     "name": "stdout",
     "text": [
      "X_train sample values:\n[[[0.01825319]\n  [0.02435238]\n  [0.03022977]\n  [0.03821416]\n  [0.04178495]]\n\n [[0.02435238]\n  [0.03022977]\n  [0.03821416]\n  [0.04178495]\n  [0.04052076]]\n\n [[0.03022977]\n  [0.03821416]\n  [0.04178495]\n  [0.04052076]\n  [0.03823634]]\n\n [[0.03821416]\n  [0.04178495]\n  [0.04052076]\n  [0.03823634]\n  [0.04462385]]\n\n [[0.04178495]\n  [0.04052076]\n  [0.03823634]\n  [0.04462385]\n  [0.05617903]]] \n\nX_test sample values:\n[[[0.01825319]\n  [0.02435238]\n  [0.03022977]\n  [0.03821416]\n  [0.04178495]]\n\n [[0.02435238]\n  [0.03022977]\n  [0.03821416]\n  [0.04178495]\n  [0.04052076]]\n\n [[0.03022977]\n  [0.03821416]\n  [0.04178495]\n  [0.04052076]\n  [0.03823634]]\n\n [[0.03821416]\n  [0.04178495]\n  [0.04052076]\n  [0.03823634]\n  [0.04462385]]\n\n [[0.04178495]\n  [0.04052076]\n  [0.03823634]\n  [0.04462385]\n  [0.05617903]]]\n"
     ]
    }
   ],
   "source": [
    "# Reshape the features for the model\n",
    "X_train = X_train.reshape((X_train.shape[0], X_train.shape[1], 1))\n",
    "X_test = X_test.reshape((X_test.shape[0], X_test.shape[1], 1))\n",
    "print (f\"X_train sample values:\\n{X_train[:5]} \\n\")\n",
    "print (f\"X_test sample values:\\n{X_test[:5]}\")"
   ]
  },
  {
   "cell_type": "markdown",
   "metadata": {},
   "source": [
    "---"
   ]
  },
  {
   "cell_type": "markdown",
   "metadata": {},
   "source": [
    "## Build and Train the LSTM RNN\n",
    "\n",
    "In this section, you will design a custom LSTM RNN and fit (train) it using the training data.\n",
    "\n",
    "You will need to:\n",
    "1. Define the model architecture\n",
    "2. Compile the model\n",
    "3. Fit the model to the training data\n",
    "\n",
    "### Hints:\n",
    "You will want to use the same model architecture and random seed for both notebooks. This is necessary to accurately compare the performance of the FNG model vs the closing price model. "
   ]
  },
  {
   "cell_type": "code",
   "execution_count": 9,
   "metadata": {},
   "outputs": [],
   "source": [
    "from tensorflow.keras.models import Sequential\n",
    "from tensorflow.keras.layers import LSTM, Dense, Dropout"
   ]
  },
  {
   "cell_type": "code",
   "execution_count": 10,
   "metadata": {},
   "outputs": [],
   "source": [
    "# Build the LSTM model. \n",
    "# The return sequences need to be set to True if you are adding additional LSTM layers, but \n",
    "# You don't have to do this for the final layer. \n",
    "# Note: The dropouts help prevent overfitting\n",
    "# Note: The input shape is the number of time steps and the number of indicators\n",
    "# Note: Batching inputs has a different input shape of Samples/TimeSteps/Features\n",
    "\n",
    "model = Sequential()\n",
    "\n",
    "number_units = 30\n",
    "dropout_fraction = 0.2\n",
    "\n",
    "#layer 1\n",
    "model.add(LSTM(\n",
    "    units=number_units,\n",
    "    return_sequences=True,\n",
    "    input_shape=(X_train.shape[1], 1)\n",
    "))\n",
    "model.add(Dropout(dropout_fraction))\n",
    "\n",
    "#layer 2\n",
    "model.add(LSTM(units=number_units, return_sequences=True))\n",
    "model.add(Dropout(dropout_fraction))\n",
    "\n",
    "#layer 3\n",
    "model.add(LSTM(units=number_units))\n",
    "model.add(Dropout(dropout_fraction))\n",
    "\n",
    "model.add(Dense(1))"
   ]
  },
  {
   "cell_type": "code",
   "execution_count": 11,
   "metadata": {},
   "outputs": [],
   "source": [
    "# Compile the model\n",
    "model.compile(optimizer=\"adam\", loss=\"mean_squared_error\")"
   ]
  },
  {
   "cell_type": "code",
   "execution_count": 12,
   "metadata": {},
   "outputs": [
    {
     "output_type": "stream",
     "name": "stdout",
     "text": [
      "Model: \"sequential\"\n_________________________________________________________________\nLayer (type)                 Output Shape              Param #   \n=================================================================\nlstm (LSTM)                  (None, 5, 30)             3840      \n_________________________________________________________________\ndropout (Dropout)            (None, 5, 30)             0         \n_________________________________________________________________\nlstm_1 (LSTM)                (None, 5, 30)             7320      \n_________________________________________________________________\ndropout_1 (Dropout)          (None, 5, 30)             0         \n_________________________________________________________________\nlstm_2 (LSTM)                (None, 30)                7320      \n_________________________________________________________________\ndropout_2 (Dropout)          (None, 30)                0         \n_________________________________________________________________\ndense (Dense)                (None, 1)                 31        \n=================================================================\nTotal params: 18,511\nTrainable params: 18,511\nNon-trainable params: 0\n_________________________________________________________________\n"
     ]
    }
   ],
   "source": [
    "# Summarize the model\n",
    "model.summary()"
   ]
  },
  {
   "cell_type": "code",
   "execution_count": 13,
   "metadata": {},
   "outputs": [
    {
     "output_type": "stream",
     "name": "stdout",
     "text": [
      "Epoch 1/30\n",
      "4/4 [==============================] - 4s 10ms/step - loss: 0.0194\n",
      "Epoch 2/30\n",
      "4/4 [==============================] - 0s 10ms/step - loss: 0.0131\n",
      "Epoch 3/30\n",
      "4/4 [==============================] - 0s 9ms/step - loss: 0.0086\n",
      "Epoch 4/30\n",
      "4/4 [==============================] - 0s 9ms/step - loss: 0.0063\n",
      "Epoch 5/30\n",
      "4/4 [==============================] - 0s 9ms/step - loss: 0.0067\n",
      "Epoch 6/30\n",
      "4/4 [==============================] - 0s 9ms/step - loss: 0.0100\n",
      "Epoch 7/30\n",
      "4/4 [==============================] - 0s 8ms/step - loss: 0.0122\n",
      "Epoch 8/30\n",
      "4/4 [==============================] - 0s 7ms/step - loss: 0.0126\n",
      "Epoch 9/30\n",
      "4/4 [==============================] - 0s 9ms/step - loss: 0.0112\n",
      "Epoch 10/30\n",
      "4/4 [==============================] - 0s 7ms/step - loss: 0.0094\n",
      "Epoch 11/30\n",
      "4/4 [==============================] - 0s 7ms/step - loss: 0.0083\n",
      "Epoch 12/30\n",
      "4/4 [==============================] - 0s 7ms/step - loss: 0.0073\n",
      "Epoch 13/30\n",
      "4/4 [==============================] - 0s 7ms/step - loss: 0.0065\n",
      "Epoch 14/30\n",
      "4/4 [==============================] - 0s 7ms/step - loss: 0.0060\n",
      "Epoch 15/30\n",
      "4/4 [==============================] - 0s 7ms/step - loss: 0.0053\n",
      "Epoch 16/30\n",
      "4/4 [==============================] - 0s 6ms/step - loss: 0.0057\n",
      "Epoch 17/30\n",
      "4/4 [==============================] - 0s 6ms/step - loss: 0.0050\n",
      "Epoch 18/30\n",
      "4/4 [==============================] - 0s 7ms/step - loss: 0.0046\n",
      "Epoch 19/30\n",
      "4/4 [==============================] - 0s 7ms/step - loss: 0.0036\n",
      "Epoch 20/30\n",
      "4/4 [==============================] - 0s 6ms/step - loss: 0.0027\n",
      "Epoch 21/30\n",
      "4/4 [==============================] - 0s 6ms/step - loss: 0.0020\n",
      "Epoch 22/30\n",
      "4/4 [==============================] - 0s 6ms/step - loss: 0.0014\n",
      "Epoch 23/30\n",
      "4/4 [==============================] - 0s 6ms/step - loss: 0.0010\n",
      "Epoch 24/30\n",
      "4/4 [==============================] - 0s 7ms/step - loss: 7.6136e-04\n",
      "Epoch 25/30\n",
      "4/4 [==============================] - 0s 6ms/step - loss: 9.0029e-04\n",
      "Epoch 26/30\n",
      "4/4 [==============================] - 0s 6ms/step - loss: 7.8281e-04\n",
      "Epoch 27/30\n",
      "4/4 [==============================] - 0s 6ms/step - loss: 7.9254e-04\n",
      "Epoch 28/30\n",
      "4/4 [==============================] - 0s 6ms/step - loss: 8.3922e-04\n",
      "Epoch 29/30\n",
      "4/4 [==============================] - 0s 6ms/step - loss: 9.0093e-04\n",
      "Epoch 30/30\n",
      "4/4 [==============================] - 0s 6ms/step - loss: 8.0288e-04\n"
     ]
    },
    {
     "output_type": "execute_result",
     "data": {
      "text/plain": [
       "<tensorflow.python.keras.callbacks.History at 0x2b1327bef10>"
      ]
     },
     "metadata": {},
     "execution_count": 13
    }
   ],
   "source": [
    "# Train the model\n",
    "# Use at least 10 epochs\n",
    "# Do not shuffle the data\n",
    "# Experiement with the batch size, but a smaller batch size is recommended\n",
    "model.fit(X_train, y_train, epochs=30, shuffle=False, batch_size=90, verbose=1)"
   ]
  },
  {
   "cell_type": "markdown",
   "metadata": {},
   "source": [
    "---"
   ]
  },
  {
   "cell_type": "markdown",
   "metadata": {},
   "source": [
    "## Model Performance\n",
    "\n",
    "In this section, you will evaluate the model using the test data. \n",
    "\n",
    "You will need to:\n",
    "1. Evaluate the model using the `X_test` and `y_test` data.\n",
    "2. Use the X_test data to make predictions\n",
    "3. Create a DataFrame of Real (y_test) vs predicted values. \n",
    "4. Plot the Real vs predicted values as a line chart\n",
    "\n",
    "### Hints\n",
    "Remember to apply the `inverse_transform` function to the predicted and y_test values to recover the actual closing prices."
   ]
  },
  {
   "cell_type": "code",
   "execution_count": 14,
   "metadata": {},
   "outputs": [
    {
     "output_type": "stream",
     "name": "stdout",
     "text": [
      "11/11 [==============================] - 1s 3ms/step - loss: 7.6373e-04\n"
     ]
    },
    {
     "output_type": "execute_result",
     "data": {
      "text/plain": [
       "0.000763731193728745"
      ]
     },
     "metadata": {},
     "execution_count": 14
    }
   ],
   "source": [
    "# Evaluate the model\n",
    "model.evaluate(X_test, y_test)"
   ]
  },
  {
   "cell_type": "code",
   "execution_count": 15,
   "metadata": {},
   "outputs": [],
   "source": [
    "# Make some predictions\n",
    "predicted = model.predict(X_test)"
   ]
  },
  {
   "cell_type": "code",
   "execution_count": 16,
   "metadata": {},
   "outputs": [],
   "source": [
    "# Recover the original prices instead of the scaled version\n",
    "predicted_prices = scaler.inverse_transform(predicted)\n",
    "real_prices = scaler.inverse_transform(y_test.reshape(-1, 1))"
   ]
  },
  {
   "cell_type": "code",
   "execution_count": 17,
   "metadata": {},
   "outputs": [
    {
     "output_type": "execute_result",
     "data": {
      "text/plain": [
       "                       Real   Predicted\n",
       "Date                                   \n",
       "2020-12-31 16:00:00  339.48  365.716614\n",
       "2021-01-04 16:00:00  355.02  364.687256\n",
       "2021-01-05 16:00:00  352.25  363.732269\n",
       "2021-01-06 16:00:00  353.01  356.534485\n",
       "2021-01-07 16:00:00  350.78  355.702148"
      ],
      "text/html": "<div>\n<style scoped>\n    .dataframe tbody tr th:only-of-type {\n        vertical-align: middle;\n    }\n\n    .dataframe tbody tr th {\n        vertical-align: top;\n    }\n\n    .dataframe thead th {\n        text-align: right;\n    }\n</style>\n<table border=\"1\" class=\"dataframe\">\n  <thead>\n    <tr style=\"text-align: right;\">\n      <th></th>\n      <th>Real</th>\n      <th>Predicted</th>\n    </tr>\n    <tr>\n      <th>Date</th>\n      <th></th>\n      <th></th>\n    </tr>\n  </thead>\n  <tbody>\n    <tr>\n      <th>2020-12-31 16:00:00</th>\n      <td>339.48</td>\n      <td>365.716614</td>\n    </tr>\n    <tr>\n      <th>2021-01-04 16:00:00</th>\n      <td>355.02</td>\n      <td>364.687256</td>\n    </tr>\n    <tr>\n      <th>2021-01-05 16:00:00</th>\n      <td>352.25</td>\n      <td>363.732269</td>\n    </tr>\n    <tr>\n      <th>2021-01-06 16:00:00</th>\n      <td>353.01</td>\n      <td>356.534485</td>\n    </tr>\n    <tr>\n      <th>2021-01-07 16:00:00</th>\n      <td>350.78</td>\n      <td>355.702148</td>\n    </tr>\n  </tbody>\n</table>\n</div>"
     },
     "metadata": {},
     "execution_count": 17
    }
   ],
   "source": [
    "# Create a DataFrame of Real and Predicted values\n",
    "stocks = pd.DataFrame({\n",
    "    \"Real\": real_prices.ravel(),\n",
    "    \"Predicted\": predicted_prices.ravel(),\n",
    "}, index = df.index[-len(real_prices): ]) \n",
    "stocks.tail()"
   ]
  },
  {
   "cell_type": "code",
   "execution_count": 18,
   "metadata": {},
   "outputs": [],
   "source": [
    "stocks.to_csv('../Data/Cleandata/LSTM_NVDA.csv')"
   ]
  },
  {
   "cell_type": "code",
   "execution_count": 19,
   "metadata": {},
   "outputs": [
    {
     "output_type": "execute_result",
     "data": {
      "text/plain": [
       "<AxesSubplot:xlabel='Date'>"
      ]
     },
     "metadata": {},
     "execution_count": 19
    },
    {
     "output_type": "display_data",
     "data": {
      "text/plain": "<Figure size 432x288 with 1 Axes>",
      "image/svg+xml": "<?xml version=\"1.0\" encoding=\"utf-8\" standalone=\"no\"?>\r\n<!DOCTYPE svg PUBLIC \"-//W3C//DTD SVG 1.1//EN\"\r\n  \"http://www.w3.org/Graphics/SVG/1.1/DTD/svg11.dtd\">\r\n<!-- Created with matplotlib (https://matplotlib.org/) -->\r\n<svg height=\"260.191033pt\" version=\"1.1\" viewBox=\"0 0 375.2875 260.191033\" width=\"375.2875pt\" xmlns=\"http://www.w3.org/2000/svg\" xmlns:xlink=\"http://www.w3.org/1999/xlink\">\r\n <metadata>\r\n  <rdf:RDF xmlns:cc=\"http://creativecommons.org/ns#\" xmlns:dc=\"http://purl.org/dc/elements/1.1/\" xmlns:rdf=\"http://www.w3.org/1999/02/22-rdf-syntax-ns#\">\r\n   <cc:Work>\r\n    <dc:type rdf:resource=\"http://purl.org/dc/dcmitype/StillImage\"/>\r\n    <dc:date>2021-01-16T02:20:05.016452</dc:date>\r\n    <dc:format>image/svg+xml</dc:format>\r\n    <dc:creator>\r\n     <cc:Agent>\r\n      <dc:title>Matplotlib v3.3.3, https://matplotlib.org/</dc:title>\r\n     </cc:Agent>\r\n    </dc:creator>\r\n   </cc:Work>\r\n  </rdf:RDF>\r\n </metadata>\r\n <defs>\r\n  <style type=\"text/css\">*{stroke-linecap:butt;stroke-linejoin:round;}</style>\r\n </defs>\r\n <g id=\"figure_1\">\r\n  <g id=\"patch_1\">\r\n   <path d=\"M 0 260.191033 \r\nL 375.2875 260.191033 \r\nL 375.2875 0 \r\nL 0 0 \r\nz\r\n\" style=\"fill:none;\"/>\r\n  </g>\r\n  <g id=\"axes_1\">\r\n   <g id=\"patch_2\">\r\n    <path d=\"M 33.2875 203.04 \r\nL 368.0875 203.04 \r\nL 368.0875 7.2 \r\nL 33.2875 7.2 \r\nz\r\n\" style=\"fill:#ffffff;\"/>\r\n   </g>\r\n   <g id=\"matplotlib.axis_1\">\r\n    <g id=\"xtick_1\">\r\n     <g id=\"line2d_1\">\r\n      <defs>\r\n       <path d=\"M 0 0 \r\nL 0 3.5 \r\n\" id=\"m421f636fd4\" style=\"stroke:#000000;stroke-width:0.8;\"/>\r\n      </defs>\r\n      <g>\r\n       <use style=\"stroke:#000000;stroke-width:0.8;\" x=\"54.733585\" xlink:href=\"#m421f636fd4\" y=\"203.04\"/>\r\n      </g>\r\n     </g>\r\n     <g id=\"text_1\">\r\n      <!-- 2019-09 -->\r\n      <g transform=\"translate(17.508764 237.511846)rotate(-30)scale(0.1 -0.1)\">\r\n       <defs>\r\n        <path d=\"M 19.1875 8.296875 \r\nL 53.609375 8.296875 \r\nL 53.609375 0 \r\nL 7.328125 0 \r\nL 7.328125 8.296875 \r\nQ 12.9375 14.109375 22.625 23.890625 \r\nQ 32.328125 33.6875 34.8125 36.53125 \r\nQ 39.546875 41.84375 41.421875 45.53125 \r\nQ 43.3125 49.21875 43.3125 52.78125 \r\nQ 43.3125 58.59375 39.234375 62.25 \r\nQ 35.15625 65.921875 28.609375 65.921875 \r\nQ 23.96875 65.921875 18.8125 64.3125 \r\nQ 13.671875 62.703125 7.8125 59.421875 \r\nL 7.8125 69.390625 \r\nQ 13.765625 71.78125 18.9375 73 \r\nQ 24.125 74.21875 28.421875 74.21875 \r\nQ 39.75 74.21875 46.484375 68.546875 \r\nQ 53.21875 62.890625 53.21875 53.421875 \r\nQ 53.21875 48.921875 51.53125 44.890625 \r\nQ 49.859375 40.875 45.40625 35.40625 \r\nQ 44.1875 33.984375 37.640625 27.21875 \r\nQ 31.109375 20.453125 19.1875 8.296875 \r\nz\r\n\" id=\"DejaVuSans-50\"/>\r\n        <path d=\"M 31.78125 66.40625 \r\nQ 24.171875 66.40625 20.328125 58.90625 \r\nQ 16.5 51.421875 16.5 36.375 \r\nQ 16.5 21.390625 20.328125 13.890625 \r\nQ 24.171875 6.390625 31.78125 6.390625 \r\nQ 39.453125 6.390625 43.28125 13.890625 \r\nQ 47.125 21.390625 47.125 36.375 \r\nQ 47.125 51.421875 43.28125 58.90625 \r\nQ 39.453125 66.40625 31.78125 66.40625 \r\nz\r\nM 31.78125 74.21875 \r\nQ 44.046875 74.21875 50.515625 64.515625 \r\nQ 56.984375 54.828125 56.984375 36.375 \r\nQ 56.984375 17.96875 50.515625 8.265625 \r\nQ 44.046875 -1.421875 31.78125 -1.421875 \r\nQ 19.53125 -1.421875 13.0625 8.265625 \r\nQ 6.59375 17.96875 6.59375 36.375 \r\nQ 6.59375 54.828125 13.0625 64.515625 \r\nQ 19.53125 74.21875 31.78125 74.21875 \r\nz\r\n\" id=\"DejaVuSans-48\"/>\r\n        <path d=\"M 12.40625 8.296875 \r\nL 28.515625 8.296875 \r\nL 28.515625 63.921875 \r\nL 10.984375 60.40625 \r\nL 10.984375 69.390625 \r\nL 28.421875 72.90625 \r\nL 38.28125 72.90625 \r\nL 38.28125 8.296875 \r\nL 54.390625 8.296875 \r\nL 54.390625 0 \r\nL 12.40625 0 \r\nz\r\n\" id=\"DejaVuSans-49\"/>\r\n        <path d=\"M 10.984375 1.515625 \r\nL 10.984375 10.5 \r\nQ 14.703125 8.734375 18.5 7.8125 \r\nQ 22.3125 6.890625 25.984375 6.890625 \r\nQ 35.75 6.890625 40.890625 13.453125 \r\nQ 46.046875 20.015625 46.78125 33.40625 \r\nQ 43.953125 29.203125 39.59375 26.953125 \r\nQ 35.25 24.703125 29.984375 24.703125 \r\nQ 19.046875 24.703125 12.671875 31.3125 \r\nQ 6.296875 37.9375 6.296875 49.421875 \r\nQ 6.296875 60.640625 12.9375 67.421875 \r\nQ 19.578125 74.21875 30.609375 74.21875 \r\nQ 43.265625 74.21875 49.921875 64.515625 \r\nQ 56.59375 54.828125 56.59375 36.375 \r\nQ 56.59375 19.140625 48.40625 8.859375 \r\nQ 40.234375 -1.421875 26.421875 -1.421875 \r\nQ 22.703125 -1.421875 18.890625 -0.6875 \r\nQ 15.09375 0.046875 10.984375 1.515625 \r\nz\r\nM 30.609375 32.421875 \r\nQ 37.25 32.421875 41.125 36.953125 \r\nQ 45.015625 41.5 45.015625 49.421875 \r\nQ 45.015625 57.28125 41.125 61.84375 \r\nQ 37.25 66.40625 30.609375 66.40625 \r\nQ 23.96875 66.40625 20.09375 61.84375 \r\nQ 16.21875 57.28125 16.21875 49.421875 \r\nQ 16.21875 41.5 20.09375 36.953125 \r\nQ 23.96875 32.421875 30.609375 32.421875 \r\nz\r\n\" id=\"DejaVuSans-57\"/>\r\n        <path d=\"M 4.890625 31.390625 \r\nL 31.203125 31.390625 \r\nL 31.203125 23.390625 \r\nL 4.890625 23.390625 \r\nz\r\n\" id=\"DejaVuSans-45\"/>\r\n       </defs>\r\n       <use xlink:href=\"#DejaVuSans-50\"/>\r\n       <use x=\"63.623047\" xlink:href=\"#DejaVuSans-48\"/>\r\n       <use x=\"127.246094\" xlink:href=\"#DejaVuSans-49\"/>\r\n       <use x=\"190.869141\" xlink:href=\"#DejaVuSans-57\"/>\r\n       <use x=\"254.492188\" xlink:href=\"#DejaVuSans-45\"/>\r\n       <use x=\"290.576172\" xlink:href=\"#DejaVuSans-48\"/>\r\n       <use x=\"354.199219\" xlink:href=\"#DejaVuSans-57\"/>\r\n      </g>\r\n     </g>\r\n    </g>\r\n    <g id=\"xtick_2\">\r\n     <g id=\"line2d_2\">\r\n      <g>\r\n       <use style=\"stroke:#000000;stroke-width:0.8;\" x=\"91.498301\" xlink:href=\"#m421f636fd4\" y=\"203.04\"/>\r\n      </g>\r\n     </g>\r\n     <g id=\"text_2\">\r\n      <!-- 2019-11 -->\r\n      <g transform=\"translate(54.27348 237.511846)rotate(-30)scale(0.1 -0.1)\">\r\n       <use xlink:href=\"#DejaVuSans-50\"/>\r\n       <use x=\"63.623047\" xlink:href=\"#DejaVuSans-48\"/>\r\n       <use x=\"127.246094\" xlink:href=\"#DejaVuSans-49\"/>\r\n       <use x=\"190.869141\" xlink:href=\"#DejaVuSans-57\"/>\r\n       <use x=\"254.492188\" xlink:href=\"#DejaVuSans-45\"/>\r\n       <use x=\"290.576172\" xlink:href=\"#DejaVuSans-49\"/>\r\n       <use x=\"354.199219\" xlink:href=\"#DejaVuSans-49\"/>\r\n      </g>\r\n     </g>\r\n    </g>\r\n    <g id=\"xtick_3\">\r\n     <g id=\"line2d_3\">\r\n      <g>\r\n       <use style=\"stroke:#000000;stroke-width:0.8;\" x=\"128.263018\" xlink:href=\"#m421f636fd4\" y=\"203.04\"/>\r\n      </g>\r\n     </g>\r\n     <g id=\"text_3\">\r\n      <!-- 2020-01 -->\r\n      <g transform=\"translate(91.038197 237.511846)rotate(-30)scale(0.1 -0.1)\">\r\n       <use xlink:href=\"#DejaVuSans-50\"/>\r\n       <use x=\"63.623047\" xlink:href=\"#DejaVuSans-48\"/>\r\n       <use x=\"127.246094\" xlink:href=\"#DejaVuSans-50\"/>\r\n       <use x=\"190.869141\" xlink:href=\"#DejaVuSans-48\"/>\r\n       <use x=\"254.492188\" xlink:href=\"#DejaVuSans-45\"/>\r\n       <use x=\"290.576172\" xlink:href=\"#DejaVuSans-48\"/>\r\n       <use x=\"354.199219\" xlink:href=\"#DejaVuSans-49\"/>\r\n      </g>\r\n     </g>\r\n    </g>\r\n    <g id=\"xtick_4\">\r\n     <g id=\"line2d_4\">\r\n      <g>\r\n       <use style=\"stroke:#000000;stroke-width:0.8;\" x=\"164.425034\" xlink:href=\"#m421f636fd4\" y=\"203.04\"/>\r\n      </g>\r\n     </g>\r\n     <g id=\"text_4\">\r\n      <!-- 2020-03 -->\r\n      <g transform=\"translate(127.200213 237.511846)rotate(-30)scale(0.1 -0.1)\">\r\n       <defs>\r\n        <path d=\"M 40.578125 39.3125 \r\nQ 47.65625 37.796875 51.625 33 \r\nQ 55.609375 28.21875 55.609375 21.1875 \r\nQ 55.609375 10.40625 48.1875 4.484375 \r\nQ 40.765625 -1.421875 27.09375 -1.421875 \r\nQ 22.515625 -1.421875 17.65625 -0.515625 \r\nQ 12.796875 0.390625 7.625 2.203125 \r\nL 7.625 11.71875 \r\nQ 11.71875 9.328125 16.59375 8.109375 \r\nQ 21.484375 6.890625 26.8125 6.890625 \r\nQ 36.078125 6.890625 40.9375 10.546875 \r\nQ 45.796875 14.203125 45.796875 21.1875 \r\nQ 45.796875 27.640625 41.28125 31.265625 \r\nQ 36.765625 34.90625 28.71875 34.90625 \r\nL 20.21875 34.90625 \r\nL 20.21875 43.015625 \r\nL 29.109375 43.015625 \r\nQ 36.375 43.015625 40.234375 45.921875 \r\nQ 44.09375 48.828125 44.09375 54.296875 \r\nQ 44.09375 59.90625 40.109375 62.90625 \r\nQ 36.140625 65.921875 28.71875 65.921875 \r\nQ 24.65625 65.921875 20.015625 65.03125 \r\nQ 15.375 64.15625 9.8125 62.3125 \r\nL 9.8125 71.09375 \r\nQ 15.4375 72.65625 20.34375 73.4375 \r\nQ 25.25 74.21875 29.59375 74.21875 \r\nQ 40.828125 74.21875 47.359375 69.109375 \r\nQ 53.90625 64.015625 53.90625 55.328125 \r\nQ 53.90625 49.265625 50.4375 45.09375 \r\nQ 46.96875 40.921875 40.578125 39.3125 \r\nz\r\n\" id=\"DejaVuSans-51\"/>\r\n       </defs>\r\n       <use xlink:href=\"#DejaVuSans-50\"/>\r\n       <use x=\"63.623047\" xlink:href=\"#DejaVuSans-48\"/>\r\n       <use x=\"127.246094\" xlink:href=\"#DejaVuSans-50\"/>\r\n       <use x=\"190.869141\" xlink:href=\"#DejaVuSans-48\"/>\r\n       <use x=\"254.492188\" xlink:href=\"#DejaVuSans-45\"/>\r\n       <use x=\"290.576172\" xlink:href=\"#DejaVuSans-48\"/>\r\n       <use x=\"354.199219\" xlink:href=\"#DejaVuSans-51\"/>\r\n      </g>\r\n     </g>\r\n    </g>\r\n    <g id=\"xtick_5\">\r\n     <g id=\"line2d_5\">\r\n      <g>\r\n       <use style=\"stroke:#000000;stroke-width:0.8;\" x=\"201.18975\" xlink:href=\"#m421f636fd4\" y=\"203.04\"/>\r\n      </g>\r\n     </g>\r\n     <g id=\"text_5\">\r\n      <!-- 2020-05 -->\r\n      <g transform=\"translate(163.964929 237.511846)rotate(-30)scale(0.1 -0.1)\">\r\n       <defs>\r\n        <path d=\"M 10.796875 72.90625 \r\nL 49.515625 72.90625 \r\nL 49.515625 64.59375 \r\nL 19.828125 64.59375 \r\nL 19.828125 46.734375 \r\nQ 21.96875 47.46875 24.109375 47.828125 \r\nQ 26.265625 48.1875 28.421875 48.1875 \r\nQ 40.625 48.1875 47.75 41.5 \r\nQ 54.890625 34.8125 54.890625 23.390625 \r\nQ 54.890625 11.625 47.5625 5.09375 \r\nQ 40.234375 -1.421875 26.90625 -1.421875 \r\nQ 22.3125 -1.421875 17.546875 -0.640625 \r\nQ 12.796875 0.140625 7.71875 1.703125 \r\nL 7.71875 11.625 \r\nQ 12.109375 9.234375 16.796875 8.0625 \r\nQ 21.484375 6.890625 26.703125 6.890625 \r\nQ 35.15625 6.890625 40.078125 11.328125 \r\nQ 45.015625 15.765625 45.015625 23.390625 \r\nQ 45.015625 31 40.078125 35.4375 \r\nQ 35.15625 39.890625 26.703125 39.890625 \r\nQ 22.75 39.890625 18.8125 39.015625 \r\nQ 14.890625 38.140625 10.796875 36.28125 \r\nz\r\n\" id=\"DejaVuSans-53\"/>\r\n       </defs>\r\n       <use xlink:href=\"#DejaVuSans-50\"/>\r\n       <use x=\"63.623047\" xlink:href=\"#DejaVuSans-48\"/>\r\n       <use x=\"127.246094\" xlink:href=\"#DejaVuSans-50\"/>\r\n       <use x=\"190.869141\" xlink:href=\"#DejaVuSans-48\"/>\r\n       <use x=\"254.492188\" xlink:href=\"#DejaVuSans-45\"/>\r\n       <use x=\"290.576172\" xlink:href=\"#DejaVuSans-48\"/>\r\n       <use x=\"354.199219\" xlink:href=\"#DejaVuSans-53\"/>\r\n      </g>\r\n     </g>\r\n    </g>\r\n    <g id=\"xtick_6\">\r\n     <g id=\"line2d_6\">\r\n      <g>\r\n       <use style=\"stroke:#000000;stroke-width:0.8;\" x=\"237.954467\" xlink:href=\"#m421f636fd4\" y=\"203.04\"/>\r\n      </g>\r\n     </g>\r\n     <g id=\"text_6\">\r\n      <!-- 2020-07 -->\r\n      <g transform=\"translate(200.729646 237.511846)rotate(-30)scale(0.1 -0.1)\">\r\n       <defs>\r\n        <path d=\"M 8.203125 72.90625 \r\nL 55.078125 72.90625 \r\nL 55.078125 68.703125 \r\nL 28.609375 0 \r\nL 18.3125 0 \r\nL 43.21875 64.59375 \r\nL 8.203125 64.59375 \r\nz\r\n\" id=\"DejaVuSans-55\"/>\r\n       </defs>\r\n       <use xlink:href=\"#DejaVuSans-50\"/>\r\n       <use x=\"63.623047\" xlink:href=\"#DejaVuSans-48\"/>\r\n       <use x=\"127.246094\" xlink:href=\"#DejaVuSans-50\"/>\r\n       <use x=\"190.869141\" xlink:href=\"#DejaVuSans-48\"/>\r\n       <use x=\"254.492188\" xlink:href=\"#DejaVuSans-45\"/>\r\n       <use x=\"290.576172\" xlink:href=\"#DejaVuSans-48\"/>\r\n       <use x=\"354.199219\" xlink:href=\"#DejaVuSans-55\"/>\r\n      </g>\r\n     </g>\r\n    </g>\r\n    <g id=\"xtick_7\">\r\n     <g id=\"line2d_7\">\r\n      <g>\r\n       <use style=\"stroke:#000000;stroke-width:0.8;\" x=\"275.321883\" xlink:href=\"#m421f636fd4\" y=\"203.04\"/>\r\n      </g>\r\n     </g>\r\n     <g id=\"text_7\">\r\n      <!-- 2020-09 -->\r\n      <g transform=\"translate(238.097063 237.511846)rotate(-30)scale(0.1 -0.1)\">\r\n       <use xlink:href=\"#DejaVuSans-50\"/>\r\n       <use x=\"63.623047\" xlink:href=\"#DejaVuSans-48\"/>\r\n       <use x=\"127.246094\" xlink:href=\"#DejaVuSans-50\"/>\r\n       <use x=\"190.869141\" xlink:href=\"#DejaVuSans-48\"/>\r\n       <use x=\"254.492188\" xlink:href=\"#DejaVuSans-45\"/>\r\n       <use x=\"290.576172\" xlink:href=\"#DejaVuSans-48\"/>\r\n       <use x=\"354.199219\" xlink:href=\"#DejaVuSans-57\"/>\r\n      </g>\r\n     </g>\r\n    </g>\r\n    <g id=\"xtick_8\">\r\n     <g id=\"line2d_8\">\r\n      <g>\r\n       <use style=\"stroke:#000000;stroke-width:0.8;\" x=\"312.0866\" xlink:href=\"#m421f636fd4\" y=\"203.04\"/>\r\n      </g>\r\n     </g>\r\n     <g id=\"text_8\">\r\n      <!-- 2020-11 -->\r\n      <g transform=\"translate(274.861779 237.511846)rotate(-30)scale(0.1 -0.1)\">\r\n       <use xlink:href=\"#DejaVuSans-50\"/>\r\n       <use x=\"63.623047\" xlink:href=\"#DejaVuSans-48\"/>\r\n       <use x=\"127.246094\" xlink:href=\"#DejaVuSans-50\"/>\r\n       <use x=\"190.869141\" xlink:href=\"#DejaVuSans-48\"/>\r\n       <use x=\"254.492188\" xlink:href=\"#DejaVuSans-45\"/>\r\n       <use x=\"290.576172\" xlink:href=\"#DejaVuSans-49\"/>\r\n       <use x=\"354.199219\" xlink:href=\"#DejaVuSans-49\"/>\r\n      </g>\r\n     </g>\r\n    </g>\r\n    <g id=\"xtick_9\">\r\n     <g id=\"line2d_9\">\r\n      <g>\r\n       <use style=\"stroke:#000000;stroke-width:0.8;\" x=\"348.851316\" xlink:href=\"#m421f636fd4\" y=\"203.04\"/>\r\n      </g>\r\n     </g>\r\n     <g id=\"text_9\">\r\n      <!-- 2021-01 -->\r\n      <g transform=\"translate(311.626496 237.511846)rotate(-30)scale(0.1 -0.1)\">\r\n       <use xlink:href=\"#DejaVuSans-50\"/>\r\n       <use x=\"63.623047\" xlink:href=\"#DejaVuSans-48\"/>\r\n       <use x=\"127.246094\" xlink:href=\"#DejaVuSans-50\"/>\r\n       <use x=\"190.869141\" xlink:href=\"#DejaVuSans-49\"/>\r\n       <use x=\"254.492188\" xlink:href=\"#DejaVuSans-45\"/>\r\n       <use x=\"290.576172\" xlink:href=\"#DejaVuSans-48\"/>\r\n       <use x=\"354.199219\" xlink:href=\"#DejaVuSans-49\"/>\r\n      </g>\r\n     </g>\r\n    </g>\r\n    <g id=\"text_10\">\r\n     <!-- Date -->\r\n     <g transform=\"translate(188.736719 250.911346)scale(0.1 -0.1)\">\r\n      <defs>\r\n       <path d=\"M 19.671875 64.796875 \r\nL 19.671875 8.109375 \r\nL 31.59375 8.109375 \r\nQ 46.6875 8.109375 53.6875 14.9375 \r\nQ 60.6875 21.78125 60.6875 36.53125 \r\nQ 60.6875 51.171875 53.6875 57.984375 \r\nQ 46.6875 64.796875 31.59375 64.796875 \r\nz\r\nM 9.8125 72.90625 \r\nL 30.078125 72.90625 \r\nQ 51.265625 72.90625 61.171875 64.09375 \r\nQ 71.09375 55.28125 71.09375 36.53125 \r\nQ 71.09375 17.671875 61.125 8.828125 \r\nQ 51.171875 0 30.078125 0 \r\nL 9.8125 0 \r\nz\r\n\" id=\"DejaVuSans-68\"/>\r\n       <path d=\"M 34.28125 27.484375 \r\nQ 23.390625 27.484375 19.1875 25 \r\nQ 14.984375 22.515625 14.984375 16.5 \r\nQ 14.984375 11.71875 18.140625 8.90625 \r\nQ 21.296875 6.109375 26.703125 6.109375 \r\nQ 34.1875 6.109375 38.703125 11.40625 \r\nQ 43.21875 16.703125 43.21875 25.484375 \r\nL 43.21875 27.484375 \r\nz\r\nM 52.203125 31.203125 \r\nL 52.203125 0 \r\nL 43.21875 0 \r\nL 43.21875 8.296875 \r\nQ 40.140625 3.328125 35.546875 0.953125 \r\nQ 30.953125 -1.421875 24.3125 -1.421875 \r\nQ 15.921875 -1.421875 10.953125 3.296875 \r\nQ 6 8.015625 6 15.921875 \r\nQ 6 25.140625 12.171875 29.828125 \r\nQ 18.359375 34.515625 30.609375 34.515625 \r\nL 43.21875 34.515625 \r\nL 43.21875 35.40625 \r\nQ 43.21875 41.609375 39.140625 45 \r\nQ 35.0625 48.390625 27.6875 48.390625 \r\nQ 23 48.390625 18.546875 47.265625 \r\nQ 14.109375 46.140625 10.015625 43.890625 \r\nL 10.015625 52.203125 \r\nQ 14.9375 54.109375 19.578125 55.046875 \r\nQ 24.21875 56 28.609375 56 \r\nQ 40.484375 56 46.34375 49.84375 \r\nQ 52.203125 43.703125 52.203125 31.203125 \r\nz\r\n\" id=\"DejaVuSans-97\"/>\r\n       <path d=\"M 18.3125 70.21875 \r\nL 18.3125 54.6875 \r\nL 36.8125 54.6875 \r\nL 36.8125 47.703125 \r\nL 18.3125 47.703125 \r\nL 18.3125 18.015625 \r\nQ 18.3125 11.328125 20.140625 9.421875 \r\nQ 21.96875 7.515625 27.59375 7.515625 \r\nL 36.8125 7.515625 \r\nL 36.8125 0 \r\nL 27.59375 0 \r\nQ 17.1875 0 13.234375 3.875 \r\nQ 9.28125 7.765625 9.28125 18.015625 \r\nL 9.28125 47.703125 \r\nL 2.6875 47.703125 \r\nL 2.6875 54.6875 \r\nL 9.28125 54.6875 \r\nL 9.28125 70.21875 \r\nz\r\n\" id=\"DejaVuSans-116\"/>\r\n       <path d=\"M 56.203125 29.59375 \r\nL 56.203125 25.203125 \r\nL 14.890625 25.203125 \r\nQ 15.484375 15.921875 20.484375 11.0625 \r\nQ 25.484375 6.203125 34.421875 6.203125 \r\nQ 39.59375 6.203125 44.453125 7.46875 \r\nQ 49.3125 8.734375 54.109375 11.28125 \r\nL 54.109375 2.78125 \r\nQ 49.265625 0.734375 44.1875 -0.34375 \r\nQ 39.109375 -1.421875 33.890625 -1.421875 \r\nQ 20.796875 -1.421875 13.15625 6.1875 \r\nQ 5.515625 13.8125 5.515625 26.8125 \r\nQ 5.515625 40.234375 12.765625 48.109375 \r\nQ 20.015625 56 32.328125 56 \r\nQ 43.359375 56 49.78125 48.890625 \r\nQ 56.203125 41.796875 56.203125 29.59375 \r\nz\r\nM 47.21875 32.234375 \r\nQ 47.125 39.59375 43.09375 43.984375 \r\nQ 39.0625 48.390625 32.421875 48.390625 \r\nQ 24.90625 48.390625 20.390625 44.140625 \r\nQ 15.875 39.890625 15.1875 32.171875 \r\nz\r\n\" id=\"DejaVuSans-101\"/>\r\n      </defs>\r\n      <use xlink:href=\"#DejaVuSans-68\"/>\r\n      <use x=\"77.001953\" xlink:href=\"#DejaVuSans-97\"/>\r\n      <use x=\"138.28125\" xlink:href=\"#DejaVuSans-116\"/>\r\n      <use x=\"177.490234\" xlink:href=\"#DejaVuSans-101\"/>\r\n     </g>\r\n    </g>\r\n   </g>\r\n   <g id=\"matplotlib.axis_2\">\r\n    <g id=\"ytick_1\">\r\n     <g id=\"line2d_10\">\r\n      <defs>\r\n       <path d=\"M 0 0 \r\nL -3.5 0 \r\n\" id=\"m3c703e9393\" style=\"stroke:#000000;stroke-width:0.8;\"/>\r\n      </defs>\r\n      <g>\r\n       <use style=\"stroke:#000000;stroke-width:0.8;\" x=\"33.2875\" xlink:href=\"#m3c703e9393\" y=\"180.146798\"/>\r\n      </g>\r\n     </g>\r\n     <g id=\"text_11\">\r\n      <!-- 150 -->\r\n      <g transform=\"translate(7.2 183.946016)scale(0.1 -0.1)\">\r\n       <use xlink:href=\"#DejaVuSans-49\"/>\r\n       <use x=\"63.623047\" xlink:href=\"#DejaVuSans-53\"/>\r\n       <use x=\"127.246094\" xlink:href=\"#DejaVuSans-48\"/>\r\n      </g>\r\n     </g>\r\n    </g>\r\n    <g id=\"ytick_2\">\r\n     <g id=\"line2d_11\">\r\n      <g>\r\n       <use style=\"stroke:#000000;stroke-width:0.8;\" x=\"33.2875\" xlink:href=\"#m3c703e9393\" y=\"142.126732\"/>\r\n      </g>\r\n     </g>\r\n     <g id=\"text_12\">\r\n      <!-- 200 -->\r\n      <g transform=\"translate(7.2 145.925951)scale(0.1 -0.1)\">\r\n       <use xlink:href=\"#DejaVuSans-50\"/>\r\n       <use x=\"63.623047\" xlink:href=\"#DejaVuSans-48\"/>\r\n       <use x=\"127.246094\" xlink:href=\"#DejaVuSans-48\"/>\r\n      </g>\r\n     </g>\r\n    </g>\r\n    <g id=\"ytick_3\">\r\n     <g id=\"line2d_12\">\r\n      <g>\r\n       <use style=\"stroke:#000000;stroke-width:0.8;\" x=\"33.2875\" xlink:href=\"#m3c703e9393\" y=\"104.106667\"/>\r\n      </g>\r\n     </g>\r\n     <g id=\"text_13\">\r\n      <!-- 250 -->\r\n      <g transform=\"translate(7.2 107.905886)scale(0.1 -0.1)\">\r\n       <use xlink:href=\"#DejaVuSans-50\"/>\r\n       <use x=\"63.623047\" xlink:href=\"#DejaVuSans-53\"/>\r\n       <use x=\"127.246094\" xlink:href=\"#DejaVuSans-48\"/>\r\n      </g>\r\n     </g>\r\n    </g>\r\n    <g id=\"ytick_4\">\r\n     <g id=\"line2d_13\">\r\n      <g>\r\n       <use style=\"stroke:#000000;stroke-width:0.8;\" x=\"33.2875\" xlink:href=\"#m3c703e9393\" y=\"66.086601\"/>\r\n      </g>\r\n     </g>\r\n     <g id=\"text_14\">\r\n      <!-- 300 -->\r\n      <g transform=\"translate(7.2 69.88582)scale(0.1 -0.1)\">\r\n       <use xlink:href=\"#DejaVuSans-51\"/>\r\n       <use x=\"63.623047\" xlink:href=\"#DejaVuSans-48\"/>\r\n       <use x=\"127.246094\" xlink:href=\"#DejaVuSans-48\"/>\r\n      </g>\r\n     </g>\r\n    </g>\r\n    <g id=\"ytick_5\">\r\n     <g id=\"line2d_14\">\r\n      <g>\r\n       <use style=\"stroke:#000000;stroke-width:0.8;\" x=\"33.2875\" xlink:href=\"#m3c703e9393\" y=\"28.066536\"/>\r\n      </g>\r\n     </g>\r\n     <g id=\"text_15\">\r\n      <!-- 350 -->\r\n      <g transform=\"translate(7.2 31.865755)scale(0.1 -0.1)\">\r\n       <use xlink:href=\"#DejaVuSans-51\"/>\r\n       <use x=\"63.623047\" xlink:href=\"#DejaVuSans-53\"/>\r\n       <use x=\"127.246094\" xlink:href=\"#DejaVuSans-48\"/>\r\n      </g>\r\n     </g>\r\n    </g>\r\n   </g>\r\n   <g id=\"line2d_15\">\r\n    <path clip-path=\"url(#p888a54e231)\" d=\"M 48.505682 180.24565 \r\nL 49.108382 181.028863 \r\nL 49.711082 178.838907 \r\nL 51.519183 174.877217 \r\nL 52.121883 181.082091 \r\nL 52.724584 180.686683 \r\nL 53.327284 174.185251 \r\nL 53.929984 172.428724 \r\nL 56.943486 194.138182 \r\nL 58.148886 184.899306 \r\nL 59.956987 184.154113 \r\nL 60.559687 180.770327 \r\nL 61.162387 180.184818 \r\nL 61.765088 177.865594 \r\nL 62.367788 182.108633 \r\nL 64.175889 181.538332 \r\nL 64.778589 182.846222 \r\nL 65.381289 179.257128 \r\nL 66.58669 176.70218 \r\nL 68.394791 174.565452 \r\nL 68.997491 175.097733 \r\nL 69.600191 173.645367 \r\nL 70.202892 175.759282 \r\nL 70.805592 173.15871 \r\nL 72.613693 173.53891 \r\nL 73.819093 176.033027 \r\nL 74.421793 176.907488 \r\nL 75.024494 175.242209 \r\nL 76.832595 174.991277 \r\nL 77.435295 175.188981 \r\nL 78.037995 178.587975 \r\nL 78.640695 180.709495 \r\nL 79.243396 179.660141 \r\nL 81.051496 171.675927 \r\nL 81.654197 170.626573 \r\nL 82.256897 165.988125 \r\nL 82.859597 168.314953 \r\nL 83.462297 165.083248 \r\nL 85.270398 165.737193 \r\nL 85.873099 160.59688 \r\nL 86.475799 161.593006 \r\nL 87.078499 154.338777 \r\nL 87.681199 159.235762 \r\nL 89.4893 162.064455 \r\nL 90.092 159.714815 \r\nL 90.694701 159.996163 \r\nL 91.297401 159.425862 \r\nL 91.900101 157.669335 \r\nL 94.310902 155.053555 \r\nL 94.913603 150.780099 \r\nL 95.516303 151.053844 \r\nL 96.119003 149.008364 \r\nL 97.927104 148.369627 \r\nL 98.529804 150.293442 \r\nL 99.132505 148.133903 \r\nL 99.735205 148.559727 \r\nL 100.337905 149.723141 \r\nL 102.146006 153.760872 \r\nL 102.748706 151.091864 \r\nL 103.954107 152.54423 \r\nL 104.556807 150.894159 \r\nL 106.364908 149.221277 \r\nL 106.967608 148.841076 \r\nL 107.570308 152.080385 \r\nL 108.700371 158.787125 \r\nL 110.58381 157.844227 \r\nL 111.18651 156.574357 \r\nL 111.78921 156.97737 \r\nL 112.39191 154.909078 \r\nL 112.994611 155.045951 \r\nL 114.802712 157.448819 \r\nL 115.405412 162.573923 \r\nL 116.008112 161.957998 \r\nL 116.610812 164.794295 \r\nL 117.213513 165.836045 \r\nL 119.021613 173.721407 \r\nL 119.624314 170.991566 \r\nL 120.227014 172.862153 \r\nL 120.829714 172.398308 \r\nL 121.432414 175.181377 \r\nL 123.240515 178.816095 \r\nL 123.767878 176.299167 \r\nL 125.048616 178.473915 \r\nL 125.651316 182.184673 \r\nL 127.459417 183.834744 \r\nL 128.062117 185.218674 \r\nL 129.870218 188.427568 \r\nL 131.678319 191.203033 \r\nL 132.281019 192.480507 \r\nL 132.88372 185.469607 \r\nL 133.48642 186.777497 \r\nL 134.08912 184.876494 \r\nL 135.897221 183.568604 \r\nL 136.499921 181.340628 \r\nL 137.102622 179.576497 \r\nL 137.705322 183.036323 \r\nL 138.308022 181.469896 \r\nL 140.718823 184.222549 \r\nL 141.321523 183.925992 \r\nL 141.924224 177.956842 \r\nL 142.526924 177.774346 \r\nL 144.335025 177.029152 \r\nL 144.937725 178.808491 \r\nL 145.540425 178.12413 \r\nL 146.143126 179.021404 \r\nL 146.745826 173.105482 \r\nL 148.553927 170.086688 \r\nL 149.156627 169.326287 \r\nL 149.759327 167.851109 \r\nL 150.362027 170.84709 \r\nL 150.964728 170.451681 \r\nL 152.772829 172.367892 \r\nL 153.375529 174.664304 \r\nL 153.978229 174.588264 \r\nL 154.580929 172.497161 \r\nL 155.18363 167.767464 \r\nL 157.594431 166.756131 \r\nL 158.799831 167.159143 \r\nL 159.402532 165.159288 \r\nL 161.210632 164.801899 \r\nL 161.813333 166.124998 \r\nL 162.416033 163.935042 \r\nL 163.018733 160.6349 \r\nL 163.621433 158.353696 \r\nL 165.429534 162.368615 \r\nL 166.032234 161.083537 \r\nL 166.634935 161.273637 \r\nL 167.237635 160.794584 \r\nL 167.840335 165.912085 \r\nL 169.648436 168.80161 \r\nL 170.251136 171.637907 \r\nL 170.853837 179.546081 \r\nL 172.059237 177.188837 \r\nL 173.867338 173.865883 \r\nL 174.470038 176.96832 \r\nL 175.072739 179.044216 \r\nL 175.675439 175.54637 \r\nL 176.278139 180.09357 \r\nL 178.08624 181.082091 \r\nL 179.29164 164.345659 \r\nL 179.894341 166.558426 \r\nL 180.497041 164.003478 \r\nL 182.305142 163.813378 \r\nL 182.907842 170.687405 \r\nL 183.510542 168.398598 \r\nL 184.113243 171.174062 \r\nL 184.715943 171.615095 \r\nL 186.524044 167.219975 \r\nL 187.126744 166.832171 \r\nL 187.729444 169.371911 \r\nL 188.332144 165.881669 \r\nL 190.742946 157.532463 \r\nL 191.345646 158.3613 \r\nL 191.948346 156.954558 \r\nL 192.551046 154.916682 \r\nL 193.153747 154.042221 \r\nL 194.961847 154.087845 \r\nL 195.564548 155.85958 \r\nL 196.167248 157.175074 \r\nL 196.769948 156.521129 \r\nL 199.180749 159.661586 \r\nL 199.78345 162.893292 \r\nL 200.38615 161.258429 \r\nL 200.98885 163.014956 \r\nL 201.59155 158.680669 \r\nL 203.399651 159.357426 \r\nL 204.002351 163.600465 \r\nL 204.605052 161.843938 \r\nL 205.207752 161.897166 \r\nL 205.810452 162.627152 \r\nL 207.618553 156.338633 \r\nL 208.221253 155.836768 \r\nL 208.823954 154.042221 \r\nL 209.426654 159.44107 \r\nL 210.029354 156.794874 \r\nL 211.837455 155.030743 \r\nL 212.440155 152.779955 \r\nL 213.042856 152.369338 \r\nL 213.645556 144.886989 \r\nL 214.248256 146.529456 \r\nL 216.659057 146.468624 \r\nL 217.261757 149.358149 \r\nL 217.864458 145.160734 \r\nL 218.467158 145.464894 \r\nL 220.275259 145.860303 \r\nL 220.877959 144.514392 \r\nL 221.480659 138.67451 \r\nL 222.08336 136.963607 \r\nL 222.68606 139.90636 \r\nL 224.494161 139.845528 \r\nL 225.096861 141.351123 \r\nL 225.699561 140.157293 \r\nL 226.302261 134.142519 \r\nL 226.904962 134.819276 \r\nL 228.713063 136.32487 \r\nL 229.315763 135.784985 \r\nL 229.918463 136.21081 \r\nL 230.521163 135.90665 \r\nL 231.123864 134.819276 \r\nL 232.931964 135.610093 \r\nL 233.534665 134.682403 \r\nL 234.137365 138.940651 \r\nL 234.740065 132.789004 \r\nL 235.342766 136.051126 \r\nL 237.150866 133.625446 \r\nL 237.753567 134.385847 \r\nL 238.356267 133.845962 \r\nL 238.958967 125.998621 \r\nL 241.369768 129.19991 \r\nL 241.972468 128.257012 \r\nL 242.575169 129.397614 \r\nL 243.177869 135.09302 \r\nL 243.780569 136.302058 \r\nL 245.58867 134.963752 \r\nL 246.19137 135.480825 \r\nL 246.794071 132.872648 \r\nL 247.396771 132.872648 \r\nL 247.999471 131.496322 \r\nL 249.807572 128.941374 \r\nL 250.410272 123.823873 \r\nL 251.012973 123.884705 \r\nL 251.615673 123.002639 \r\nL 252.218373 120.614979 \r\nL 254.026474 119.68729 \r\nL 254.629174 115.162902 \r\nL 255.231874 112.189733 \r\nL 255.834575 112.607953 \r\nL 256.437275 112.760034 \r\nL 258.245376 112.326605 \r\nL 258.848076 114.090736 \r\nL 259.450776 117.550562 \r\nL 260.053477 115.284566 \r\nL 260.656177 111.779116 \r\nL 262.464278 114.699057 \r\nL 263.066978 113.94626 \r\nL 263.669678 111.763908 \r\nL 264.272378 111.421727 \r\nL 264.875079 109.414268 \r\nL 266.68318 108.425746 \r\nL 267.28588 102.601072 \r\nL 267.88858 106.174958 \r\nL 268.49128 107.475245 \r\nL 269.093981 104.920296 \r\nL 270.902081 104.654156 \r\nL 271.504782 105.673094 \r\nL 272.107482 104.068647 \r\nL 272.710182 101.931919 \r\nL 273.312883 103.741674 \r\nL 275.120983 111.5586 \r\nL 275.723684 105.650282 \r\nL 276.326384 107.498057 \r\nL 276.929084 107.292748 \r\nL 277.531784 114.425313 \r\nL 279.942586 111.459748 \r\nL 280.545286 106.289019 \r\nL 281.750686 100.874961 \r\nL 283.558787 102.897629 \r\nL 284.161487 94.244262 \r\nL 285.366888 86.967221 \r\nL 285.969588 88.305528 \r\nL 288.380389 68.694778 \r\nL 288.98309 54.908702 \r\nL 289.58579 59.47111 \r\nL 290.18849 70.595781 \r\nL 291.996591 86.404524 \r\nL 292.599291 94.943831 \r\nL 293.201991 90.685584 \r\nL 293.804692 102.129623 \r\nL 294.407392 88.845413 \r\nL 296.215493 84.00926 \r\nL 296.818193 92.02389 \r\nL 297.420893 77.865218 \r\nL 298.023594 86.39692 \r\nL 300.434395 107.574097 \r\nL 301.037095 95.68142 \r\nL 301.639795 106.790883 \r\nL 302.242495 129.724587 \r\nL 302.845196 111.071943 \r\nL 304.653297 144.864177 \r\nL 305.255997 128.994602 \r\nL 305.858697 139.982401 \r\nL 306.461397 132.264327 \r\nL 307.064098 137.754425 \r\nL 308.872198 132.47724 \r\nL 309.474899 104.730196 \r\nL 310.077599 107.437225 \r\nL 310.680299 107.437225 \r\nL 311.283 102.030771 \r\nL 313.0911 92.25201 \r\nL 313.693801 93.765209 \r\nL 314.296501 109.376248 \r\nL 314.899201 99.947272 \r\nL 315.501901 108.737511 \r\nL 317.310002 90.115283 \r\nL 317.912703 97.240243 \r\nL 318.515403 91.217865 \r\nL 319.118103 94.25947 \r\nL 319.720803 89.012701 \r\nL 321.528904 78.291042 \r\nL 322.131604 80.655891 \r\nL 322.734305 70.116728 \r\nL 323.337005 71.926483 \r\nL 323.939705 75.933798 \r\nL 325.747806 89.271237 \r\nL 326.350506 76.61816 \r\nL 326.953207 78.245418 \r\nL 328.08327 74.002379 \r\nL 329.966708 68.306973 \r\nL 330.569408 72.656469 \r\nL 331.172108 67.257619 \r\nL 331.774809 71.9569 \r\nL 332.377509 79.180712 \r\nL 334.78831 70.846714 \r\nL 335.39101 67.767088 \r\nL 336.596411 56.581585 \r\nL 338.404512 48.886324 \r\nL 339.007212 56.885746 \r\nL 339.609912 57.570107 \r\nL 340.212613 49.950886 \r\nL 340.815313 35.951898 \r\nL 342.623414 28.058932 \r\nL 343.226114 26.378445 \r\nL 343.828814 26.378445 \r\nL 344.356177 27.298531 \r\nL 346.842315 19.664102 \r\nL 347.445016 29.047454 \r\nL 348.047716 34.902544 \r\nL 348.650416 36.065958 \r\nL 351.061217 24.249321 \r\nL 351.663918 26.355633 \r\nL 352.266618 25.777728 \r\nL 352.869318 27.473423 \r\nL 352.869318 27.473423 \r\n\" style=\"fill:none;stroke:#1f77b4;stroke-linecap:square;stroke-width:1.5;\"/>\r\n   </g>\r\n   <g id=\"line2d_16\">\r\n    <path clip-path=\"url(#p888a54e231)\" d=\"M 48.505682 179.244239 \r\nL 49.711082 176.388986 \r\nL 53.327284 174.416846 \r\nL 53.929984 173.556348 \r\nL 56.340785 173.108305 \r\nL 56.943486 174.303069 \r\nL 57.546186 173.943011 \r\nL 58.148886 174.269885 \r\nL 59.956987 177.66034 \r\nL 60.559687 182.684876 \r\nL 61.162387 182.355008 \r\nL 61.765088 179.645591 \r\nL 62.367788 177.454135 \r\nL 64.175889 176.343352 \r\nL 64.778589 175.173825 \r\nL 65.381289 175.088753 \r\nL 65.98399 175.243035 \r\nL 66.58669 176.270881 \r\nL 68.394791 175.73388 \r\nL 68.997491 174.990616 \r\nL 69.600191 173.273866 \r\nL 70.805592 171.439741 \r\nL 72.613693 170.780493 \r\nL 73.216393 170.731726 \r\nL 73.819093 170.44089 \r\nL 74.421793 170.697127 \r\nL 75.024494 170.286039 \r\nL 76.832595 170.88942 \r\nL 77.435295 171.540616 \r\nL 78.037995 171.873245 \r\nL 78.640695 171.844099 \r\nL 79.243396 171.636223 \r\nL 81.051496 172.241506 \r\nL 82.256897 173.758434 \r\nL 82.859597 172.788114 \r\nL 83.462297 170.204855 \r\nL 85.873099 165.574269 \r\nL 86.475799 164.049846 \r\nL 87.078499 163.736547 \r\nL 87.681199 161.924584 \r\nL 89.4893 160.607352 \r\nL 90.092 158.543121 \r\nL 90.694701 158.070481 \r\nL 91.297401 157.127068 \r\nL 91.900101 159.043109 \r\nL 93.708202 159.342867 \r\nL 94.310902 158.339991 \r\nL 94.913603 157.821763 \r\nL 95.516303 156.701141 \r\nL 96.119003 155.168039 \r\nL 97.927104 153.618276 \r\nL 98.529804 152.226694 \r\nL 99.132505 150.529448 \r\nL 99.735205 150.110401 \r\nL 100.337905 149.395366 \r\nL 102.146006 149.379923 \r\nL 102.748706 149.798123 \r\nL 103.351406 149.640441 \r\nL 104.556807 151.563478 \r\nL 106.364908 152.385966 \r\nL 106.967608 151.586068 \r\nL 107.570308 151.576925 \r\nL 110.58381 150.691376 \r\nL 111.18651 151.129846 \r\nL 111.78921 152.767269 \r\nL 112.39191 155.234964 \r\nL 112.994611 156.985062 \r\nL 114.802712 156.256638 \r\nL 115.405412 155.692823 \r\nL 116.008112 155.715947 \r\nL 116.610812 155.876344 \r\nL 117.213513 157.351675 \r\nL 119.021613 159.542714 \r\nL 119.624314 161.824196 \r\nL 120.227014 163.033185 \r\nL 121.432414 167.092356 \r\nL 123.240515 169.258437 \r\nL 123.767878 169.096265 \r\nL 125.048616 170.206015 \r\nL 125.651316 171.089835 \r\nL 127.459417 172.671495 \r\nL 128.062117 173.87742 \r\nL 129.267518 174.301166 \r\nL 129.870218 176.187538 \r\nL 131.678319 178.060022 \r\nL 133.48642 181.758404 \r\nL 134.08912 182.310222 \r\nL 135.897221 182.468182 \r\nL 136.499921 181.350519 \r\nL 137.102622 179.133908 \r\nL 137.705322 178.706611 \r\nL 138.308022 177.497216 \r\nL 140.718823 176.589262 \r\nL 141.321523 175.982215 \r\nL 141.924224 176.191657 \r\nL 142.526924 177.093915 \r\nL 144.937725 176.587812 \r\nL 145.540425 175.148693 \r\nL 146.143126 173.305762 \r\nL 149.156627 173.254292 \r\nL 149.759327 172.115616 \r\nL 150.362027 170.507618 \r\nL 150.964728 167.832522 \r\nL 152.772829 166.721194 \r\nL 153.375529 166.618695 \r\nL 153.978229 167.009791 \r\nL 154.580929 168.331408 \r\nL 155.18363 168.92177 \r\nL 157.594431 169.722422 \r\nL 158.197131 169.694668 \r\nL 158.799831 168.411757 \r\nL 159.402532 166.541664 \r\nL 161.210632 164.803344 \r\nL 161.813333 164.387256 \r\nL 162.416033 164.206832 \r\nL 163.018733 163.775219 \r\nL 163.621433 162.973094 \r\nL 165.429534 162.48457 \r\nL 166.032234 161.811201 \r\nL 166.634935 160.268075 \r\nL 167.237635 159.178537 \r\nL 167.840335 159.195349 \r\nL 169.648436 160.338562 \r\nL 170.251136 160.416057 \r\nL 170.853837 161.490418 \r\nL 171.456537 163.460806 \r\nL 172.059237 166.802495 \r\nL 173.867338 169.408984 \r\nL 174.470038 171.709437 \r\nL 175.072739 173.52082 \r\nL 175.675439 172.715864 \r\nL 176.278139 172.132127 \r\nL 178.08624 171.963898 \r\nL 178.68894 173.256113 \r\nL 179.29164 173.618272 \r\nL 179.894341 172.815323 \r\nL 180.497041 172.6087 \r\nL 182.305142 169.901325 \r\nL 182.907842 165.490195 \r\nL 183.510542 163.091559 \r\nL 184.113243 163.676363 \r\nL 184.715943 163.763837 \r\nL 186.524044 165.198477 \r\nL 187.126744 167.165837 \r\nL 187.729444 166.779742 \r\nL 188.332144 167.133291 \r\nL 190.742946 166.305129 \r\nL 191.345646 164.672383 \r\nL 191.948346 163.934537 \r\nL 192.551046 162.665922 \r\nL 193.153747 159.507453 \r\nL 194.961847 156.552149 \r\nL 195.564548 156.084568 \r\nL 196.167248 155.0444 \r\nL 196.769948 154.359602 \r\nL 197.372649 154.459932 \r\nL 199.180749 155.087191 \r\nL 199.78345 156.032669 \r\nL 200.98885 157.321508 \r\nL 201.59155 158.572395 \r\nL 203.399651 159.85643 \r\nL 204.002351 160.440922 \r\nL 204.605052 159.839154 \r\nL 205.207752 159.789935 \r\nL 205.810452 159.060142 \r\nL 207.618553 160.043816 \r\nL 208.221253 160.876943 \r\nL 209.426654 158.988738 \r\nL 210.029354 157.651132 \r\nL 211.837455 155.561688 \r\nL 213.042856 155.607867 \r\nL 213.645556 156.255593 \r\nL 214.248256 154.316858 \r\nL 216.659057 152.500659 \r\nL 218.467158 146.895612 \r\nL 220.275259 147.55088 \r\nL 221.480659 147.572148 \r\nL 222.08336 145.962167 \r\nL 222.68606 145.348622 \r\nL 224.494161 144.098327 \r\nL 225.699561 140.175547 \r\nL 226.302261 140.42872 \r\nL 226.904962 141.385418 \r\nL 228.713063 141.00922 \r\nL 229.315763 140.310627 \r\nL 230.521163 136.833278 \r\nL 231.123864 137.405749 \r\nL 232.931964 137.80557 \r\nL 233.534665 137.597044 \r\nL 234.137365 137.522578 \r\nL 235.342766 137.178299 \r\nL 237.150866 137.482652 \r\nL 237.753567 137.429372 \r\nL 238.356267 137.68692 \r\nL 238.958967 135.989337 \r\nL 241.369768 136.320376 \r\nL 241.972468 134.918433 \r\nL 242.575169 133.941454 \r\nL 243.780569 130.323467 \r\nL 245.58867 132.034034 \r\nL 246.19137 133.077172 \r\nL 247.396771 137.179889 \r\nL 247.999471 137.098901 \r\nL 249.807572 136.256306 \r\nL 250.410272 135.530481 \r\nL 252.218373 130.489434 \r\nL 254.026474 128.005436 \r\nL 254.629174 125.70409 \r\nL 255.231874 124.789174 \r\nL 255.834575 123.063698 \r\nL 256.437275 120.785279 \r\nL 258.245376 118.657255 \r\nL 258.848076 116.17154 \r\nL 259.450776 115.203112 \r\nL 260.656177 116.18095 \r\nL 262.464278 116.802036 \r\nL 263.066978 117.775396 \r\nL 263.669678 118.064236 \r\nL 264.272378 116.597966 \r\nL 264.875079 115.706767 \r\nL 266.68318 116.085041 \r\nL 267.28588 114.862883 \r\nL 269.093981 110.080521 \r\nL 270.902081 108.730187 \r\nL 271.504782 107.459796 \r\nL 272.107482 108.756235 \r\nL 272.710182 108.514386 \r\nL 273.312883 107.377381 \r\nL 276.326384 106.81526 \r\nL 276.929084 107.46779 \r\nL 277.531784 109.500972 \r\nL 279.942586 111.440799 \r\nL 280.545286 110.279173 \r\nL 281.147986 111.797098 \r\nL 281.750686 112.554877 \r\nL 283.558787 113.074636 \r\nL 284.764188 106.22079 \r\nL 285.969588 100.932558 \r\nL 287.777689 98.058427 \r\nL 288.380389 92.234888 \r\nL 288.98309 88.013788 \r\nL 289.58579 82.749735 \r\nL 290.18849 76.188814 \r\nL 292.599291 62.501521 \r\nL 293.201991 62.671038 \r\nL 294.407392 84.223268 \r\nL 296.818193 96.139741 \r\nL 297.420893 94.980598 \r\nL 298.023594 94.931379 \r\nL 298.626294 88.37554 \r\nL 300.434395 87.12383 \r\nL 301.037095 89.099949 \r\nL 301.639795 88.291559 \r\nL 302.845196 102.506025 \r\nL 305.255997 111.419392 \r\nL 306.461397 129.880403 \r\nL 307.064098 130.165658 \r\nL 308.872198 139.452832 \r\nL 309.474899 135.709175 \r\nL 310.077599 137.074176 \r\nL 311.283 128.087735 \r\nL 313.0911 118.720513 \r\nL 313.693801 107.863759 \r\nL 314.296501 106.880978 \r\nL 314.899201 104.144921 \r\nL 315.501901 100.703866 \r\nL 317.310002 99.658593 \r\nL 318.515403 106.662463 \r\nL 319.118103 102.390543 \r\nL 319.720803 101.223428 \r\nL 321.528904 94.764299 \r\nL 322.131604 95.427376 \r\nL 322.734305 91.714107 \r\nL 323.337005 88.967956 \r\nL 323.939705 82.775934 \r\nL 325.747806 77.121471 \r\nL 326.350506 76.185356 \r\nL 326.953207 74.126648 \r\nL 328.08327 77.629093 \r\nL 330.569408 82.145531 \r\nL 331.172108 75.89517 \r\nL 331.774809 74.283309 \r\nL 332.377509 71.103213 \r\nL 334.18561 69.747425 \r\nL 334.78831 71.483506 \r\nL 335.39101 71.381494 \r\nL 335.993711 74.002451 \r\nL 336.596411 74.02336 \r\nL 338.404512 69.043553 \r\nL 339.007212 64.986029 \r\nL 340.212613 54.878804 \r\nL 340.815313 51.189298 \r\nL 342.623414 48.975948 \r\nL 343.226114 48.985369 \r\nL 343.828814 42.347452 \r\nL 344.356177 31.790711 \r\nL 346.842315 21.930347 \r\nL 347.445016 17.259059 \r\nL 348.047716 16.101818 \r\nL 348.650416 16.115602 \r\nL 351.061217 16.898327 \r\nL 351.663918 17.6245 \r\nL 352.266618 23.097705 \r\nL 352.869318 23.730615 \r\nL 352.869318 23.730615 \r\n\" style=\"fill:none;stroke:#ff7f0e;stroke-linecap:square;stroke-width:1.5;\"/>\r\n   </g>\r\n   <g id=\"patch_3\">\r\n    <path d=\"M 33.2875 203.04 \r\nL 33.2875 7.2 \r\n\" style=\"fill:none;stroke:#000000;stroke-linecap:square;stroke-linejoin:miter;stroke-width:0.8;\"/>\r\n   </g>\r\n   <g id=\"patch_4\">\r\n    <path d=\"M 368.0875 203.04 \r\nL 368.0875 7.2 \r\n\" style=\"fill:none;stroke:#000000;stroke-linecap:square;stroke-linejoin:miter;stroke-width:0.8;\"/>\r\n   </g>\r\n   <g id=\"patch_5\">\r\n    <path d=\"M 33.2875 203.04 \r\nL 368.0875 203.04 \r\n\" style=\"fill:none;stroke:#000000;stroke-linecap:square;stroke-linejoin:miter;stroke-width:0.8;\"/>\r\n   </g>\r\n   <g id=\"patch_6\">\r\n    <path d=\"M 33.2875 7.2 \r\nL 368.0875 7.2 \r\n\" style=\"fill:none;stroke:#000000;stroke-linecap:square;stroke-linejoin:miter;stroke-width:0.8;\"/>\r\n   </g>\r\n   <g id=\"legend_1\">\r\n    <g id=\"patch_7\">\r\n     <path d=\"M 40.2875 44.55625 \r\nL 119.228125 44.55625 \r\nQ 121.228125 44.55625 121.228125 42.55625 \r\nL 121.228125 14.2 \r\nQ 121.228125 12.2 119.228125 12.2 \r\nL 40.2875 12.2 \r\nQ 38.2875 12.2 38.2875 14.2 \r\nL 38.2875 42.55625 \r\nQ 38.2875 44.55625 40.2875 44.55625 \r\nz\r\n\" style=\"fill:#ffffff;opacity:0.8;stroke:#cccccc;stroke-linejoin:miter;\"/>\r\n    </g>\r\n    <g id=\"line2d_17\">\r\n     <path d=\"M 42.2875 20.298437 \r\nL 62.2875 20.298437 \r\n\" style=\"fill:none;stroke:#1f77b4;stroke-linecap:square;stroke-width:1.5;\"/>\r\n    </g>\r\n    <g id=\"line2d_18\"/>\r\n    <g id=\"text_16\">\r\n     <!-- Real -->\r\n     <g transform=\"translate(70.2875 23.798437)scale(0.1 -0.1)\">\r\n      <defs>\r\n       <path d=\"M 44.390625 34.1875 \r\nQ 47.5625 33.109375 50.5625 29.59375 \r\nQ 53.5625 26.078125 56.59375 19.921875 \r\nL 66.609375 0 \r\nL 56 0 \r\nL 46.6875 18.703125 \r\nQ 43.0625 26.03125 39.671875 28.421875 \r\nQ 36.28125 30.8125 30.421875 30.8125 \r\nL 19.671875 30.8125 \r\nL 19.671875 0 \r\nL 9.8125 0 \r\nL 9.8125 72.90625 \r\nL 32.078125 72.90625 \r\nQ 44.578125 72.90625 50.734375 67.671875 \r\nQ 56.890625 62.453125 56.890625 51.90625 \r\nQ 56.890625 45.015625 53.6875 40.46875 \r\nQ 50.484375 35.9375 44.390625 34.1875 \r\nz\r\nM 19.671875 64.796875 \r\nL 19.671875 38.921875 \r\nL 32.078125 38.921875 \r\nQ 39.203125 38.921875 42.84375 42.21875 \r\nQ 46.484375 45.515625 46.484375 51.90625 \r\nQ 46.484375 58.296875 42.84375 61.546875 \r\nQ 39.203125 64.796875 32.078125 64.796875 \r\nz\r\n\" id=\"DejaVuSans-82\"/>\r\n       <path d=\"M 9.421875 75.984375 \r\nL 18.40625 75.984375 \r\nL 18.40625 0 \r\nL 9.421875 0 \r\nz\r\n\" id=\"DejaVuSans-108\"/>\r\n      </defs>\r\n      <use xlink:href=\"#DejaVuSans-82\"/>\r\n      <use x=\"64.982422\" xlink:href=\"#DejaVuSans-101\"/>\r\n      <use x=\"126.505859\" xlink:href=\"#DejaVuSans-97\"/>\r\n      <use x=\"187.785156\" xlink:href=\"#DejaVuSans-108\"/>\r\n     </g>\r\n    </g>\r\n    <g id=\"line2d_19\">\r\n     <path d=\"M 42.2875 34.976562 \r\nL 62.2875 34.976562 \r\n\" style=\"fill:none;stroke:#ff7f0e;stroke-linecap:square;stroke-width:1.5;\"/>\r\n    </g>\r\n    <g id=\"line2d_20\"/>\r\n    <g id=\"text_17\">\r\n     <!-- Predicted -->\r\n     <g transform=\"translate(70.2875 38.476562)scale(0.1 -0.1)\">\r\n      <defs>\r\n       <path d=\"M 19.671875 64.796875 \r\nL 19.671875 37.40625 \r\nL 32.078125 37.40625 \r\nQ 38.96875 37.40625 42.71875 40.96875 \r\nQ 46.484375 44.53125 46.484375 51.125 \r\nQ 46.484375 57.671875 42.71875 61.234375 \r\nQ 38.96875 64.796875 32.078125 64.796875 \r\nz\r\nM 9.8125 72.90625 \r\nL 32.078125 72.90625 \r\nQ 44.34375 72.90625 50.609375 67.359375 \r\nQ 56.890625 61.8125 56.890625 51.125 \r\nQ 56.890625 40.328125 50.609375 34.8125 \r\nQ 44.34375 29.296875 32.078125 29.296875 \r\nL 19.671875 29.296875 \r\nL 19.671875 0 \r\nL 9.8125 0 \r\nz\r\n\" id=\"DejaVuSans-80\"/>\r\n       <path d=\"M 41.109375 46.296875 \r\nQ 39.59375 47.171875 37.8125 47.578125 \r\nQ 36.03125 48 33.890625 48 \r\nQ 26.265625 48 22.1875 43.046875 \r\nQ 18.109375 38.09375 18.109375 28.8125 \r\nL 18.109375 0 \r\nL 9.078125 0 \r\nL 9.078125 54.6875 \r\nL 18.109375 54.6875 \r\nL 18.109375 46.1875 \r\nQ 20.953125 51.171875 25.484375 53.578125 \r\nQ 30.03125 56 36.53125 56 \r\nQ 37.453125 56 38.578125 55.875 \r\nQ 39.703125 55.765625 41.0625 55.515625 \r\nz\r\n\" id=\"DejaVuSans-114\"/>\r\n       <path d=\"M 45.40625 46.390625 \r\nL 45.40625 75.984375 \r\nL 54.390625 75.984375 \r\nL 54.390625 0 \r\nL 45.40625 0 \r\nL 45.40625 8.203125 \r\nQ 42.578125 3.328125 38.25 0.953125 \r\nQ 33.9375 -1.421875 27.875 -1.421875 \r\nQ 17.96875 -1.421875 11.734375 6.484375 \r\nQ 5.515625 14.40625 5.515625 27.296875 \r\nQ 5.515625 40.1875 11.734375 48.09375 \r\nQ 17.96875 56 27.875 56 \r\nQ 33.9375 56 38.25 53.625 \r\nQ 42.578125 51.265625 45.40625 46.390625 \r\nz\r\nM 14.796875 27.296875 \r\nQ 14.796875 17.390625 18.875 11.75 \r\nQ 22.953125 6.109375 30.078125 6.109375 \r\nQ 37.203125 6.109375 41.296875 11.75 \r\nQ 45.40625 17.390625 45.40625 27.296875 \r\nQ 45.40625 37.203125 41.296875 42.84375 \r\nQ 37.203125 48.484375 30.078125 48.484375 \r\nQ 22.953125 48.484375 18.875 42.84375 \r\nQ 14.796875 37.203125 14.796875 27.296875 \r\nz\r\n\" id=\"DejaVuSans-100\"/>\r\n       <path d=\"M 9.421875 54.6875 \r\nL 18.40625 54.6875 \r\nL 18.40625 0 \r\nL 9.421875 0 \r\nz\r\nM 9.421875 75.984375 \r\nL 18.40625 75.984375 \r\nL 18.40625 64.59375 \r\nL 9.421875 64.59375 \r\nz\r\n\" id=\"DejaVuSans-105\"/>\r\n       <path d=\"M 48.78125 52.59375 \r\nL 48.78125 44.1875 \r\nQ 44.96875 46.296875 41.140625 47.34375 \r\nQ 37.3125 48.390625 33.40625 48.390625 \r\nQ 24.65625 48.390625 19.8125 42.84375 \r\nQ 14.984375 37.3125 14.984375 27.296875 \r\nQ 14.984375 17.28125 19.8125 11.734375 \r\nQ 24.65625 6.203125 33.40625 6.203125 \r\nQ 37.3125 6.203125 41.140625 7.25 \r\nQ 44.96875 8.296875 48.78125 10.40625 \r\nL 48.78125 2.09375 \r\nQ 45.015625 0.34375 40.984375 -0.53125 \r\nQ 36.96875 -1.421875 32.421875 -1.421875 \r\nQ 20.0625 -1.421875 12.78125 6.34375 \r\nQ 5.515625 14.109375 5.515625 27.296875 \r\nQ 5.515625 40.671875 12.859375 48.328125 \r\nQ 20.21875 56 33.015625 56 \r\nQ 37.15625 56 41.109375 55.140625 \r\nQ 45.0625 54.296875 48.78125 52.59375 \r\nz\r\n\" id=\"DejaVuSans-99\"/>\r\n      </defs>\r\n      <use xlink:href=\"#DejaVuSans-80\"/>\r\n      <use x=\"58.552734\" xlink:href=\"#DejaVuSans-114\"/>\r\n      <use x=\"97.416016\" xlink:href=\"#DejaVuSans-101\"/>\r\n      <use x=\"158.939453\" xlink:href=\"#DejaVuSans-100\"/>\r\n      <use x=\"222.416016\" xlink:href=\"#DejaVuSans-105\"/>\r\n      <use x=\"250.199219\" xlink:href=\"#DejaVuSans-99\"/>\r\n      <use x=\"305.179688\" xlink:href=\"#DejaVuSans-116\"/>\r\n      <use x=\"344.388672\" xlink:href=\"#DejaVuSans-101\"/>\r\n      <use x=\"405.912109\" xlink:href=\"#DejaVuSans-100\"/>\r\n     </g>\r\n    </g>\r\n   </g>\r\n  </g>\r\n </g>\r\n <defs>\r\n  <clipPath id=\"p888a54e231\">\r\n   <rect height=\"195.84\" width=\"334.8\" x=\"33.2875\" y=\"7.2\"/>\r\n  </clipPath>\r\n </defs>\r\n</svg>\r\n",
      "image/png": "[encoded data removed]"
     },
     "metadata": {
      "needs_background": "light"
     }
    }
   ],
   "source": [
    "# Plot the real vs predicted values as a line chart\n",
    "stocks.plot()"
   ]
  },
  {
   "cell_type": "code",
   "execution_count": 20,
   "metadata": {},
   "outputs": [
    {
     "output_type": "execute_result",
     "data": {
      "text/plain": [
       "'for i in stocks:\\n    if stocks[\"Predicted\"][i] > stocks[\"Predicted\"][i - 1]:\\n        stocks[\"Signal\"][i] += .5\\n    if stocks[\"Real\"][i] > stocks[\"Real\"][i - 1]:\\n        stocks[\"Signal\"][i].append() += .5'"
      ]
     },
     "metadata": {},
     "execution_count": 20
    }
   ],
   "source": [
    "'''for i in stocks:\n",
    "    if stocks[\"Predicted\"][i] > stocks[\"Predicted\"][i - 1]:\n",
    "        stocks[\"Signal\"][i] += .5\n",
    "    if stocks[\"Real\"][i] > stocks[\"Real\"][i - 1]:\n",
    "        stocks[\"Signal\"][i].append() += .5'''"
   ]
  },
  {
   "cell_type": "code",
   "execution_count": 21,
   "metadata": {},
   "outputs": [
    {
     "output_type": "error",
     "ename": "NameError",
     "evalue": "name 'df_NFLX' is not defined",
     "traceback": [
      "\u001b[1;31m---------------------------------------------------------------------------\u001b[0m",
      "\u001b[1;31mNameError\u001b[0m                                 Traceback (most recent call last)",
      "\u001b[1;32m<ipython-input-21-2537f5fe2190>\u001b[0m in \u001b[0;36m<module>\u001b[1;34m\u001b[0m\n\u001b[1;32m----> 1\u001b[1;33m \u001b[0mdf_NFLX\u001b[0m\u001b[1;33m.\u001b[0m\u001b[0mcolumns\u001b[0m \u001b[1;33m=\u001b[0m \u001b[1;33m[\u001b[0m\u001b[1;34m'Close'\u001b[0m\u001b[1;33m,\u001b[0m \u001b[1;34m'NFLX Volume'\u001b[0m\u001b[1;33m]\u001b[0m\u001b[1;33m\u001b[0m\u001b[1;33m\u001b[0m\u001b[0m\n\u001b[0m\u001b[0;32m      2\u001b[0m \u001b[0mdf_PDD\u001b[0m\u001b[1;33m.\u001b[0m\u001b[0mcolumns\u001b[0m \u001b[1;33m=\u001b[0m \u001b[1;33m[\u001b[0m\u001b[1;34m'Close'\u001b[0m\u001b[1;33m,\u001b[0m \u001b[1;34m'PDD Volume'\u001b[0m\u001b[1;33m]\u001b[0m\u001b[1;33m\u001b[0m\u001b[1;33m\u001b[0m\u001b[0m\n\u001b[0;32m      3\u001b[0m \u001b[0mdf_NVDA\u001b[0m\u001b[1;33m.\u001b[0m\u001b[0mcolumns\u001b[0m \u001b[1;33m=\u001b[0m \u001b[1;33m[\u001b[0m\u001b[1;34m'NVDA Close'\u001b[0m\u001b[1;33m,\u001b[0m \u001b[1;34m'NVDA Volume'\u001b[0m\u001b[1;33m]\u001b[0m\u001b[1;33m\u001b[0m\u001b[1;33m\u001b[0m\u001b[0m\n",
      "\u001b[1;31mNameError\u001b[0m: name 'df_NFLX' is not defined"
     ]
    }
   ],
   "source": [
    "df_NFLX.columns = ['Close', 'NFLX Volume']\n",
    "df_PDD.columns = ['Close', 'PDD Volume']\n",
    "df_NVDA.columns = ['NVDA Close', 'NVDA Volume']\n"
   ]
  },
  {
   "cell_type": "code",
   "execution_count": 80,
   "metadata": {},
   "outputs": [
    {
     "output_type": "execute_result",
     "data": {
      "text/plain": [
       "                     NVDA Close  NVDA Volume\n",
       "Date                                        \n",
       "2019-01-08 16:00:00      139.83     19650429\n",
       "2019-01-09 16:00:00      142.58     15431475\n",
       "2019-01-10 16:00:00      145.23     13078906\n",
       "2019-01-11 16:00:00      148.83     21869066\n",
       "2019-01-14 16:00:00      150.44     18254249"
      ],
      "text/html": "<div>\n<style scoped>\n    .dataframe tbody tr th:only-of-type {\n        vertical-align: middle;\n    }\n\n    .dataframe tbody tr th {\n        vertical-align: top;\n    }\n\n    .dataframe thead th {\n        text-align: right;\n    }\n</style>\n<table border=\"1\" class=\"dataframe\">\n  <thead>\n    <tr style=\"text-align: right;\">\n      <th></th>\n      <th>NVDA Close</th>\n      <th>NVDA Volume</th>\n    </tr>\n    <tr>\n      <th>Date</th>\n      <th></th>\n      <th></th>\n    </tr>\n  </thead>\n  <tbody>\n    <tr>\n      <th>2019-01-08 16:00:00</th>\n      <td>139.83</td>\n      <td>19650429</td>\n    </tr>\n    <tr>\n      <th>2019-01-09 16:00:00</th>\n      <td>142.58</td>\n      <td>15431475</td>\n    </tr>\n    <tr>\n      <th>2019-01-10 16:00:00</th>\n      <td>145.23</td>\n      <td>13078906</td>\n    </tr>\n    <tr>\n      <th>2019-01-11 16:00:00</th>\n      <td>148.83</td>\n      <td>21869066</td>\n    </tr>\n    <tr>\n      <th>2019-01-14 16:00:00</th>\n      <td>150.44</td>\n      <td>18254249</td>\n    </tr>\n  </tbody>\n</table>\n</div>"
     },
     "metadata": {},
     "execution_count": 80
    }
   ],
   "source": [
    "# Load NFLX Data\n",
    "df_NFLX = pd.read_csv('../Data/Cleandata/Rawdata/nflx_data.csv', index_col=\"Date\", infer_datetime_format=True, parse_dates=True)\n",
    "df_PDD = pd.read_csv('../Data/Cleandata/Rawdata/pdd_data.csv', index_col=\"Date\", infer_datetime_format=True, parse_dates=True)\n",
    "df_NVDA = pd.read_csv('../Data/Cleandata/Rawdata/nvda_data.csv', index_col=\"Date\", infer_datetime_format=True, parse_dates=True)\n",
    "\n",
    "# Rename Columns\n",
    "df_NFLX.columns = ['NFLX Close', 'NFLX Volume']\n",
    "df_PDD.columns = ['PDD Close', 'PDD Volume']\n",
    "df_NVDA.columns = ['NVDA Close', 'NVDA Volume']\n",
    "\n",
    "# Call\n",
    "df_NFLX.head()\n",
    "df_PDD.head()\n",
    "df_NVDA.head()"
   ]
  },
  {
   "cell_type": "code",
   "execution_count": 81,
   "metadata": {},
   "outputs": [
    {
     "output_type": "execute_result",
     "data": {
      "text/plain": [
       "                     NFLX Close  NFLX Volume  PDD Close  PDD Volume  \\\n",
       "Date                                                                  \n",
       "2019-01-08 16:00:00      320.27     15359180      24.00     3355000   \n",
       "2019-01-09 16:00:00      319.96     13343152      25.54     7322212   \n",
       "2019-01-10 16:00:00      324.66     13472475      26.38     4956502   \n",
       "2019-01-11 16:00:00      337.59     19500429      26.16     2293294   \n",
       "2019-01-14 16:00:00      332.94     10499582      24.37     5526588   \n",
       "\n",
       "                     NVDA Close  NVDA Volume  \n",
       "Date                                          \n",
       "2019-01-08 16:00:00      139.83     19650429  \n",
       "2019-01-09 16:00:00      142.58     15431475  \n",
       "2019-01-10 16:00:00      145.23     13078906  \n",
       "2019-01-11 16:00:00      148.83     21869066  \n",
       "2019-01-14 16:00:00      150.44     18254249  "
      ],
      "text/html": "<div>\n<style scoped>\n    .dataframe tbody tr th:only-of-type {\n        vertical-align: middle;\n    }\n\n    .dataframe tbody tr th {\n        vertical-align: top;\n    }\n\n    .dataframe thead th {\n        text-align: right;\n    }\n</style>\n<table border=\"1\" class=\"dataframe\">\n  <thead>\n    <tr style=\"text-align: right;\">\n      <th></th>\n      <th>NFLX Close</th>\n      <th>NFLX Volume</th>\n      <th>PDD Close</th>\n      <th>PDD Volume</th>\n      <th>NVDA Close</th>\n      <th>NVDA Volume</th>\n    </tr>\n    <tr>\n      <th>Date</th>\n      <th></th>\n      <th></th>\n      <th></th>\n      <th></th>\n      <th></th>\n      <th></th>\n    </tr>\n  </thead>\n  <tbody>\n    <tr>\n      <th>2019-01-08 16:00:00</th>\n      <td>320.27</td>\n      <td>15359180</td>\n      <td>24.00</td>\n      <td>3355000</td>\n      <td>139.83</td>\n      <td>19650429</td>\n    </tr>\n    <tr>\n      <th>2019-01-09 16:00:00</th>\n      <td>319.96</td>\n      <td>13343152</td>\n      <td>25.54</td>\n      <td>7322212</td>\n      <td>142.58</td>\n      <td>15431475</td>\n    </tr>\n    <tr>\n      <th>2019-01-10 16:00:00</th>\n      <td>324.66</td>\n      <td>13472475</td>\n      <td>26.38</td>\n      <td>4956502</td>\n      <td>145.23</td>\n      <td>13078906</td>\n    </tr>\n    <tr>\n      <th>2019-01-11 16:00:00</th>\n      <td>337.59</td>\n      <td>19500429</td>\n      <td>26.16</td>\n      <td>2293294</td>\n      <td>148.83</td>\n      <td>21869066</td>\n    </tr>\n    <tr>\n      <th>2019-01-14 16:00:00</th>\n      <td>332.94</td>\n      <td>10499582</td>\n      <td>24.37</td>\n      <td>5526588</td>\n      <td>150.44</td>\n      <td>18254249</td>\n    </tr>\n  </tbody>\n</table>\n</div>"
     },
     "metadata": {},
     "execution_count": 81
    }
   ],
   "source": [
    "df_All = pd.concat([df_NFLX, df_PDD, df_NVDA], axis=\"columns\", join=\"inner\")\n",
    "df_All.head()"
   ]
  },
  {
   "cell_type": "code",
   "execution_count": 95,
   "metadata": {},
   "outputs": [
    {
     "output_type": "execute_result",
     "data": {
      "text/plain": [
       "                     NFLX Close  NFLX Volume  PDD Close  PDD Volume  \\\n",
       "Date                                                                  \n",
       "2020-12-31 16:00:00      540.73      5392322     177.67    12490032   \n",
       "2021-01-04 16:00:00      522.86      4444407     166.78    10987212   \n",
       "2021-01-05 16:00:00      520.80      3133872     187.20    16165814   \n",
       "2021-01-06 16:00:00      500.49      5346210     176.75    11873087   \n",
       "2021-01-07 16:00:00      508.89      3686448     180.12     8604167   \n",
       "\n",
       "                     NVDA Close  NVDA Volume  NFLX EMA12  NFLX EMA26  \\\n",
       "Date                                                                   \n",
       "2020-12-31 16:00:00      522.20      4810610  512.219395  503.603873   \n",
       "2021-01-04 16:00:00      524.54     14016045  512.816607  504.110450   \n",
       "2021-01-05 16:00:00      536.19      8068998  513.264680  504.549507   \n",
       "2021-01-06 16:00:00      504.58     14510575  512.547692  504.442712   \n",
       "2021-01-07 16:00:00      533.76     11537037  512.342402  504.559709   \n",
       "\n",
       "                      PDD EMA12   PDD EMA26  NVDA EMA12  NVDA EMA26  \n",
       "Date                                                                 \n",
       "2020-12-31 16:00:00  142.255318  123.283216  528.344412  518.239082  \n",
       "2021-01-04 16:00:00  143.631783  124.427500  528.130887  518.404843  \n",
       "2021-01-05 16:00:00  146.077079  126.078876  528.583210  518.872722  \n",
       "2021-01-06 16:00:00  147.798618  127.411897  527.236013  518.496719  \n",
       "2021-01-07 16:00:00  149.612677  128.798506  527.602176  518.898255  "
      ],
      "text/html": "<div>\n<style scoped>\n    .dataframe tbody tr th:only-of-type {\n        vertical-align: middle;\n    }\n\n    .dataframe tbody tr th {\n        vertical-align: top;\n    }\n\n    .dataframe thead th {\n        text-align: right;\n    }\n</style>\n<table border=\"1\" class=\"dataframe\">\n  <thead>\n    <tr style=\"text-align: right;\">\n      <th></th>\n      <th>NFLX Close</th>\n      <th>NFLX Volume</th>\n      <th>PDD Close</th>\n      <th>PDD Volume</th>\n      <th>NVDA Close</th>\n      <th>NVDA Volume</th>\n      <th>NFLX EMA12</th>\n      <th>NFLX EMA26</th>\n      <th>PDD EMA12</th>\n      <th>PDD EMA26</th>\n      <th>NVDA EMA12</th>\n      <th>NVDA EMA26</th>\n    </tr>\n    <tr>\n      <th>Date</th>\n      <th></th>\n      <th></th>\n      <th></th>\n      <th></th>\n      <th></th>\n      <th></th>\n      <th></th>\n      <th></th>\n      <th></th>\n      <th></th>\n      <th></th>\n      <th></th>\n    </tr>\n  </thead>\n  <tbody>\n    <tr>\n      <th>2020-12-31 16:00:00</th>\n      <td>540.73</td>\n      <td>5392322</td>\n      <td>177.67</td>\n      <td>12490032</td>\n      <td>522.20</td>\n      <td>4810610</td>\n      <td>512.219395</td>\n      <td>503.603873</td>\n      <td>142.255318</td>\n      <td>123.283216</td>\n      <td>528.344412</td>\n      <td>518.239082</td>\n    </tr>\n    <tr>\n      <th>2021-01-04 16:00:00</th>\n      <td>522.86</td>\n      <td>4444407</td>\n      <td>166.78</td>\n      <td>10987212</td>\n      <td>524.54</td>\n      <td>14016045</td>\n      <td>512.816607</td>\n      <td>504.110450</td>\n      <td>143.631783</td>\n      <td>124.427500</td>\n      <td>528.130887</td>\n      <td>518.404843</td>\n    </tr>\n    <tr>\n      <th>2021-01-05 16:00:00</th>\n      <td>520.80</td>\n      <td>3133872</td>\n      <td>187.20</td>\n      <td>16165814</td>\n      <td>536.19</td>\n      <td>8068998</td>\n      <td>513.264680</td>\n      <td>504.549507</td>\n      <td>146.077079</td>\n      <td>126.078876</td>\n      <td>528.583210</td>\n      <td>518.872722</td>\n    </tr>\n    <tr>\n      <th>2021-01-06 16:00:00</th>\n      <td>500.49</td>\n      <td>5346210</td>\n      <td>176.75</td>\n      <td>11873087</td>\n      <td>504.58</td>\n      <td>14510575</td>\n      <td>512.547692</td>\n      <td>504.442712</td>\n      <td>147.798618</td>\n      <td>127.411897</td>\n      <td>527.236013</td>\n      <td>518.496719</td>\n    </tr>\n    <tr>\n      <th>2021-01-07 16:00:00</th>\n      <td>508.89</td>\n      <td>3686448</td>\n      <td>180.12</td>\n      <td>8604167</td>\n      <td>533.76</td>\n      <td>11537037</td>\n      <td>512.342402</td>\n      <td>504.559709</td>\n      <td>149.612677</td>\n      <td>128.798506</td>\n      <td>527.602176</td>\n      <td>518.898255</td>\n    </tr>\n  </tbody>\n</table>\n</div>"
     },
     "metadata": {},
     "execution_count": 95
    }
   ],
   "source": [
    "short_span = 12\n",
    "long_span = 26\n",
    "df_NFLX['NFLX EMA'] = 0\n",
    "\n",
    "# Generate Moving Average\n",
    "df_All['NFLX EMA12'] = df_All['NFLX Close'].ewm(halflife=short_span).mean()\n",
    "df_All['NFLX EMA26'] = df_All['NFLX Close'].ewm(halflife=long_span).mean()\n",
    "df_All['PDD EMA12'] = df_All['PDD Close'].ewm(halflife=short_span).mean()\n",
    "df_All['PDD EMA26'] = df_All['PDD Close'].ewm(halflife=long_span).mean()\n",
    "df_All['NVDA EMA12'] = df_All['NVDA Close'].ewm(halflife=short_span).mean()\n",
    "df_All['NVDA EMA26'] = df_All['NVDA Close'].ewm(halflife=long_span).mean()\n",
    "df_All.tail()"
   ]
  },
  {
   "cell_type": "code",
   "execution_count": 102,
   "metadata": {},
   "outputs": [
    {
     "output_type": "execute_result",
     "data": {
      "text/plain": [
       "                     NFLX Close  NFLX Volume  PDD Close  PDD Volume  \\\n",
       "Date                                                                  \n",
       "2020-12-31 16:00:00      540.73      5392322     177.67    12490032   \n",
       "2021-01-04 16:00:00      522.86      4444407     166.78    10987212   \n",
       "2021-01-05 16:00:00      520.80      3133872     187.20    16165814   \n",
       "2021-01-06 16:00:00      500.49      5346210     176.75    11873087   \n",
       "2021-01-07 16:00:00      508.89      3686448     180.12     8604167   \n",
       "\n",
       "                     NVDA Close  NVDA Volume  NFLX EMA12  NFLX EMA26  \\\n",
       "Date                                                                   \n",
       "2020-12-31 16:00:00      522.20      4810610  512.219395  503.603873   \n",
       "2021-01-04 16:00:00      524.54     14016045  512.816607  504.110450   \n",
       "2021-01-05 16:00:00      536.19      8068998  513.264680  504.549507   \n",
       "2021-01-06 16:00:00      504.58     14510575  512.547692  504.442712   \n",
       "2021-01-07 16:00:00      533.76     11537037  512.342402  504.559709   \n",
       "\n",
       "                      PDD EMA12   PDD EMA26  NVDA EMA12  NVDA EMA26  \\\n",
       "Date                                                                  \n",
       "2020-12-31 16:00:00  142.255318  123.283216  528.344412  518.239082   \n",
       "2021-01-04 16:00:00  143.631783  124.427500  528.130887  518.404843   \n",
       "2021-01-05 16:00:00  146.077079  126.078876  528.583210  518.872722   \n",
       "2021-01-06 16:00:00  147.798618  127.411897  527.236013  518.496719   \n",
       "2021-01-07 16:00:00  149.612677  128.798506  527.602176  518.898255   \n",
       "\n",
       "                     NFLX Cross Short  NFLX Cross Long  PDD Cross Short  \\\n",
       "Date                                                                      \n",
       "2020-12-31 16:00:00               0.0              1.0              0.0   \n",
       "2021-01-04 16:00:00               0.0              1.0              0.0   \n",
       "2021-01-05 16:00:00               0.0              1.0              0.0   \n",
       "2021-01-06 16:00:00               0.0              1.0              0.0   \n",
       "2021-01-07 16:00:00               0.0              1.0              0.0   \n",
       "\n",
       "                     PDD Cross Long  NVDA Cross Short  NVDA Cross Long  \n",
       "Date                                                                    \n",
       "2020-12-31 16:00:00             1.0               0.0              1.0  \n",
       "2021-01-04 16:00:00             1.0               0.0              1.0  \n",
       "2021-01-05 16:00:00             1.0               0.0              1.0  \n",
       "2021-01-06 16:00:00             1.0               0.0              1.0  \n",
       "2021-01-07 16:00:00             1.0               0.0              1.0  "
      ],
      "text/html": "<div>\n<style scoped>\n    .dataframe tbody tr th:only-of-type {\n        vertical-align: middle;\n    }\n\n    .dataframe tbody tr th {\n        vertical-align: top;\n    }\n\n    .dataframe thead th {\n        text-align: right;\n    }\n</style>\n<table border=\"1\" class=\"dataframe\">\n  <thead>\n    <tr style=\"text-align: right;\">\n      <th></th>\n      <th>NFLX Close</th>\n      <th>NFLX Volume</th>\n      <th>PDD Close</th>\n      <th>PDD Volume</th>\n      <th>NVDA Close</th>\n      <th>NVDA Volume</th>\n      <th>NFLX EMA12</th>\n      <th>NFLX EMA26</th>\n      <th>PDD EMA12</th>\n      <th>PDD EMA26</th>\n      <th>NVDA EMA12</th>\n      <th>NVDA EMA26</th>\n      <th>NFLX Cross Short</th>\n      <th>NFLX Cross Long</th>\n      <th>PDD Cross Short</th>\n      <th>PDD Cross Long</th>\n      <th>NVDA Cross Short</th>\n      <th>NVDA Cross Long</th>\n    </tr>\n    <tr>\n      <th>Date</th>\n      <th></th>\n      <th></th>\n      <th></th>\n      <th></th>\n      <th></th>\n      <th></th>\n      <th></th>\n      <th></th>\n      <th></th>\n      <th></th>\n      <th></th>\n      <th></th>\n      <th></th>\n      <th></th>\n      <th></th>\n      <th></th>\n      <th></th>\n      <th></th>\n    </tr>\n  </thead>\n  <tbody>\n    <tr>\n      <th>2020-12-31 16:00:00</th>\n      <td>540.73</td>\n      <td>5392322</td>\n      <td>177.67</td>\n      <td>12490032</td>\n      <td>522.20</td>\n      <td>4810610</td>\n      <td>512.219395</td>\n      <td>503.603873</td>\n      <td>142.255318</td>\n      <td>123.283216</td>\n      <td>528.344412</td>\n      <td>518.239082</td>\n      <td>0.0</td>\n      <td>1.0</td>\n      <td>0.0</td>\n      <td>1.0</td>\n      <td>0.0</td>\n      <td>1.0</td>\n    </tr>\n    <tr>\n      <th>2021-01-04 16:00:00</th>\n      <td>522.86</td>\n      <td>4444407</td>\n      <td>166.78</td>\n      <td>10987212</td>\n      <td>524.54</td>\n      <td>14016045</td>\n      <td>512.816607</td>\n      <td>504.110450</td>\n      <td>143.631783</td>\n      <td>124.427500</td>\n      <td>528.130887</td>\n      <td>518.404843</td>\n      <td>0.0</td>\n      <td>1.0</td>\n      <td>0.0</td>\n      <td>1.0</td>\n      <td>0.0</td>\n      <td>1.0</td>\n    </tr>\n    <tr>\n      <th>2021-01-05 16:00:00</th>\n      <td>520.80</td>\n      <td>3133872</td>\n      <td>187.20</td>\n      <td>16165814</td>\n      <td>536.19</td>\n      <td>8068998</td>\n      <td>513.264680</td>\n      <td>504.549507</td>\n      <td>146.077079</td>\n      <td>126.078876</td>\n      <td>528.583210</td>\n      <td>518.872722</td>\n      <td>0.0</td>\n      <td>1.0</td>\n      <td>0.0</td>\n      <td>1.0</td>\n      <td>0.0</td>\n      <td>1.0</td>\n    </tr>\n    <tr>\n      <th>2021-01-06 16:00:00</th>\n      <td>500.49</td>\n      <td>5346210</td>\n      <td>176.75</td>\n      <td>11873087</td>\n      <td>504.58</td>\n      <td>14510575</td>\n      <td>512.547692</td>\n      <td>504.442712</td>\n      <td>147.798618</td>\n      <td>127.411897</td>\n      <td>527.236013</td>\n      <td>518.496719</td>\n      <td>0.0</td>\n      <td>1.0</td>\n      <td>0.0</td>\n      <td>1.0</td>\n      <td>0.0</td>\n      <td>1.0</td>\n    </tr>\n    <tr>\n      <th>2021-01-07 16:00:00</th>\n      <td>508.89</td>\n      <td>3686448</td>\n      <td>180.12</td>\n      <td>8604167</td>\n      <td>533.76</td>\n      <td>11537037</td>\n      <td>512.342402</td>\n      <td>504.559709</td>\n      <td>149.612677</td>\n      <td>128.798506</td>\n      <td>527.602176</td>\n      <td>518.898255</td>\n      <td>0.0</td>\n      <td>1.0</td>\n      <td>0.0</td>\n      <td>1.0</td>\n      <td>0.0</td>\n      <td>1.0</td>\n    </tr>\n  </tbody>\n</table>\n</div>"
     },
     "metadata": {},
     "execution_count": 102
    }
   ],
   "source": [
    "# Construct a crossover trading signal\n",
    "df_All['NFLX Cross Short'] = np.where(df_All['NFLX EMA26'] > df_All['NFLX EMA26'], -1.0, 0.0)\n",
    "df_All['NFLX Cross Long'] =  np.where(df_All['NFLX EMA12'] > df_All['NFLX EMA26'], 1.0, 0.0)\n",
    "df_All['PDD Cross Short'] = np.where(df_All['PDD EMA26'] > df_All['PDD EMA26'], -1.0, 0.0)\n",
    "df_All['PDD Cross Long'] =  np.where(df_All['PDD EMA12'] > df_All['PDD EMA26'], 1.0, 0.0)\n",
    "df_All['NVDA Cross Short'] = np.where(df_All['NVDA EMA26'] > df_All['NVDA EMA26'], -1.0, 0.0)\n",
    "df_All['NVDA Cross Long'] =  np.where(df_All['NVDA EMA12'] > df_All['NVDA EMA26'], 1.0, 0.0)\n",
    "df_All.tail()\n"
   ]
  },
  {
   "cell_type": "code",
   "execution_count": null,
   "metadata": {},
   "outputs": [],
   "source": []
  }
 ],
 "metadata": {
  "file_extension": ".py",
  "kernelspec": {
   "name": "python3",
   "display_name": "Python 3.8.5 64-bit (conda)",
   "metadata": {
    "interpreter": {
     "hash": "a8f77dbe312454737902693cf9af4b6737d00abf5e2a0337a5e2bcf81d1eed48"
    }
   }
  },
  "language_info": {
   "codemirror_mode": {
    "name": "ipython",
    "version": 3
   },
   "file_extension": ".py",
   "mimetype": "text/x-python",
   "name": "python",
   "nbconvert_exporter": "python",
   "pygments_lexer": "ipython3",
   "version": "3.8.5-final"
  },
  "mimetype": "text/x-python",
  "name": "python",
  "npconvert_exporter": "python",
  "pygments_lexer": "ipython3",
  "version": 3
 },
 "nbformat": 4,
 "nbformat_minor": 4
}