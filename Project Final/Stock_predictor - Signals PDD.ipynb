{
 "cells": [
  {
   "cell_type": "markdown",
   "metadata": {},
   "source": [
    "# LSTM Stock Predictor Using Closing Prices"
   ]
  },
  {
   "cell_type": "markdown",
   "metadata": {},
   "source": [
    "## Data Preparation"
   ]
  },
  {
   "cell_type": "code",
   "execution_count": 1,
   "metadata": {},
   "outputs": [],
   "source": [
    "import numpy as np\n",
    "import pandas as pd\n",
    "#import hvplot.pandas"
   ]
  },
  {
   "cell_type": "code",
   "execution_count": 2,
   "metadata": {},
   "outputs": [],
   "source": [
    "# Set the random seed for reproducibility\n",
    "# Note: This is for the homework solution, but it is good practice to comment this out and run multiple experiments to evaluate your model\n",
    "from numpy.random import seed\n",
    "seed(1)\n",
    "from tensorflow import random\n",
    "random.set_seed(2)"
   ]
  },
  {
   "cell_type": "code",
   "execution_count": 3,
   "metadata": {},
   "outputs": [
    {
     "output_type": "execute_result",
     "data": {
      "text/plain": [
       "                     Closing Price   Volume\n",
       "Date                                       \n",
       "2019-01-08 16:00:00          24.00  3355000\n",
       "2019-01-09 16:00:00          25.54  7322212\n",
       "2019-01-10 16:00:00          26.38  4956502\n",
       "2019-01-11 16:00:00          26.16  2293294\n",
       "2019-01-14 16:00:00          24.37  5526588"
      ],
      "text/html": "<div>\n<style scoped>\n    .dataframe tbody tr th:only-of-type {\n        vertical-align: middle;\n    }\n\n    .dataframe tbody tr th {\n        vertical-align: top;\n    }\n\n    .dataframe thead th {\n        text-align: right;\n    }\n</style>\n<table border=\"1\" class=\"dataframe\">\n  <thead>\n    <tr style=\"text-align: right;\">\n      <th></th>\n      <th>Closing Price</th>\n      <th>Volume</th>\n    </tr>\n    <tr>\n      <th>Date</th>\n      <th></th>\n      <th></th>\n    </tr>\n  </thead>\n  <tbody>\n    <tr>\n      <th>2019-01-08 16:00:00</th>\n      <td>24.00</td>\n      <td>3355000</td>\n    </tr>\n    <tr>\n      <th>2019-01-09 16:00:00</th>\n      <td>25.54</td>\n      <td>7322212</td>\n    </tr>\n    <tr>\n      <th>2019-01-10 16:00:00</th>\n      <td>26.38</td>\n      <td>4956502</td>\n    </tr>\n    <tr>\n      <th>2019-01-11 16:00:00</th>\n      <td>26.16</td>\n      <td>2293294</td>\n    </tr>\n    <tr>\n      <th>2019-01-14 16:00:00</th>\n      <td>24.37</td>\n      <td>5526588</td>\n    </tr>\n  </tbody>\n</table>\n</div>"
     },
     "metadata": {},
     "execution_count": 3
    }
   ],
   "source": [
    "# Load NFLX Data\n",
    "df = pd.read_csv('../Data/Cleandata/Rawdata/pdd_data.csv', index_col=\"Date\", infer_datetime_format=True, parse_dates=True)\n",
    "\n",
    "df.head()"
   ]
  },
  {
   "cell_type": "code",
   "execution_count": 4,
   "metadata": {},
   "outputs": [],
   "source": [
    "# This function accepts the column number for the features (X) and the target (y)\n",
    "# It chunks the data up with a rolling window of Xt-n to predict Xt\n",
    "# It returns a numpy array of X any y\n",
    "def window_data(df, window, feature_col_number, target_col_number):\n",
    "    X = []\n",
    "    y = []\n",
    "    for i in range(len(df) - window - 1):\n",
    "        features = df.iloc[i:(i + window), feature_col_number]\n",
    "        target = df.iloc[(i + window), target_col_number]\n",
    "        X.append(features)\n",
    "        y.append(target)\n",
    "    return np.array(X), np.array(y).reshape(-1, 1)"
   ]
  },
  {
   "cell_type": "code",
   "execution_count": 5,
   "metadata": {},
   "outputs": [],
   "source": [
    "# Predict Closing Prices using a 10 day window of previous closing prices\n",
    "# Then, experiment with window sizes anywhere from 1 to 10 and see how the model performance changes\n",
    "window_size = 5\n",
    "\n",
    "# Column index 0 is the 'Close' column\n",
    "# Column index 1 is the `Volume` column\n",
    "feature_column = 0\n",
    "target_column = 0\n",
    "X, y = window_data(df, window_size, feature_column, target_column)"
   ]
  },
  {
   "cell_type": "code",
   "execution_count": 6,
   "metadata": {},
   "outputs": [],
   "source": [
    "# Use 70% of the data for training and the remaineder for testing\n",
    "split = int(0.7 * len(X))\n",
    "\n",
    "X_train = X[: split]\n",
    "X_test = X[: split]\n",
    "\n",
    "y_train = y[: split]\n",
    "y_test = y[: split]"
   ]
  },
  {
   "cell_type": "code",
   "execution_count": 7,
   "metadata": {},
   "outputs": [],
   "source": [
    "from sklearn.preprocessing import MinMaxScaler\n",
    "# Use the MinMaxScaler to scale data between 0 and 1.\n",
    "# YOUR CODE HERE!\n",
    "scaler = MinMaxScaler()\n",
    "\n",
    "scaler.fit(X)\n",
    "\n",
    "X_train = scaler.transform(X_train)\n",
    "X_test = scaler.transform(X_test)\n",
    "\n",
    "scaler.fit(y)\n",
    "\n",
    "y_train = scaler.transform(y_train)\n",
    "y_test = scaler.transform(y_test)"
   ]
  },
  {
   "cell_type": "code",
   "execution_count": 8,
   "metadata": {},
   "outputs": [
    {
     "output_type": "stream",
     "name": "stdout",
     "text": [
      "X_train sample values:\n[[[0.03377276]\n  [0.04066717]\n  [0.04591454]\n  [0.04454023]\n  [0.03175358]]\n\n [[0.04423756]\n  [0.04591454]\n  [0.04454023]\n  [0.03335832]\n  [0.03199144]]\n\n [[0.04994564]\n  [0.04454023]\n  [0.03335832]\n  [0.0336082 ]\n  [0.03633228]]\n\n [[0.04845067]\n  [0.03335832]\n  [0.0336082 ]\n  [0.03816842]\n  [0.03276446]]\n\n [[0.03628703]\n  [0.0336082 ]\n  [0.03816842]\n  [0.03442029]\n  [0.03544033]]] \n\nX_test sample values:\n[[[0.03377276]\n  [0.04066717]\n  [0.04591454]\n  [0.04454023]\n  [0.03175358]]\n\n [[0.04423756]\n  [0.04591454]\n  [0.04454023]\n  [0.03335832]\n  [0.03199144]]\n\n [[0.04994564]\n  [0.04454023]\n  [0.03335832]\n  [0.0336082 ]\n  [0.03633228]]\n\n [[0.04845067]\n  [0.03335832]\n  [0.0336082 ]\n  [0.03816842]\n  [0.03276446]]\n\n [[0.03628703]\n  [0.0336082 ]\n  [0.03816842]\n  [0.03442029]\n  [0.03544033]]]\n"
     ]
    }
   ],
   "source": [
    "# Reshape the features for the model\n",
    "X_train = X_train.reshape((X_train.shape[0], X_train.shape[1], 1))\n",
    "X_test = X_test.reshape((X_test.shape[0], X_test.shape[1], 1))\n",
    "print (f\"X_train sample values:\\n{X_train[:5]} \\n\")\n",
    "print (f\"X_test sample values:\\n{X_test[:5]}\")"
   ]
  },
  {
   "cell_type": "markdown",
   "metadata": {},
   "source": [
    "---"
   ]
  },
  {
   "cell_type": "markdown",
   "metadata": {},
   "source": [
    "## Build and Train the LSTM RNN\n",
    "\n",
    "In this section, you will design a custom LSTM RNN and fit (train) it using the training data.\n",
    "\n",
    "You will need to:\n",
    "1. Define the model architecture\n",
    "2. Compile the model\n",
    "3. Fit the model to the training data\n",
    "\n",
    "### Hints:\n",
    "You will want to use the same model architecture and random seed for both notebooks. This is necessary to accurately compare the performance of the FNG model vs the closing price model. "
   ]
  },
  {
   "cell_type": "code",
   "execution_count": 9,
   "metadata": {},
   "outputs": [],
   "source": [
    "from tensorflow.keras.models import Sequential\n",
    "from tensorflow.keras.layers import LSTM, Dense, Dropout"
   ]
  },
  {
   "cell_type": "code",
   "execution_count": 10,
   "metadata": {},
   "outputs": [],
   "source": [
    "# Build the LSTM model. \n",
    "# The return sequences need to be set to True if you are adding additional LSTM layers, but \n",
    "# You don't have to do this for the final layer. \n",
    "# Note: The dropouts help prevent overfitting\n",
    "# Note: The input shape is the number of time steps and the number of indicators\n",
    "# Note: Batching inputs has a different input shape of Samples/TimeSteps/Features\n",
    "\n",
    "model = Sequential()\n",
    "\n",
    "number_units = 30\n",
    "dropout_fraction = 0.2\n",
    "\n",
    "#layer 1\n",
    "model.add(LSTM(\n",
    "    units=number_units,\n",
    "    return_sequences=True,\n",
    "    input_shape=(X_train.shape[1], 1)\n",
    "))\n",
    "model.add(Dropout(dropout_fraction))\n",
    "\n",
    "#layer 2\n",
    "model.add(LSTM(units=number_units, return_sequences=True))\n",
    "model.add(Dropout(dropout_fraction))\n",
    "\n",
    "#layer 3\n",
    "model.add(LSTM(units=number_units))\n",
    "model.add(Dropout(dropout_fraction))\n",
    "\n",
    "model.add(Dense(1))"
   ]
  },
  {
   "cell_type": "code",
   "execution_count": 11,
   "metadata": {},
   "outputs": [],
   "source": [
    "# Compile the model\n",
    "model.compile(optimizer=\"adam\", loss=\"mean_squared_error\")"
   ]
  },
  {
   "cell_type": "code",
   "execution_count": 12,
   "metadata": {},
   "outputs": [
    {
     "output_type": "stream",
     "name": "stdout",
     "text": [
      "Model: \"sequential\"\n_________________________________________________________________\nLayer (type)                 Output Shape              Param #   \n=================================================================\nlstm (LSTM)                  (None, 5, 30)             3840      \n_________________________________________________________________\ndropout (Dropout)            (None, 5, 30)             0         \n_________________________________________________________________\nlstm_1 (LSTM)                (None, 5, 30)             7320      \n_________________________________________________________________\ndropout_1 (Dropout)          (None, 5, 30)             0         \n_________________________________________________________________\nlstm_2 (LSTM)                (None, 30)                7320      \n_________________________________________________________________\ndropout_2 (Dropout)          (None, 30)                0         \n_________________________________________________________________\ndense (Dense)                (None, 1)                 31        \n=================================================================\nTotal params: 18,511\nTrainable params: 18,511\nNon-trainable params: 0\n_________________________________________________________________\n"
     ]
    }
   ],
   "source": [
    "# Summarize the model\n",
    "model.summary()"
   ]
  },
  {
   "cell_type": "code",
   "execution_count": 13,
   "metadata": {},
   "outputs": [
    {
     "output_type": "stream",
     "name": "stdout",
     "text": [
      "Epoch 1/30\n",
      "4/4 [==============================] - 4s 10ms/step - loss: 0.0047\n",
      "Epoch 2/30\n",
      "4/4 [==============================] - 0s 9ms/step - loss: 0.0024\n",
      "Epoch 3/30\n",
      "4/4 [==============================] - 0s 10ms/step - loss: 0.0020\n",
      "Epoch 4/30\n",
      "4/4 [==============================] - 0s 10ms/step - loss: 0.0030\n",
      "Epoch 5/30\n",
      "4/4 [==============================] - 0s 9ms/step - loss: 0.0038\n",
      "Epoch 6/30\n",
      "4/4 [==============================] - 0s 8ms/step - loss: 0.0041\n",
      "Epoch 7/30\n",
      "4/4 [==============================] - 0s 7ms/step - loss: 0.0034\n",
      "Epoch 8/30\n",
      "4/4 [==============================] - 0s 7ms/step - loss: 0.0028\n",
      "Epoch 9/30\n",
      "4/4 [==============================] - 0s 7ms/step - loss: 0.0024\n",
      "Epoch 10/30\n",
      "4/4 [==============================] - 0s 7ms/step - loss: 0.0022\n",
      "Epoch 11/30\n",
      "4/4 [==============================] - 0s 8ms/step - loss: 0.0021\n",
      "Epoch 12/30\n",
      "4/4 [==============================] - 0s 7ms/step - loss: 0.0021\n",
      "Epoch 13/30\n",
      "4/4 [==============================] - 0s 7ms/step - loss: 0.0021\n",
      "Epoch 14/30\n",
      "4/4 [==============================] - 0s 7ms/step - loss: 0.0020\n",
      "Epoch 15/30\n",
      "4/4 [==============================] - 0s 7ms/step - loss: 0.0018\n",
      "Epoch 16/30\n",
      "4/4 [==============================] - 0s 7ms/step - loss: 0.0017\n",
      "Epoch 17/30\n",
      "4/4 [==============================] - 0s 8ms/step - loss: 0.0013\n",
      "Epoch 18/30\n",
      "4/4 [==============================] - 0s 7ms/step - loss: 0.0010\n",
      "Epoch 19/30\n",
      "4/4 [==============================] - 0s 7ms/step - loss: 7.6341e-04\n",
      "Epoch 20/30\n",
      "4/4 [==============================] - 0s 6ms/step - loss: 5.6492e-04\n",
      "Epoch 21/30\n",
      "4/4 [==============================] - 0s 6ms/step - loss: 3.9361e-04\n",
      "Epoch 22/30\n",
      "4/4 [==============================] - 0s 6ms/step - loss: 2.5435e-04\n",
      "Epoch 23/30\n",
      "4/4 [==============================] - 0s 6ms/step - loss: 2.6347e-04\n",
      "Epoch 24/30\n",
      "4/4 [==============================] - 0s 6ms/step - loss: 2.4358e-04\n",
      "Epoch 25/30\n",
      "4/4 [==============================] - 0s 6ms/step - loss: 2.8999e-04\n",
      "Epoch 26/30\n",
      "4/4 [==============================] - 0s 7ms/step - loss: 2.7054e-04\n",
      "Epoch 27/30\n",
      "4/4 [==============================] - 0s 6ms/step - loss: 2.4389e-04\n",
      "Epoch 28/30\n",
      "4/4 [==============================] - 0s 6ms/step - loss: 2.3353e-04\n",
      "Epoch 29/30\n",
      "4/4 [==============================] - 0s 7ms/step - loss: 2.5462e-04\n",
      "Epoch 30/30\n",
      "4/4 [==============================] - 0s 7ms/step - loss: 2.3025e-04\n"
     ]
    },
    {
     "output_type": "execute_result",
     "data": {
      "text/plain": [
       "<tensorflow.python.keras.callbacks.History at 0x2a7d18ef0d0>"
      ]
     },
     "metadata": {},
     "execution_count": 13
    }
   ],
   "source": [
    "# Train the model\n",
    "# Use at least 10 epochs\n",
    "# Do not shuffle the data\n",
    "# Experiement with the batch size, but a smaller batch size is recommended\n",
    "model.fit(X_train, y_train, epochs=30, shuffle=False, batch_size=90, verbose=1)"
   ]
  },
  {
   "cell_type": "markdown",
   "metadata": {},
   "source": [
    "---"
   ]
  },
  {
   "cell_type": "markdown",
   "metadata": {},
   "source": [
    "## Model Performance\n",
    "\n",
    "In this section, you will evaluate the model using the test data. \n",
    "\n",
    "You will need to:\n",
    "1. Evaluate the model using the `X_test` and `y_test` data.\n",
    "2. Use the X_test data to make predictions\n",
    "3. Create a DataFrame of Real (y_test) vs predicted values. \n",
    "4. Plot the Real vs predicted values as a line chart\n",
    "\n",
    "### Hints\n",
    "Remember to apply the `inverse_transform` function to the predicted and y_test values to recover the actual closing prices."
   ]
  },
  {
   "cell_type": "code",
   "execution_count": 14,
   "metadata": {},
   "outputs": [
    {
     "output_type": "stream",
     "name": "stdout",
     "text": [
      "11/11 [==============================] - 1s 2ms/step - loss: 2.1224e-04\n"
     ]
    },
    {
     "output_type": "execute_result",
     "data": {
      "text/plain": [
       "0.00021224065858405083"
      ]
     },
     "metadata": {},
     "execution_count": 14
    }
   ],
   "source": [
    "# Evaluate the model\n",
    "model.evaluate(X_test, y_test)"
   ]
  },
  {
   "cell_type": "code",
   "execution_count": 15,
   "metadata": {},
   "outputs": [],
   "source": [
    "# Make some predictions\n",
    "predicted = model.predict(X_test)"
   ]
  },
  {
   "cell_type": "code",
   "execution_count": 16,
   "metadata": {},
   "outputs": [],
   "source": [
    "# Recover the original prices instead of the scaled version\n",
    "predicted_prices = scaler.inverse_transform(predicted)\n",
    "real_prices = scaler.inverse_transform(y_test.reshape(-1, 1))"
   ]
  },
  {
   "cell_type": "code",
   "execution_count": 17,
   "metadata": {},
   "outputs": [
    {
     "output_type": "execute_result",
     "data": {
      "text/plain": [
       "                      Real  Predicted\n",
       "Date                                 \n",
       "2020-12-31 16:00:00  60.36  63.463882\n",
       "2021-01-04 16:00:00  66.87  64.443146\n",
       "2021-01-05 16:00:00  65.76  66.536888\n",
       "2021-01-06 16:00:00  67.30  64.096733\n",
       "2021-01-07 16:00:00  68.15  63.310032"
      ],
      "text/html": "<div>\n<style scoped>\n    .dataframe tbody tr th:only-of-type {\n        vertical-align: middle;\n    }\n\n    .dataframe tbody tr th {\n        vertical-align: top;\n    }\n\n    .dataframe thead th {\n        text-align: right;\n    }\n</style>\n<table border=\"1\" class=\"dataframe\">\n  <thead>\n    <tr style=\"text-align: right;\">\n      <th></th>\n      <th>Real</th>\n      <th>Predicted</th>\n    </tr>\n    <tr>\n      <th>Date</th>\n      <th></th>\n      <th></th>\n    </tr>\n  </thead>\n  <tbody>\n    <tr>\n      <th>2020-12-31 16:00:00</th>\n      <td>60.36</td>\n      <td>63.463882</td>\n    </tr>\n    <tr>\n      <th>2021-01-04 16:00:00</th>\n      <td>66.87</td>\n      <td>64.443146</td>\n    </tr>\n    <tr>\n      <th>2021-01-05 16:00:00</th>\n      <td>65.76</td>\n      <td>66.536888</td>\n    </tr>\n    <tr>\n      <th>2021-01-06 16:00:00</th>\n      <td>67.30</td>\n      <td>64.096733</td>\n    </tr>\n    <tr>\n      <th>2021-01-07 16:00:00</th>\n      <td>68.15</td>\n      <td>63.310032</td>\n    </tr>\n  </tbody>\n</table>\n</div>"
     },
     "metadata": {},
     "execution_count": 17
    }
   ],
   "source": [
    "# Create a DataFrame of Real and Predicted values\n",
    "stocks = pd.DataFrame({\n",
    "    \"Real\": real_prices.ravel(),\n",
    "    \"Predicted\": predicted_prices.ravel(),\n",
    "}, index = df.index[-len(real_prices): ]) \n",
    "stocks.tail()"
   ]
  },
  {
   "cell_type": "code",
   "execution_count": 18,
   "metadata": {},
   "outputs": [],
   "source": [
    "stocks.to_csv('../Data/Cleandata/LSTM_PDD.csv')"
   ]
  },
  {
   "cell_type": "code",
   "execution_count": 19,
   "metadata": {},
   "outputs": [
    {
     "output_type": "execute_result",
     "data": {
      "text/plain": [
       "<AxesSubplot:xlabel='Date'>"
      ]
     },
     "metadata": {},
     "execution_count": 19
    },
    {
     "output_type": "display_data",
     "data": {
      "text/plain": "<Figure size 432x288 with 1 Axes>",
      "image/svg+xml": "<?xml version=\"1.0\" encoding=\"utf-8\" standalone=\"no\"?>\r\n<!DOCTYPE svg PUBLIC \"-//W3C//DTD SVG 1.1//EN\"\r\n  \"http://www.w3.org/Graphics/SVG/1.1/DTD/svg11.dtd\">\r\n<!-- Created with matplotlib (https://matplotlib.org/) -->\r\n<svg height=\"260.191033pt\" version=\"1.1\" viewBox=\"0 0 368.925 260.191033\" width=\"368.925pt\" xmlns=\"http://www.w3.org/2000/svg\" xmlns:xlink=\"http://www.w3.org/1999/xlink\">\r\n <metadata>\r\n  <rdf:RDF xmlns:cc=\"http://creativecommons.org/ns#\" xmlns:dc=\"http://purl.org/dc/elements/1.1/\" xmlns:rdf=\"http://www.w3.org/1999/02/22-rdf-syntax-ns#\">\r\n   <cc:Work>\r\n    <dc:type rdf:resource=\"http://purl.org/dc/dcmitype/StillImage\"/>\r\n    <dc:date>2021-01-16T02:17:07.371787</dc:date>\r\n    <dc:format>image/svg+xml</dc:format>\r\n    <dc:creator>\r\n     <cc:Agent>\r\n      <dc:title>Matplotlib v3.3.3, https://matplotlib.org/</dc:title>\r\n     </cc:Agent>\r\n    </dc:creator>\r\n   </cc:Work>\r\n  </rdf:RDF>\r\n </metadata>\r\n <defs>\r\n  <style type=\"text/css\">*{stroke-linecap:butt;stroke-linejoin:round;}</style>\r\n </defs>\r\n <g id=\"figure_1\">\r\n  <g id=\"patch_1\">\r\n   <path d=\"M -0 260.191033 \r\nL 368.925 260.191033 \r\nL 368.925 0 \r\nL -0 0 \r\nz\r\n\" style=\"fill:none;\"/>\r\n  </g>\r\n  <g id=\"axes_1\">\r\n   <g id=\"patch_2\">\r\n    <path d=\"M 26.925 203.04 \r\nL 361.725 203.04 \r\nL 361.725 7.2 \r\nL 26.925 7.2 \r\nz\r\n\" style=\"fill:#ffffff;\"/>\r\n   </g>\r\n   <g id=\"matplotlib.axis_1\">\r\n    <g id=\"xtick_1\">\r\n     <g id=\"line2d_1\">\r\n      <defs>\r\n       <path d=\"M 0 0 \r\nL 0 3.5 \r\n\" id=\"mf0e018af50\" style=\"stroke:#000000;stroke-width:0.8;\"/>\r\n      </defs>\r\n      <g>\r\n       <use style=\"stroke:#000000;stroke-width:0.8;\" x=\"48.371085\" xlink:href=\"#mf0e018af50\" y=\"203.04\"/>\r\n      </g>\r\n     </g>\r\n     <g id=\"text_1\">\r\n      <!-- 2019-09 -->\r\n      <g transform=\"translate(11.146264 237.511846)rotate(-30)scale(0.1 -0.1)\">\r\n       <defs>\r\n        <path d=\"M 19.1875 8.296875 \r\nL 53.609375 8.296875 \r\nL 53.609375 0 \r\nL 7.328125 0 \r\nL 7.328125 8.296875 \r\nQ 12.9375 14.109375 22.625 23.890625 \r\nQ 32.328125 33.6875 34.8125 36.53125 \r\nQ 39.546875 41.84375 41.421875 45.53125 \r\nQ 43.3125 49.21875 43.3125 52.78125 \r\nQ 43.3125 58.59375 39.234375 62.25 \r\nQ 35.15625 65.921875 28.609375 65.921875 \r\nQ 23.96875 65.921875 18.8125 64.3125 \r\nQ 13.671875 62.703125 7.8125 59.421875 \r\nL 7.8125 69.390625 \r\nQ 13.765625 71.78125 18.9375 73 \r\nQ 24.125 74.21875 28.421875 74.21875 \r\nQ 39.75 74.21875 46.484375 68.546875 \r\nQ 53.21875 62.890625 53.21875 53.421875 \r\nQ 53.21875 48.921875 51.53125 44.890625 \r\nQ 49.859375 40.875 45.40625 35.40625 \r\nQ 44.1875 33.984375 37.640625 27.21875 \r\nQ 31.109375 20.453125 19.1875 8.296875 \r\nz\r\n\" id=\"DejaVuSans-50\"/>\r\n        <path d=\"M 31.78125 66.40625 \r\nQ 24.171875 66.40625 20.328125 58.90625 \r\nQ 16.5 51.421875 16.5 36.375 \r\nQ 16.5 21.390625 20.328125 13.890625 \r\nQ 24.171875 6.390625 31.78125 6.390625 \r\nQ 39.453125 6.390625 43.28125 13.890625 \r\nQ 47.125 21.390625 47.125 36.375 \r\nQ 47.125 51.421875 43.28125 58.90625 \r\nQ 39.453125 66.40625 31.78125 66.40625 \r\nz\r\nM 31.78125 74.21875 \r\nQ 44.046875 74.21875 50.515625 64.515625 \r\nQ 56.984375 54.828125 56.984375 36.375 \r\nQ 56.984375 17.96875 50.515625 8.265625 \r\nQ 44.046875 -1.421875 31.78125 -1.421875 \r\nQ 19.53125 -1.421875 13.0625 8.265625 \r\nQ 6.59375 17.96875 6.59375 36.375 \r\nQ 6.59375 54.828125 13.0625 64.515625 \r\nQ 19.53125 74.21875 31.78125 74.21875 \r\nz\r\n\" id=\"DejaVuSans-48\"/>\r\n        <path d=\"M 12.40625 8.296875 \r\nL 28.515625 8.296875 \r\nL 28.515625 63.921875 \r\nL 10.984375 60.40625 \r\nL 10.984375 69.390625 \r\nL 28.421875 72.90625 \r\nL 38.28125 72.90625 \r\nL 38.28125 8.296875 \r\nL 54.390625 8.296875 \r\nL 54.390625 0 \r\nL 12.40625 0 \r\nz\r\n\" id=\"DejaVuSans-49\"/>\r\n        <path d=\"M 10.984375 1.515625 \r\nL 10.984375 10.5 \r\nQ 14.703125 8.734375 18.5 7.8125 \r\nQ 22.3125 6.890625 25.984375 6.890625 \r\nQ 35.75 6.890625 40.890625 13.453125 \r\nQ 46.046875 20.015625 46.78125 33.40625 \r\nQ 43.953125 29.203125 39.59375 26.953125 \r\nQ 35.25 24.703125 29.984375 24.703125 \r\nQ 19.046875 24.703125 12.671875 31.3125 \r\nQ 6.296875 37.9375 6.296875 49.421875 \r\nQ 6.296875 60.640625 12.9375 67.421875 \r\nQ 19.578125 74.21875 30.609375 74.21875 \r\nQ 43.265625 74.21875 49.921875 64.515625 \r\nQ 56.59375 54.828125 56.59375 36.375 \r\nQ 56.59375 19.140625 48.40625 8.859375 \r\nQ 40.234375 -1.421875 26.421875 -1.421875 \r\nQ 22.703125 -1.421875 18.890625 -0.6875 \r\nQ 15.09375 0.046875 10.984375 1.515625 \r\nz\r\nM 30.609375 32.421875 \r\nQ 37.25 32.421875 41.125 36.953125 \r\nQ 45.015625 41.5 45.015625 49.421875 \r\nQ 45.015625 57.28125 41.125 61.84375 \r\nQ 37.25 66.40625 30.609375 66.40625 \r\nQ 23.96875 66.40625 20.09375 61.84375 \r\nQ 16.21875 57.28125 16.21875 49.421875 \r\nQ 16.21875 41.5 20.09375 36.953125 \r\nQ 23.96875 32.421875 30.609375 32.421875 \r\nz\r\n\" id=\"DejaVuSans-57\"/>\r\n        <path d=\"M 4.890625 31.390625 \r\nL 31.203125 31.390625 \r\nL 31.203125 23.390625 \r\nL 4.890625 23.390625 \r\nz\r\n\" id=\"DejaVuSans-45\"/>\r\n       </defs>\r\n       <use xlink:href=\"#DejaVuSans-50\"/>\r\n       <use x=\"63.623047\" xlink:href=\"#DejaVuSans-48\"/>\r\n       <use x=\"127.246094\" xlink:href=\"#DejaVuSans-49\"/>\r\n       <use x=\"190.869141\" xlink:href=\"#DejaVuSans-57\"/>\r\n       <use x=\"254.492188\" xlink:href=\"#DejaVuSans-45\"/>\r\n       <use x=\"290.576172\" xlink:href=\"#DejaVuSans-48\"/>\r\n       <use x=\"354.199219\" xlink:href=\"#DejaVuSans-57\"/>\r\n      </g>\r\n     </g>\r\n    </g>\r\n    <g id=\"xtick_2\">\r\n     <g id=\"line2d_2\">\r\n      <g>\r\n       <use style=\"stroke:#000000;stroke-width:0.8;\" x=\"85.135801\" xlink:href=\"#mf0e018af50\" y=\"203.04\"/>\r\n      </g>\r\n     </g>\r\n     <g id=\"text_2\">\r\n      <!-- 2019-11 -->\r\n      <g transform=\"translate(47.91098 237.511846)rotate(-30)scale(0.1 -0.1)\">\r\n       <use xlink:href=\"#DejaVuSans-50\"/>\r\n       <use x=\"63.623047\" xlink:href=\"#DejaVuSans-48\"/>\r\n       <use x=\"127.246094\" xlink:href=\"#DejaVuSans-49\"/>\r\n       <use x=\"190.869141\" xlink:href=\"#DejaVuSans-57\"/>\r\n       <use x=\"254.492188\" xlink:href=\"#DejaVuSans-45\"/>\r\n       <use x=\"290.576172\" xlink:href=\"#DejaVuSans-49\"/>\r\n       <use x=\"354.199219\" xlink:href=\"#DejaVuSans-49\"/>\r\n      </g>\r\n     </g>\r\n    </g>\r\n    <g id=\"xtick_3\">\r\n     <g id=\"line2d_3\">\r\n      <g>\r\n       <use style=\"stroke:#000000;stroke-width:0.8;\" x=\"121.900518\" xlink:href=\"#mf0e018af50\" y=\"203.04\"/>\r\n      </g>\r\n     </g>\r\n     <g id=\"text_3\">\r\n      <!-- 2020-01 -->\r\n      <g transform=\"translate(84.675697 237.511846)rotate(-30)scale(0.1 -0.1)\">\r\n       <use xlink:href=\"#DejaVuSans-50\"/>\r\n       <use x=\"63.623047\" xlink:href=\"#DejaVuSans-48\"/>\r\n       <use x=\"127.246094\" xlink:href=\"#DejaVuSans-50\"/>\r\n       <use x=\"190.869141\" xlink:href=\"#DejaVuSans-48\"/>\r\n       <use x=\"254.492188\" xlink:href=\"#DejaVuSans-45\"/>\r\n       <use x=\"290.576172\" xlink:href=\"#DejaVuSans-48\"/>\r\n       <use x=\"354.199219\" xlink:href=\"#DejaVuSans-49\"/>\r\n      </g>\r\n     </g>\r\n    </g>\r\n    <g id=\"xtick_4\">\r\n     <g id=\"line2d_4\">\r\n      <g>\r\n       <use style=\"stroke:#000000;stroke-width:0.8;\" x=\"158.062534\" xlink:href=\"#mf0e018af50\" y=\"203.04\"/>\r\n      </g>\r\n     </g>\r\n     <g id=\"text_4\">\r\n      <!-- 2020-03 -->\r\n      <g transform=\"translate(120.837713 237.511846)rotate(-30)scale(0.1 -0.1)\">\r\n       <defs>\r\n        <path d=\"M 40.578125 39.3125 \r\nQ 47.65625 37.796875 51.625 33 \r\nQ 55.609375 28.21875 55.609375 21.1875 \r\nQ 55.609375 10.40625 48.1875 4.484375 \r\nQ 40.765625 -1.421875 27.09375 -1.421875 \r\nQ 22.515625 -1.421875 17.65625 -0.515625 \r\nQ 12.796875 0.390625 7.625 2.203125 \r\nL 7.625 11.71875 \r\nQ 11.71875 9.328125 16.59375 8.109375 \r\nQ 21.484375 6.890625 26.8125 6.890625 \r\nQ 36.078125 6.890625 40.9375 10.546875 \r\nQ 45.796875 14.203125 45.796875 21.1875 \r\nQ 45.796875 27.640625 41.28125 31.265625 \r\nQ 36.765625 34.90625 28.71875 34.90625 \r\nL 20.21875 34.90625 \r\nL 20.21875 43.015625 \r\nL 29.109375 43.015625 \r\nQ 36.375 43.015625 40.234375 45.921875 \r\nQ 44.09375 48.828125 44.09375 54.296875 \r\nQ 44.09375 59.90625 40.109375 62.90625 \r\nQ 36.140625 65.921875 28.71875 65.921875 \r\nQ 24.65625 65.921875 20.015625 65.03125 \r\nQ 15.375 64.15625 9.8125 62.3125 \r\nL 9.8125 71.09375 \r\nQ 15.4375 72.65625 20.34375 73.4375 \r\nQ 25.25 74.21875 29.59375 74.21875 \r\nQ 40.828125 74.21875 47.359375 69.109375 \r\nQ 53.90625 64.015625 53.90625 55.328125 \r\nQ 53.90625 49.265625 50.4375 45.09375 \r\nQ 46.96875 40.921875 40.578125 39.3125 \r\nz\r\n\" id=\"DejaVuSans-51\"/>\r\n       </defs>\r\n       <use xlink:href=\"#DejaVuSans-50\"/>\r\n       <use x=\"63.623047\" xlink:href=\"#DejaVuSans-48\"/>\r\n       <use x=\"127.246094\" xlink:href=\"#DejaVuSans-50\"/>\r\n       <use x=\"190.869141\" xlink:href=\"#DejaVuSans-48\"/>\r\n       <use x=\"254.492188\" xlink:href=\"#DejaVuSans-45\"/>\r\n       <use x=\"290.576172\" xlink:href=\"#DejaVuSans-48\"/>\r\n       <use x=\"354.199219\" xlink:href=\"#DejaVuSans-51\"/>\r\n      </g>\r\n     </g>\r\n    </g>\r\n    <g id=\"xtick_5\">\r\n     <g id=\"line2d_5\">\r\n      <g>\r\n       <use style=\"stroke:#000000;stroke-width:0.8;\" x=\"194.82725\" xlink:href=\"#mf0e018af50\" y=\"203.04\"/>\r\n      </g>\r\n     </g>\r\n     <g id=\"text_5\">\r\n      <!-- 2020-05 -->\r\n      <g transform=\"translate(157.602429 237.511846)rotate(-30)scale(0.1 -0.1)\">\r\n       <defs>\r\n        <path d=\"M 10.796875 72.90625 \r\nL 49.515625 72.90625 \r\nL 49.515625 64.59375 \r\nL 19.828125 64.59375 \r\nL 19.828125 46.734375 \r\nQ 21.96875 47.46875 24.109375 47.828125 \r\nQ 26.265625 48.1875 28.421875 48.1875 \r\nQ 40.625 48.1875 47.75 41.5 \r\nQ 54.890625 34.8125 54.890625 23.390625 \r\nQ 54.890625 11.625 47.5625 5.09375 \r\nQ 40.234375 -1.421875 26.90625 -1.421875 \r\nQ 22.3125 -1.421875 17.546875 -0.640625 \r\nQ 12.796875 0.140625 7.71875 1.703125 \r\nL 7.71875 11.625 \r\nQ 12.109375 9.234375 16.796875 8.0625 \r\nQ 21.484375 6.890625 26.703125 6.890625 \r\nQ 35.15625 6.890625 40.078125 11.328125 \r\nQ 45.015625 15.765625 45.015625 23.390625 \r\nQ 45.015625 31 40.078125 35.4375 \r\nQ 35.15625 39.890625 26.703125 39.890625 \r\nQ 22.75 39.890625 18.8125 39.015625 \r\nQ 14.890625 38.140625 10.796875 36.28125 \r\nz\r\n\" id=\"DejaVuSans-53\"/>\r\n       </defs>\r\n       <use xlink:href=\"#DejaVuSans-50\"/>\r\n       <use x=\"63.623047\" xlink:href=\"#DejaVuSans-48\"/>\r\n       <use x=\"127.246094\" xlink:href=\"#DejaVuSans-50\"/>\r\n       <use x=\"190.869141\" xlink:href=\"#DejaVuSans-48\"/>\r\n       <use x=\"254.492188\" xlink:href=\"#DejaVuSans-45\"/>\r\n       <use x=\"290.576172\" xlink:href=\"#DejaVuSans-48\"/>\r\n       <use x=\"354.199219\" xlink:href=\"#DejaVuSans-53\"/>\r\n      </g>\r\n     </g>\r\n    </g>\r\n    <g id=\"xtick_6\">\r\n     <g id=\"line2d_6\">\r\n      <g>\r\n       <use style=\"stroke:#000000;stroke-width:0.8;\" x=\"231.591967\" xlink:href=\"#mf0e018af50\" y=\"203.04\"/>\r\n      </g>\r\n     </g>\r\n     <g id=\"text_6\">\r\n      <!-- 2020-07 -->\r\n      <g transform=\"translate(194.367146 237.511846)rotate(-30)scale(0.1 -0.1)\">\r\n       <defs>\r\n        <path d=\"M 8.203125 72.90625 \r\nL 55.078125 72.90625 \r\nL 55.078125 68.703125 \r\nL 28.609375 0 \r\nL 18.3125 0 \r\nL 43.21875 64.59375 \r\nL 8.203125 64.59375 \r\nz\r\n\" id=\"DejaVuSans-55\"/>\r\n       </defs>\r\n       <use xlink:href=\"#DejaVuSans-50\"/>\r\n       <use x=\"63.623047\" xlink:href=\"#DejaVuSans-48\"/>\r\n       <use x=\"127.246094\" xlink:href=\"#DejaVuSans-50\"/>\r\n       <use x=\"190.869141\" xlink:href=\"#DejaVuSans-48\"/>\r\n       <use x=\"254.492188\" xlink:href=\"#DejaVuSans-45\"/>\r\n       <use x=\"290.576172\" xlink:href=\"#DejaVuSans-48\"/>\r\n       <use x=\"354.199219\" xlink:href=\"#DejaVuSans-55\"/>\r\n      </g>\r\n     </g>\r\n    </g>\r\n    <g id=\"xtick_7\">\r\n     <g id=\"line2d_7\">\r\n      <g>\r\n       <use style=\"stroke:#000000;stroke-width:0.8;\" x=\"268.959383\" xlink:href=\"#mf0e018af50\" y=\"203.04\"/>\r\n      </g>\r\n     </g>\r\n     <g id=\"text_7\">\r\n      <!-- 2020-09 -->\r\n      <g transform=\"translate(231.734563 237.511846)rotate(-30)scale(0.1 -0.1)\">\r\n       <use xlink:href=\"#DejaVuSans-50\"/>\r\n       <use x=\"63.623047\" xlink:href=\"#DejaVuSans-48\"/>\r\n       <use x=\"127.246094\" xlink:href=\"#DejaVuSans-50\"/>\r\n       <use x=\"190.869141\" xlink:href=\"#DejaVuSans-48\"/>\r\n       <use x=\"254.492188\" xlink:href=\"#DejaVuSans-45\"/>\r\n       <use x=\"290.576172\" xlink:href=\"#DejaVuSans-48\"/>\r\n       <use x=\"354.199219\" xlink:href=\"#DejaVuSans-57\"/>\r\n      </g>\r\n     </g>\r\n    </g>\r\n    <g id=\"xtick_8\">\r\n     <g id=\"line2d_8\">\r\n      <g>\r\n       <use style=\"stroke:#000000;stroke-width:0.8;\" x=\"305.7241\" xlink:href=\"#mf0e018af50\" y=\"203.04\"/>\r\n      </g>\r\n     </g>\r\n     <g id=\"text_8\">\r\n      <!-- 2020-11 -->\r\n      <g transform=\"translate(268.499279 237.511846)rotate(-30)scale(0.1 -0.1)\">\r\n       <use xlink:href=\"#DejaVuSans-50\"/>\r\n       <use x=\"63.623047\" xlink:href=\"#DejaVuSans-48\"/>\r\n       <use x=\"127.246094\" xlink:href=\"#DejaVuSans-50\"/>\r\n       <use x=\"190.869141\" xlink:href=\"#DejaVuSans-48\"/>\r\n       <use x=\"254.492188\" xlink:href=\"#DejaVuSans-45\"/>\r\n       <use x=\"290.576172\" xlink:href=\"#DejaVuSans-49\"/>\r\n       <use x=\"354.199219\" xlink:href=\"#DejaVuSans-49\"/>\r\n      </g>\r\n     </g>\r\n    </g>\r\n    <g id=\"xtick_9\">\r\n     <g id=\"line2d_9\">\r\n      <g>\r\n       <use style=\"stroke:#000000;stroke-width:0.8;\" x=\"342.488816\" xlink:href=\"#mf0e018af50\" y=\"203.04\"/>\r\n      </g>\r\n     </g>\r\n     <g id=\"text_9\">\r\n      <!-- 2021-01 -->\r\n      <g transform=\"translate(305.263996 237.511846)rotate(-30)scale(0.1 -0.1)\">\r\n       <use xlink:href=\"#DejaVuSans-50\"/>\r\n       <use x=\"63.623047\" xlink:href=\"#DejaVuSans-48\"/>\r\n       <use x=\"127.246094\" xlink:href=\"#DejaVuSans-50\"/>\r\n       <use x=\"190.869141\" xlink:href=\"#DejaVuSans-49\"/>\r\n       <use x=\"254.492188\" xlink:href=\"#DejaVuSans-45\"/>\r\n       <use x=\"290.576172\" xlink:href=\"#DejaVuSans-48\"/>\r\n       <use x=\"354.199219\" xlink:href=\"#DejaVuSans-49\"/>\r\n      </g>\r\n     </g>\r\n    </g>\r\n    <g id=\"text_10\">\r\n     <!-- Date -->\r\n     <g transform=\"translate(182.374219 250.911346)scale(0.1 -0.1)\">\r\n      <defs>\r\n       <path d=\"M 19.671875 64.796875 \r\nL 19.671875 8.109375 \r\nL 31.59375 8.109375 \r\nQ 46.6875 8.109375 53.6875 14.9375 \r\nQ 60.6875 21.78125 60.6875 36.53125 \r\nQ 60.6875 51.171875 53.6875 57.984375 \r\nQ 46.6875 64.796875 31.59375 64.796875 \r\nz\r\nM 9.8125 72.90625 \r\nL 30.078125 72.90625 \r\nQ 51.265625 72.90625 61.171875 64.09375 \r\nQ 71.09375 55.28125 71.09375 36.53125 \r\nQ 71.09375 17.671875 61.125 8.828125 \r\nQ 51.171875 0 30.078125 0 \r\nL 9.8125 0 \r\nz\r\n\" id=\"DejaVuSans-68\"/>\r\n       <path d=\"M 34.28125 27.484375 \r\nQ 23.390625 27.484375 19.1875 25 \r\nQ 14.984375 22.515625 14.984375 16.5 \r\nQ 14.984375 11.71875 18.140625 8.90625 \r\nQ 21.296875 6.109375 26.703125 6.109375 \r\nQ 34.1875 6.109375 38.703125 11.40625 \r\nQ 43.21875 16.703125 43.21875 25.484375 \r\nL 43.21875 27.484375 \r\nz\r\nM 52.203125 31.203125 \r\nL 52.203125 0 \r\nL 43.21875 0 \r\nL 43.21875 8.296875 \r\nQ 40.140625 3.328125 35.546875 0.953125 \r\nQ 30.953125 -1.421875 24.3125 -1.421875 \r\nQ 15.921875 -1.421875 10.953125 3.296875 \r\nQ 6 8.015625 6 15.921875 \r\nQ 6 25.140625 12.171875 29.828125 \r\nQ 18.359375 34.515625 30.609375 34.515625 \r\nL 43.21875 34.515625 \r\nL 43.21875 35.40625 \r\nQ 43.21875 41.609375 39.140625 45 \r\nQ 35.0625 48.390625 27.6875 48.390625 \r\nQ 23 48.390625 18.546875 47.265625 \r\nQ 14.109375 46.140625 10.015625 43.890625 \r\nL 10.015625 52.203125 \r\nQ 14.9375 54.109375 19.578125 55.046875 \r\nQ 24.21875 56 28.609375 56 \r\nQ 40.484375 56 46.34375 49.84375 \r\nQ 52.203125 43.703125 52.203125 31.203125 \r\nz\r\n\" id=\"DejaVuSans-97\"/>\r\n       <path d=\"M 18.3125 70.21875 \r\nL 18.3125 54.6875 \r\nL 36.8125 54.6875 \r\nL 36.8125 47.703125 \r\nL 18.3125 47.703125 \r\nL 18.3125 18.015625 \r\nQ 18.3125 11.328125 20.140625 9.421875 \r\nQ 21.96875 7.515625 27.59375 7.515625 \r\nL 36.8125 7.515625 \r\nL 36.8125 0 \r\nL 27.59375 0 \r\nQ 17.1875 0 13.234375 3.875 \r\nQ 9.28125 7.765625 9.28125 18.015625 \r\nL 9.28125 47.703125 \r\nL 2.6875 47.703125 \r\nL 2.6875 54.6875 \r\nL 9.28125 54.6875 \r\nL 9.28125 70.21875 \r\nz\r\n\" id=\"DejaVuSans-116\"/>\r\n       <path d=\"M 56.203125 29.59375 \r\nL 56.203125 25.203125 \r\nL 14.890625 25.203125 \r\nQ 15.484375 15.921875 20.484375 11.0625 \r\nQ 25.484375 6.203125 34.421875 6.203125 \r\nQ 39.59375 6.203125 44.453125 7.46875 \r\nQ 49.3125 8.734375 54.109375 11.28125 \r\nL 54.109375 2.78125 \r\nQ 49.265625 0.734375 44.1875 -0.34375 \r\nQ 39.109375 -1.421875 33.890625 -1.421875 \r\nQ 20.796875 -1.421875 13.15625 6.1875 \r\nQ 5.515625 13.8125 5.515625 26.8125 \r\nQ 5.515625 40.234375 12.765625 48.109375 \r\nQ 20.015625 56 32.328125 56 \r\nQ 43.359375 56 49.78125 48.890625 \r\nQ 56.203125 41.796875 56.203125 29.59375 \r\nz\r\nM 47.21875 32.234375 \r\nQ 47.125 39.59375 43.09375 43.984375 \r\nQ 39.0625 48.390625 32.421875 48.390625 \r\nQ 24.90625 48.390625 20.390625 44.140625 \r\nQ 15.875 39.890625 15.1875 32.171875 \r\nz\r\n\" id=\"DejaVuSans-101\"/>\r\n      </defs>\r\n      <use xlink:href=\"#DejaVuSans-68\"/>\r\n      <use x=\"77.001953\" xlink:href=\"#DejaVuSans-97\"/>\r\n      <use x=\"138.28125\" xlink:href=\"#DejaVuSans-116\"/>\r\n      <use x=\"177.490234\" xlink:href=\"#DejaVuSans-101\"/>\r\n     </g>\r\n    </g>\r\n   </g>\r\n   <g id=\"matplotlib.axis_2\">\r\n    <g id=\"ytick_1\">\r\n     <g id=\"line2d_10\">\r\n      <defs>\r\n       <path d=\"M 0 0 \r\nL -3.5 0 \r\n\" id=\"md907e50e51\" style=\"stroke:#000000;stroke-width:0.8;\"/>\r\n      </defs>\r\n      <g>\r\n       <use style=\"stroke:#000000;stroke-width:0.8;\" x=\"26.925\" xlink:href=\"#md907e50e51\" y=\"190.661329\"/>\r\n      </g>\r\n     </g>\r\n     <g id=\"text_11\">\r\n      <!-- 20 -->\r\n      <g transform=\"translate(7.2 194.460548)scale(0.1 -0.1)\">\r\n       <use xlink:href=\"#DejaVuSans-50\"/>\r\n       <use x=\"63.623047\" xlink:href=\"#DejaVuSans-48\"/>\r\n      </g>\r\n     </g>\r\n    </g>\r\n    <g id=\"ytick_2\">\r\n     <g id=\"line2d_11\">\r\n      <g>\r\n       <use style=\"stroke:#000000;stroke-width:0.8;\" x=\"26.925\" xlink:href=\"#md907e50e51\" y=\"154.817487\"/>\r\n      </g>\r\n     </g>\r\n     <g id=\"text_12\">\r\n      <!-- 30 -->\r\n      <g transform=\"translate(7.2 158.616706)scale(0.1 -0.1)\">\r\n       <use xlink:href=\"#DejaVuSans-51\"/>\r\n       <use x=\"63.623047\" xlink:href=\"#DejaVuSans-48\"/>\r\n      </g>\r\n     </g>\r\n    </g>\r\n    <g id=\"ytick_3\">\r\n     <g id=\"line2d_12\">\r\n      <g>\r\n       <use style=\"stroke:#000000;stroke-width:0.8;\" x=\"26.925\" xlink:href=\"#md907e50e51\" y=\"118.973645\"/>\r\n      </g>\r\n     </g>\r\n     <g id=\"text_13\">\r\n      <!-- 40 -->\r\n      <g transform=\"translate(7.2 122.772864)scale(0.1 -0.1)\">\r\n       <defs>\r\n        <path d=\"M 37.796875 64.3125 \r\nL 12.890625 25.390625 \r\nL 37.796875 25.390625 \r\nz\r\nM 35.203125 72.90625 \r\nL 47.609375 72.90625 \r\nL 47.609375 25.390625 \r\nL 58.015625 25.390625 \r\nL 58.015625 17.1875 \r\nL 47.609375 17.1875 \r\nL 47.609375 0 \r\nL 37.796875 0 \r\nL 37.796875 17.1875 \r\nL 4.890625 17.1875 \r\nL 4.890625 26.703125 \r\nz\r\n\" id=\"DejaVuSans-52\"/>\r\n       </defs>\r\n       <use xlink:href=\"#DejaVuSans-52\"/>\r\n       <use x=\"63.623047\" xlink:href=\"#DejaVuSans-48\"/>\r\n      </g>\r\n     </g>\r\n    </g>\r\n    <g id=\"ytick_4\">\r\n     <g id=\"line2d_13\">\r\n      <g>\r\n       <use style=\"stroke:#000000;stroke-width:0.8;\" x=\"26.925\" xlink:href=\"#md907e50e51\" y=\"83.129803\"/>\r\n      </g>\r\n     </g>\r\n     <g id=\"text_14\">\r\n      <!-- 50 -->\r\n      <g transform=\"translate(7.2 86.929022)scale(0.1 -0.1)\">\r\n       <use xlink:href=\"#DejaVuSans-53\"/>\r\n       <use x=\"63.623047\" xlink:href=\"#DejaVuSans-48\"/>\r\n      </g>\r\n     </g>\r\n    </g>\r\n    <g id=\"ytick_5\">\r\n     <g id=\"line2d_14\">\r\n      <g>\r\n       <use style=\"stroke:#000000;stroke-width:0.8;\" x=\"26.925\" xlink:href=\"#md907e50e51\" y=\"47.285961\"/>\r\n      </g>\r\n     </g>\r\n     <g id=\"text_15\">\r\n      <!-- 60 -->\r\n      <g transform=\"translate(7.2 51.08518)scale(0.1 -0.1)\">\r\n       <defs>\r\n        <path d=\"M 33.015625 40.375 \r\nQ 26.375 40.375 22.484375 35.828125 \r\nQ 18.609375 31.296875 18.609375 23.390625 \r\nQ 18.609375 15.53125 22.484375 10.953125 \r\nQ 26.375 6.390625 33.015625 6.390625 \r\nQ 39.65625 6.390625 43.53125 10.953125 \r\nQ 47.40625 15.53125 47.40625 23.390625 \r\nQ 47.40625 31.296875 43.53125 35.828125 \r\nQ 39.65625 40.375 33.015625 40.375 \r\nz\r\nM 52.59375 71.296875 \r\nL 52.59375 62.3125 \r\nQ 48.875 64.0625 45.09375 64.984375 \r\nQ 41.3125 65.921875 37.59375 65.921875 \r\nQ 27.828125 65.921875 22.671875 59.328125 \r\nQ 17.53125 52.734375 16.796875 39.40625 \r\nQ 19.671875 43.65625 24.015625 45.921875 \r\nQ 28.375 48.1875 33.59375 48.1875 \r\nQ 44.578125 48.1875 50.953125 41.515625 \r\nQ 57.328125 34.859375 57.328125 23.390625 \r\nQ 57.328125 12.15625 50.6875 5.359375 \r\nQ 44.046875 -1.421875 33.015625 -1.421875 \r\nQ 20.359375 -1.421875 13.671875 8.265625 \r\nQ 6.984375 17.96875 6.984375 36.375 \r\nQ 6.984375 53.65625 15.1875 63.9375 \r\nQ 23.390625 74.21875 37.203125 74.21875 \r\nQ 40.921875 74.21875 44.703125 73.484375 \r\nQ 48.484375 72.75 52.59375 71.296875 \r\nz\r\n\" id=\"DejaVuSans-54\"/>\r\n       </defs>\r\n       <use xlink:href=\"#DejaVuSans-54\"/>\r\n       <use x=\"63.623047\" xlink:href=\"#DejaVuSans-48\"/>\r\n      </g>\r\n     </g>\r\n    </g>\r\n    <g id=\"ytick_6\">\r\n     <g id=\"line2d_15\">\r\n      <g>\r\n       <use style=\"stroke:#000000;stroke-width:0.8;\" x=\"26.925\" xlink:href=\"#md907e50e51\" y=\"11.442119\"/>\r\n      </g>\r\n     </g>\r\n     <g id=\"text_16\">\r\n      <!-- 70 -->\r\n      <g transform=\"translate(7.2 15.241337)scale(0.1 -0.1)\">\r\n       <use xlink:href=\"#DejaVuSans-55\"/>\r\n       <use x=\"63.623047\" xlink:href=\"#DejaVuSans-48\"/>\r\n      </g>\r\n     </g>\r\n    </g>\r\n   </g>\r\n   <g id=\"line2d_16\">\r\n    <path clip-path=\"url(#p20e3d034e9)\" d=\"M 42.143182 174.854195 \r\nL 42.745882 172.237594 \r\nL 43.348582 174.388225 \r\nL 45.759383 172.130063 \r\nL 46.362084 166.753486 \r\nL 46.964784 159.333811 \r\nL 47.567484 156.609679 \r\nL 49.978285 158.401871 \r\nL 50.580986 154.136454 \r\nL 51.183686 159.04706 \r\nL 51.786386 157.649151 \r\nL 53.594487 158.545247 \r\nL 54.197187 155.068394 \r\nL 54.799887 153.63464 \r\nL 55.402588 161.986255 \r\nL 56.005288 167.326988 \r\nL 57.813389 169.334243 \r\nL 58.416089 166.50258 \r\nL 59.018789 165.749859 \r\nL 59.62149 165.534796 \r\nL 60.22419 165.463108 \r\nL 62.032291 163.70676 \r\nL 62.634991 158.079277 \r\nL 63.237691 157.219024 \r\nL 63.840392 160.194063 \r\nL 64.443092 157.039805 \r\nL 66.251193 158.366027 \r\nL 66.853893 157.900057 \r\nL 67.456593 159.979 \r\nL 68.059293 155.03255 \r\nL 68.661994 154.853331 \r\nL 70.470095 150.731289 \r\nL 71.072795 152.021667 \r\nL 72.880896 160.337439 \r\nL 75.291697 153.276202 \r\nL 75.894397 172.309282 \r\nL 76.497097 174.925882 \r\nL 77.099797 174.459913 \r\nL 78.907898 169.764369 \r\nL 80.113299 174.137318 \r\nL 80.715999 173.348753 \r\nL 81.318699 178.115984 \r\nL 83.1268 178.689486 \r\nL 83.7295 178.617798 \r\nL 84.332201 177.721702 \r\nL 84.934901 178.761174 \r\nL 85.537601 173.456285 \r\nL 87.345702 173.922255 \r\nL 87.948402 174.674976 \r\nL 89.756503 184.926314 \r\nL 91.564604 184.101906 \r\nL 92.167304 182.238026 \r\nL 92.770005 183.67178 \r\nL 93.372705 184.675408 \r\nL 93.975405 184.60372 \r\nL 95.783506 183.456717 \r\nL 98.194307 176.323792 \r\nL 100.002408 174.782507 \r\nL 100.605108 176.538855 \r\nL 101.207808 179.65727 \r\nL 102.337871 183.779311 \r\nL 104.22131 182.488933 \r\nL 104.82401 182.668152 \r\nL 105.42671 178.832861 \r\nL 106.02941 179.442207 \r\nL 106.632111 176.467168 \r\nL 108.440212 177.255732 \r\nL 109.042912 180.553366 \r\nL 109.645612 179.227144 \r\nL 110.248312 179.442207 \r\nL 110.851013 182.058807 \r\nL 112.659113 187.973041 \r\nL 113.261814 182.954903 \r\nL 113.864514 183.385029 \r\nL 114.467214 180.40999 \r\nL 115.069914 180.983492 \r\nL 116.878015 187.865509 \r\nL 117.405378 185.213065 \r\nL 118.686116 189.012512 \r\nL 119.288816 188.761606 \r\nL 121.699617 189.836921 \r\nL 122.905018 190.733017 \r\nL 123.507718 191.915864 \r\nL 125.315819 192.740272 \r\nL 125.918519 194.138182 \r\nL 126.52122 193.242086 \r\nL 127.12392 193.779743 \r\nL 127.72662 192.919491 \r\nL 129.534721 191.449894 \r\nL 130.137421 189.944452 \r\nL 130.740122 190.48211 \r\nL 131.342822 189.191732 \r\nL 131.945522 188.976669 \r\nL 134.356323 188.833293 \r\nL 134.959023 188.546542 \r\nL 135.561724 187.471227 \r\nL 136.164424 187.22032 \r\nL 137.972525 187.256164 \r\nL 138.575225 186.897726 \r\nL 139.177925 187.973041 \r\nL 139.780626 188.725762 \r\nL 140.383326 189.048356 \r\nL 142.191427 187.937197 \r\nL 142.794127 188.403167 \r\nL 143.396827 188.367323 \r\nL 143.999527 189.55017 \r\nL 144.602228 190.338735 \r\nL 146.410329 189.621858 \r\nL 147.013029 190.517954 \r\nL 147.615729 188.940825 \r\nL 148.218429 191.234831 \r\nL 148.82113 193.027023 \r\nL 151.231931 193.7439 \r\nL 151.834631 192.991179 \r\nL 152.437331 190.231203 \r\nL 153.040032 190.768861 \r\nL 154.848132 189.980296 \r\nL 155.450833 190.48211 \r\nL 156.053533 190.159515 \r\nL 156.656233 187.112789 \r\nL 157.258933 187.327852 \r\nL 159.067034 185.248909 \r\nL 159.669734 184.890471 \r\nL 160.272435 183.815155 \r\nL 160.875135 183.67178 \r\nL 161.477835 182.524777 \r\nL 163.285936 181.126867 \r\nL 163.888636 179.94402 \r\nL 164.491337 182.883215 \r\nL 165.094037 183.635936 \r\nL 165.696737 183.026591 \r\nL 167.504838 180.58921 \r\nL 168.710239 182.202182 \r\nL 169.312939 177.112357 \r\nL 169.915639 177.900921 \r\nL 171.72374 176.789762 \r\nL 172.32644 172.703564 \r\nL 172.92914 170.696309 \r\nL 173.531841 169.298399 \r\nL 174.134541 154.423205 \r\nL 175.942642 152.7027 \r\nL 176.545342 156.645523 \r\nL 177.148042 152.631013 \r\nL 177.750743 151.699073 \r\nL 178.353443 151.48401 \r\nL 180.161544 141.87786 \r\nL 180.764244 144.888743 \r\nL 181.366944 143.168238 \r\nL 181.969644 140.47995 \r\nL 184.380446 137.361536 \r\nL 184.983146 136.967254 \r\nL 185.585846 136.967254 \r\nL 186.188546 137.433224 \r\nL 186.791247 130.909644 \r\nL 188.599347 132.73768 \r\nL 189.202048 133.66962 \r\nL 189.804748 137.86335 \r\nL 190.407448 135.354281 \r\nL 191.010149 139.153728 \r\nL 192.818249 138.257632 \r\nL 193.42095 140.193199 \r\nL 194.02365 141.125139 \r\nL 194.62635 151.268947 \r\nL 195.22905 146.752623 \r\nL 197.037151 145.318869 \r\nL 197.639851 150.229475 \r\nL 198.242552 146.860154 \r\nL 198.845252 144.96043 \r\nL 199.447952 145.533932 \r\nL 201.256053 144.243554 \r\nL 201.858753 142.8098 \r\nL 202.461454 148.831565 \r\nL 203.064154 150.337007 \r\nL 203.666854 148.437283 \r\nL 205.474955 147.863782 \r\nL 206.077655 144.566148 \r\nL 206.680356 144.637836 \r\nL 207.283056 140.695013 \r\nL 207.885756 141.41189 \r\nL 210.296557 139.763073 \r\nL 210.899257 142.702268 \r\nL 211.501958 140.47995 \r\nL 213.912759 135.103374 \r\nL 214.515459 119.11702 \r\nL 215.118159 115.962762 \r\nL 215.72086 109.725934 \r\nL 216.32356 117.181453 \r\nL 218.131661 115.819387 \r\nL 218.734361 115.819387 \r\nL 219.337061 113.632912 \r\nL 220.542462 106.320769 \r\nL 222.350563 106.464144 \r\nL 222.953263 107.109333 \r\nL 223.555963 107.396084 \r\nL 224.158663 112.091627 \r\nL 224.761364 113.346162 \r\nL 226.569464 112.916036 \r\nL 227.172165 114.242258 \r\nL 227.774865 109.080745 \r\nL 228.377565 113.561225 \r\nL 228.980266 116.392888 \r\nL 230.788366 149.799349 \r\nL 231.391067 149.15416 \r\nL 232.596467 131.447302 \r\nL 235.007268 129.798485 \r\nL 235.609968 133.812996 \r\nL 236.815369 133.167806 \r\nL 237.418069 132.701836 \r\nL 239.22617 133.848839 \r\nL 239.82887 131.232239 \r\nL 240.431571 127.862918 \r\nL 241.034271 127.862918 \r\nL 241.636971 125.676443 \r\nL 243.445072 128.615638 \r\nL 244.047772 125.819819 \r\nL 244.650473 131.662365 \r\nL 245.253173 123.705032 \r\nL 245.855873 123.597501 \r\nL 247.663974 127.146041 \r\nL 248.869374 128.436419 \r\nL 249.472075 126.536696 \r\nL 250.074775 125.999038 \r\nL 251.882876 124.099314 \r\nL 252.485576 121.697777 \r\nL 253.088276 125.604756 \r\nL 253.690977 126.787603 \r\nL 254.293677 114.564852 \r\nL 256.101778 115.783543 \r\nL 256.704478 118.65105 \r\nL 257.307178 114.63654 \r\nL 258.512579 120.192336 \r\nL 260.32068 124.636972 \r\nL 260.92338 121.303495 \r\nL 261.52608 126.070726 \r\nL 262.12878 123.740876 \r\nL 262.731481 120.729993 \r\nL 264.539581 121.016744 \r\nL 265.142282 121.339339 \r\nL 266.347682 124.816191 \r\nL 266.950383 128.508107 \r\nL 268.758483 131.196395 \r\nL 269.361184 129.870173 \r\nL 269.963884 130.658737 \r\nL 271.169284 136.107001 \r\nL 273.580086 134.063902 \r\nL 274.182786 131.483146 \r\nL 274.785486 134.314809 \r\nL 275.388186 131.949116 \r\nL 277.196287 139.476323 \r\nL 277.798987 138.687758 \r\nL 278.401688 133.311182 \r\nL 279.004388 130.407831 \r\nL 279.607088 128.221356 \r\nL 281.415189 129.296671 \r\nL 282.017889 131.734053 \r\nL 282.62059 129.260828 \r\nL 283.22329 132.164179 \r\nL 283.82599 138.436851 \r\nL 285.634091 143.562521 \r\nL 286.236791 144.781211 \r\nL 286.839491 138.580227 \r\nL 288.044892 134.099746 \r\nL 289.852993 127.898762 \r\nL 290.455693 134.063902 \r\nL 291.058393 132.27171 \r\nL 291.661094 132.881056 \r\nL 292.263794 130.58705 \r\nL 294.071895 131.483146 \r\nL 294.674595 127.253572 \r\nL 295.879995 144.745367 \r\nL 296.482696 141.340202 \r\nL 298.290797 146.967686 \r\nL 298.893497 142.666425 \r\nL 299.496197 148.473127 \r\nL 300.098897 141.196827 \r\nL 300.701598 142.021235 \r\nL 302.509698 140.121512 \r\nL 303.112399 133.131963 \r\nL 303.715099 128.794858 \r\nL 304.317799 129.690954 \r\nL 304.9205 135.748563 \r\nL 306.7286 134.637404 \r\nL 307.331301 133.20365 \r\nL 307.934001 133.66962 \r\nL 308.536701 132.307554 \r\nL 309.139401 130.085236 \r\nL 310.947502 124.386065 \r\nL 311.550203 116.715483 \r\nL 312.152903 120.013116 \r\nL 312.755603 115.245885 \r\nL 313.358303 113.883819 \r\nL 315.166404 108.112961 \r\nL 315.769104 105.03039 \r\nL 316.371805 100.621598 \r\nL 316.974505 102.987291 \r\nL 317.577205 82.735521 \r\nL 319.385306 79.760482 \r\nL 319.988006 75.423377 \r\nL 320.590707 86.104842 \r\nL 321.72077 84.671088 \r\nL 323.604208 78.864386 \r\nL 324.206908 90.083508 \r\nL 324.809608 87.216001 \r\nL 325.412309 92.305826 \r\nL 326.015009 99.510439 \r\nL 327.82311 96.141118 \r\nL 328.42581 87.717815 \r\nL 329.02851 85.99731 \r\nL 329.631211 82.950584 \r\nL 330.233911 66.641636 \r\nL 332.042012 65.422945 \r\nL 332.644712 55.064075 \r\nL 333.247412 47.895306 \r\nL 333.850113 44.275078 \r\nL 334.452813 42.626261 \r\nL 336.260914 24.130839 \r\nL 336.863614 36.210214 \r\nL 337.466314 44.060015 \r\nL 337.993677 47.285961 \r\nL 340.479815 16.101818 \r\nL 341.082516 29.758322 \r\nL 341.685216 46.138958 \r\nL 342.287916 45.995582 \r\nL 344.698717 22.661241 \r\nL 345.301418 26.639908 \r\nL 345.904118 21.119956 \r\nL 346.506818 18.073229 \r\nL 346.506818 18.073229 \r\n\" style=\"fill:none;stroke:#1f77b4;stroke-linecap:square;stroke-width:1.5;\"/>\r\n   </g>\r\n   <g id=\"line2d_17\">\r\n    <path clip-path=\"url(#p20e3d034e9)\" d=\"M 42.143182 169.71131 \r\nL 42.745882 167.614455 \r\nL 43.348582 167.645918 \r\nL 45.156683 169.338636 \r\nL 45.759383 171.383936 \r\nL 46.362084 170.872464 \r\nL 46.964784 169.961218 \r\nL 47.567484 169.554381 \r\nL 49.978285 167.186336 \r\nL 50.580986 164.203955 \r\nL 51.183686 159.907764 \r\nL 51.786386 156.486469 \r\nL 53.594487 155.60207 \r\nL 54.197187 155.915648 \r\nL 54.799887 155.28958 \r\nL 55.402588 156.581963 \r\nL 56.005288 155.831386 \r\nL 57.813389 155.970997 \r\nL 58.416089 156.228104 \r\nL 59.018789 158.782797 \r\nL 59.62149 163.31298 \r\nL 60.22419 165.26809 \r\nL 62.032291 165.163468 \r\nL 62.634991 163.825463 \r\nL 63.237691 163.149891 \r\nL 63.840392 162.232888 \r\nL 64.443092 160.8505 \r\nL 66.251193 158.797817 \r\nL 66.853893 156.707608 \r\nL 67.456593 156.71841 \r\nL 68.059293 157.284787 \r\nL 68.661994 156.386489 \r\nL 70.470095 156.661843 \r\nL 71.072795 156.044451 \r\nL 71.675495 155.207786 \r\nL 72.278195 152.799145 \r\nL 72.880896 152.252485 \r\nL 74.688996 151.854084 \r\nL 75.894397 155.391767 \r\nL 76.497097 156.73825 \r\nL 77.099797 157.756859 \r\nL 78.907898 158.691206 \r\nL 79.510599 163.051833 \r\nL 80.113299 170.337043 \r\nL 80.715999 170.676087 \r\nL 81.318699 169.855577 \r\nL 83.1268 169.079814 \r\nL 84.332201 172.193767 \r\nL 84.934901 173.134636 \r\nL 85.537601 174.959836 \r\nL 87.345702 174.941103 \r\nL 87.948402 174.415418 \r\nL 89.153803 172.875786 \r\nL 89.756503 171.559515 \r\nL 91.564604 172.853656 \r\nL 92.167304 174.771492 \r\nL 92.770005 177.251569 \r\nL 93.372705 179.055739 \r\nL 93.975405 180.00994 \r\nL 96.386206 179.363328 \r\nL 96.988906 179.963554 \r\nL 97.591607 179.922786 \r\nL 98.194307 179.125959 \r\nL 100.002408 177.777733 \r\nL 101.207808 174.716054 \r\nL 102.337871 173.625174 \r\nL 104.22131 173.3321 \r\nL 104.82401 174.017469 \r\nL 106.02941 177.806311 \r\nL 106.632111 178.704239 \r\nL 108.440212 177.636228 \r\nL 109.042912 176.631518 \r\nL 109.645612 175.074487 \r\nL 110.248312 174.941978 \r\nL 110.851013 174.467151 \r\nL 112.659113 175.445246 \r\nL 113.261814 176.75734 \r\nL 113.864514 177.105039 \r\nL 114.467214 178.338101 \r\nL 115.069914 179.873597 \r\nL 116.878015 180.626478 \r\nL 117.405378 178.697149 \r\nL 119.288816 178.769468 \r\nL 121.096917 180.539892 \r\nL 121.699617 182.980412 \r\nL 122.905018 182.982196 \r\nL 123.507718 184.46546 \r\nL 125.315819 184.72781 \r\nL 127.12392 186.746987 \r\nL 127.72662 187.52113 \r\nL 130.137421 188.281012 \r\nL 131.342822 187.439083 \r\nL 131.945522 186.557481 \r\nL 134.356323 185.643056 \r\nL 134.959023 185.010226 \r\nL 135.561724 184.840014 \r\nL 136.164424 184.249093 \r\nL 137.972525 183.994632 \r\nL 139.177925 183.278648 \r\nL 139.780626 182.838756 \r\nL 140.383326 182.814151 \r\nL 142.191427 182.982696 \r\nL 142.794127 183.225261 \r\nL 143.396827 183.761317 \r\nL 143.999527 183.973042 \r\nL 146.410329 183.757133 \r\nL 148.82113 185.218519 \r\nL 151.231931 185.175667 \r\nL 151.834631 185.648053 \r\nL 152.437331 185.949865 \r\nL 153.040032 187.163319 \r\nL 154.848132 187.63855 \r\nL 155.450833 187.309159 \r\nL 156.656233 185.469336 \r\nL 157.258933 185.436335 \r\nL 159.067034 184.973172 \r\nL 159.669734 184.558028 \r\nL 160.272435 183.55956 \r\nL 160.875135 182.129335 \r\nL 161.477835 181.553975 \r\nL 163.285936 180.503028 \r\nL 163.888636 179.952129 \r\nL 164.491337 179.192883 \r\nL 165.696737 177.958433 \r\nL 167.504838 177.677084 \r\nL 168.107538 177.957155 \r\nL 168.710239 178.921207 \r\nL 169.312939 178.749915 \r\nL 169.915639 177.98122 \r\nL 172.32644 176.709032 \r\nL 172.92914 175.689527 \r\nL 173.531841 173.431354 \r\nL 174.134541 172.574056 \r\nL 175.942642 170.265053 \r\nL 177.148042 163.095526 \r\nL 177.750743 158.768768 \r\nL 178.353443 152.966609 \r\nL 180.161544 152.554549 \r\nL 180.764244 152.54882 \r\nL 181.366944 149.953196 \r\nL 181.969644 148.136201 \r\nL 184.380446 145.832393 \r\nL 184.983146 142.257102 \r\nL 185.585846 142.208862 \r\nL 186.791247 138.342629 \r\nL 189.202048 136.218558 \r\nL 189.804748 135.411051 \r\nL 190.407448 134.410997 \r\nL 191.010149 132.808181 \r\nL 192.818249 134.392866 \r\nL 194.02365 137.381763 \r\nL 194.62635 137.459673 \r\nL 195.22905 139.459222 \r\nL 197.037151 140.584743 \r\nL 198.242552 145.105026 \r\nL 198.845252 147.944548 \r\nL 199.447952 146.298709 \r\nL 201.256053 146.287811 \r\nL 201.858753 146.993807 \r\nL 202.461454 145.135012 \r\nL 203.064154 144.389582 \r\nL 203.666854 144.639408 \r\nL 205.474955 144.875423 \r\nL 206.077655 145.947263 \r\nL 206.680356 148.172455 \r\nL 207.283056 147.859548 \r\nL 207.885756 146.300445 \r\nL 210.296557 144.891544 \r\nL 210.899257 142.973995 \r\nL 211.501958 142.035621 \r\nL 212.104658 140.611789 \r\nL 213.912759 140.713122 \r\nL 215.118159 139.634473 \r\nL 215.72086 136.095279 \r\nL 216.32356 131.190802 \r\nL 218.131661 124.377677 \r\nL 218.734361 116.662946 \r\nL 219.337061 114.888816 \r\nL 219.939761 114.080968 \r\nL 220.542462 116.387797 \r\nL 222.350563 114.949923 \r\nL 222.953263 113.323711 \r\nL 224.158663 108.375329 \r\nL 224.761364 107.254854 \r\nL 226.569464 108.058737 \r\nL 227.172165 109.370379 \r\nL 227.774865 111.016007 \r\nL 228.377565 113.151331 \r\nL 228.980266 113.425455 \r\nL 230.788366 113.220901 \r\nL 231.391067 114.574056 \r\nL 231.993767 117.476483 \r\nL 232.596467 125.634996 \r\nL 235.007268 134.431042 \r\nL 235.609968 144.889849 \r\nL 236.212669 140.801301 \r\nL 236.815369 135.121737 \r\nL 237.418069 131.773915 \r\nL 239.22617 132.088895 \r\nL 239.82887 133.522667 \r\nL 240.431571 133.251867 \r\nL 241.034271 132.840696 \r\nL 241.636971 132.18186 \r\nL 243.445072 131.274606 \r\nL 244.047772 129.226463 \r\nL 244.650473 127.693408 \r\nL 245.253173 127.55074 \r\nL 245.855873 127.274621 \r\nL 247.663974 127.953598 \r\nL 248.266674 127.111443 \r\nL 248.869374 127.646672 \r\nL 249.472075 125.165002 \r\nL 250.074775 126.196204 \r\nL 251.882876 127.701256 \r\nL 252.485576 127.68936 \r\nL 253.088276 127.048819 \r\nL 253.690977 125.709201 \r\nL 254.293677 124.975216 \r\nL 256.101778 123.967122 \r\nL 256.704478 123.123435 \r\nL 257.307178 123.044568 \r\nL 257.909878 120.567765 \r\nL 258.512579 116.176585 \r\nL 260.32068 117.083565 \r\nL 260.92338 118.051269 \r\nL 261.52608 117.988713 \r\nL 262.731481 122.670315 \r\nL 264.539581 124.069576 \r\nL 265.142282 123.325746 \r\nL 265.744982 124.106699 \r\nL 266.347682 122.500423 \r\nL 266.950383 121.654891 \r\nL 268.758483 122.459677 \r\nL 269.361184 123.815744 \r\nL 271.169284 130.034325 \r\nL 274.182786 131.615865 \r\nL 275.388186 134.173655 \r\nL 277.196287 134.374448 \r\nL 277.798987 133.402041 \r\nL 278.401688 133.415673 \r\nL 279.004388 134.963044 \r\nL 279.607088 135.28296 \r\nL 281.415189 136.743901 \r\nL 282.017889 134.333606 \r\nL 282.62059 131.243239 \r\nL 283.22329 129.851854 \r\nL 283.82599 129.560297 \r\nL 285.634091 130.688471 \r\nL 286.839491 133.689742 \r\nL 288.044892 140.636565 \r\nL 289.852993 141.592194 \r\nL 290.455693 139.635225 \r\nL 291.058393 135.839123 \r\nL 291.661094 133.801193 \r\nL 292.263794 132.232943 \r\nL 294.071895 131.094419 \r\nL 294.674595 132.967981 \r\nL 295.277295 131.967817 \r\nL 296.482696 131.419858 \r\nL 298.290797 132.954622 \r\nL 298.893497 135.054505 \r\nL 299.496197 140.665306 \r\nL 300.098897 143.655474 \r\nL 300.701598 143.37554 \r\nL 302.509698 144.772969 \r\nL 303.112399 143.392727 \r\nL 303.715099 143.481891 \r\nL 304.317799 139.749055 \r\nL 304.9205 137.981093 \r\nL 306.7286 134.91996 \r\nL 307.331301 131.713931 \r\nL 307.934001 131.147212 \r\nL 309.139401 134.635992 \r\nL 310.947502 133.697303 \r\nL 311.550203 132.618162 \r\nL 312.152903 131.249926 \r\nL 312.755603 128.483932 \r\nL 313.358303 124.867757 \r\nL 315.166404 120.585554 \r\nL 315.769104 117.205655 \r\nL 316.371805 116.315643 \r\nL 316.974505 112.504391 \r\nL 317.577205 109.435574 \r\nL 319.385306 104.93498 \r\nL 319.988006 100.708701 \r\nL 320.590707 95.30955 \r\nL 323.604208 80.735574 \r\nL 324.206908 79.893501 \r\nL 324.809608 80.656911 \r\nL 325.412309 84.745431 \r\nL 326.015009 84.485009 \r\nL 327.82311 85.490136 \r\nL 328.42581 90.988952 \r\nL 329.02851 91.937936 \r\nL 329.631211 94.555985 \r\nL 330.233911 94.751486 \r\nL 332.042012 89.722623 \r\nL 333.850113 70.443527 \r\nL 334.452813 60.070944 \r\nL 336.260914 54.576107 \r\nL 336.863614 46.234932 \r\nL 337.466314 40.031269 \r\nL 337.993677 35.811594 \r\nL 340.479815 32.857906 \r\nL 341.082516 28.95827 \r\nL 341.685216 34.52239 \r\nL 342.287916 34.870075 \r\nL 344.698717 31.360019 \r\nL 345.301418 23.855242 \r\nL 345.904118 32.601695 \r\nL 346.506818 35.421535 \r\nL 346.506818 35.421535 \r\n\" style=\"fill:none;stroke:#ff7f0e;stroke-linecap:square;stroke-width:1.5;\"/>\r\n   </g>\r\n   <g id=\"patch_3\">\r\n    <path d=\"M 26.925 203.04 \r\nL 26.925 7.2 \r\n\" style=\"fill:none;stroke:#000000;stroke-linecap:square;stroke-linejoin:miter;stroke-width:0.8;\"/>\r\n   </g>\r\n   <g id=\"patch_4\">\r\n    <path d=\"M 361.725 203.04 \r\nL 361.725 7.2 \r\n\" style=\"fill:none;stroke:#000000;stroke-linecap:square;stroke-linejoin:miter;stroke-width:0.8;\"/>\r\n   </g>\r\n   <g id=\"patch_5\">\r\n    <path d=\"M 26.925 203.04 \r\nL 361.725 203.04 \r\n\" style=\"fill:none;stroke:#000000;stroke-linecap:square;stroke-linejoin:miter;stroke-width:0.8;\"/>\r\n   </g>\r\n   <g id=\"patch_6\">\r\n    <path d=\"M 26.925 7.2 \r\nL 361.725 7.2 \r\n\" style=\"fill:none;stroke:#000000;stroke-linecap:square;stroke-linejoin:miter;stroke-width:0.8;\"/>\r\n   </g>\r\n   <g id=\"legend_1\">\r\n    <g id=\"patch_7\">\r\n     <path d=\"M 33.925 44.55625 \r\nL 112.865625 44.55625 \r\nQ 114.865625 44.55625 114.865625 42.55625 \r\nL 114.865625 14.2 \r\nQ 114.865625 12.2 112.865625 12.2 \r\nL 33.925 12.2 \r\nQ 31.925 12.2 31.925 14.2 \r\nL 31.925 42.55625 \r\nQ 31.925 44.55625 33.925 44.55625 \r\nz\r\n\" style=\"fill:#ffffff;opacity:0.8;stroke:#cccccc;stroke-linejoin:miter;\"/>\r\n    </g>\r\n    <g id=\"line2d_18\">\r\n     <path d=\"M 35.925 20.298437 \r\nL 55.925 20.298437 \r\n\" style=\"fill:none;stroke:#1f77b4;stroke-linecap:square;stroke-width:1.5;\"/>\r\n    </g>\r\n    <g id=\"line2d_19\"/>\r\n    <g id=\"text_17\">\r\n     <!-- Real -->\r\n     <g transform=\"translate(63.925 23.798437)scale(0.1 -0.1)\">\r\n      <defs>\r\n       <path d=\"M 44.390625 34.1875 \r\nQ 47.5625 33.109375 50.5625 29.59375 \r\nQ 53.5625 26.078125 56.59375 19.921875 \r\nL 66.609375 0 \r\nL 56 0 \r\nL 46.6875 18.703125 \r\nQ 43.0625 26.03125 39.671875 28.421875 \r\nQ 36.28125 30.8125 30.421875 30.8125 \r\nL 19.671875 30.8125 \r\nL 19.671875 0 \r\nL 9.8125 0 \r\nL 9.8125 72.90625 \r\nL 32.078125 72.90625 \r\nQ 44.578125 72.90625 50.734375 67.671875 \r\nQ 56.890625 62.453125 56.890625 51.90625 \r\nQ 56.890625 45.015625 53.6875 40.46875 \r\nQ 50.484375 35.9375 44.390625 34.1875 \r\nz\r\nM 19.671875 64.796875 \r\nL 19.671875 38.921875 \r\nL 32.078125 38.921875 \r\nQ 39.203125 38.921875 42.84375 42.21875 \r\nQ 46.484375 45.515625 46.484375 51.90625 \r\nQ 46.484375 58.296875 42.84375 61.546875 \r\nQ 39.203125 64.796875 32.078125 64.796875 \r\nz\r\n\" id=\"DejaVuSans-82\"/>\r\n       <path d=\"M 9.421875 75.984375 \r\nL 18.40625 75.984375 \r\nL 18.40625 0 \r\nL 9.421875 0 \r\nz\r\n\" id=\"DejaVuSans-108\"/>\r\n      </defs>\r\n      <use xlink:href=\"#DejaVuSans-82\"/>\r\n      <use x=\"64.982422\" xlink:href=\"#DejaVuSans-101\"/>\r\n      <use x=\"126.505859\" xlink:href=\"#DejaVuSans-97\"/>\r\n      <use x=\"187.785156\" xlink:href=\"#DejaVuSans-108\"/>\r\n     </g>\r\n    </g>\r\n    <g id=\"line2d_20\">\r\n     <path d=\"M 35.925 34.976562 \r\nL 55.925 34.976562 \r\n\" style=\"fill:none;stroke:#ff7f0e;stroke-linecap:square;stroke-width:1.5;\"/>\r\n    </g>\r\n    <g id=\"line2d_21\"/>\r\n    <g id=\"text_18\">\r\n     <!-- Predicted -->\r\n     <g transform=\"translate(63.925 38.476562)scale(0.1 -0.1)\">\r\n      <defs>\r\n       <path d=\"M 19.671875 64.796875 \r\nL 19.671875 37.40625 \r\nL 32.078125 37.40625 \r\nQ 38.96875 37.40625 42.71875 40.96875 \r\nQ 46.484375 44.53125 46.484375 51.125 \r\nQ 46.484375 57.671875 42.71875 61.234375 \r\nQ 38.96875 64.796875 32.078125 64.796875 \r\nz\r\nM 9.8125 72.90625 \r\nL 32.078125 72.90625 \r\nQ 44.34375 72.90625 50.609375 67.359375 \r\nQ 56.890625 61.8125 56.890625 51.125 \r\nQ 56.890625 40.328125 50.609375 34.8125 \r\nQ 44.34375 29.296875 32.078125 29.296875 \r\nL 19.671875 29.296875 \r\nL 19.671875 0 \r\nL 9.8125 0 \r\nz\r\n\" id=\"DejaVuSans-80\"/>\r\n       <path d=\"M 41.109375 46.296875 \r\nQ 39.59375 47.171875 37.8125 47.578125 \r\nQ 36.03125 48 33.890625 48 \r\nQ 26.265625 48 22.1875 43.046875 \r\nQ 18.109375 38.09375 18.109375 28.8125 \r\nL 18.109375 0 \r\nL 9.078125 0 \r\nL 9.078125 54.6875 \r\nL 18.109375 54.6875 \r\nL 18.109375 46.1875 \r\nQ 20.953125 51.171875 25.484375 53.578125 \r\nQ 30.03125 56 36.53125 56 \r\nQ 37.453125 56 38.578125 55.875 \r\nQ 39.703125 55.765625 41.0625 55.515625 \r\nz\r\n\" id=\"DejaVuSans-114\"/>\r\n       <path d=\"M 45.40625 46.390625 \r\nL 45.40625 75.984375 \r\nL 54.390625 75.984375 \r\nL 54.390625 0 \r\nL 45.40625 0 \r\nL 45.40625 8.203125 \r\nQ 42.578125 3.328125 38.25 0.953125 \r\nQ 33.9375 -1.421875 27.875 -1.421875 \r\nQ 17.96875 -1.421875 11.734375 6.484375 \r\nQ 5.515625 14.40625 5.515625 27.296875 \r\nQ 5.515625 40.1875 11.734375 48.09375 \r\nQ 17.96875 56 27.875 56 \r\nQ 33.9375 56 38.25 53.625 \r\nQ 42.578125 51.265625 45.40625 46.390625 \r\nz\r\nM 14.796875 27.296875 \r\nQ 14.796875 17.390625 18.875 11.75 \r\nQ 22.953125 6.109375 30.078125 6.109375 \r\nQ 37.203125 6.109375 41.296875 11.75 \r\nQ 45.40625 17.390625 45.40625 27.296875 \r\nQ 45.40625 37.203125 41.296875 42.84375 \r\nQ 37.203125 48.484375 30.078125 48.484375 \r\nQ 22.953125 48.484375 18.875 42.84375 \r\nQ 14.796875 37.203125 14.796875 27.296875 \r\nz\r\n\" id=\"DejaVuSans-100\"/>\r\n       <path d=\"M 9.421875 54.6875 \r\nL 18.40625 54.6875 \r\nL 18.40625 0 \r\nL 9.421875 0 \r\nz\r\nM 9.421875 75.984375 \r\nL 18.40625 75.984375 \r\nL 18.40625 64.59375 \r\nL 9.421875 64.59375 \r\nz\r\n\" id=\"DejaVuSans-105\"/>\r\n       <path d=\"M 48.78125 52.59375 \r\nL 48.78125 44.1875 \r\nQ 44.96875 46.296875 41.140625 47.34375 \r\nQ 37.3125 48.390625 33.40625 48.390625 \r\nQ 24.65625 48.390625 19.8125 42.84375 \r\nQ 14.984375 37.3125 14.984375 27.296875 \r\nQ 14.984375 17.28125 19.8125 11.734375 \r\nQ 24.65625 6.203125 33.40625 6.203125 \r\nQ 37.3125 6.203125 41.140625 7.25 \r\nQ 44.96875 8.296875 48.78125 10.40625 \r\nL 48.78125 2.09375 \r\nQ 45.015625 0.34375 40.984375 -0.53125 \r\nQ 36.96875 -1.421875 32.421875 -1.421875 \r\nQ 20.0625 -1.421875 12.78125 6.34375 \r\nQ 5.515625 14.109375 5.515625 27.296875 \r\nQ 5.515625 40.671875 12.859375 48.328125 \r\nQ 20.21875 56 33.015625 56 \r\nQ 37.15625 56 41.109375 55.140625 \r\nQ 45.0625 54.296875 48.78125 52.59375 \r\nz\r\n\" id=\"DejaVuSans-99\"/>\r\n      </defs>\r\n      <use xlink:href=\"#DejaVuSans-80\"/>\r\n      <use x=\"58.552734\" xlink:href=\"#DejaVuSans-114\"/>\r\n      <use x=\"97.416016\" xlink:href=\"#DejaVuSans-101\"/>\r\n      <use x=\"158.939453\" xlink:href=\"#DejaVuSans-100\"/>\r\n      <use x=\"222.416016\" xlink:href=\"#DejaVuSans-105\"/>\r\n      <use x=\"250.199219\" xlink:href=\"#DejaVuSans-99\"/>\r\n      <use x=\"305.179688\" xlink:href=\"#DejaVuSans-116\"/>\r\n      <use x=\"344.388672\" xlink:href=\"#DejaVuSans-101\"/>\r\n      <use x=\"405.912109\" xlink:href=\"#DejaVuSans-100\"/>\r\n     </g>\r\n    </g>\r\n   </g>\r\n  </g>\r\n </g>\r\n <defs>\r\n  <clipPath id=\"p20e3d034e9\">\r\n   <rect height=\"195.84\" width=\"334.8\" x=\"26.925\" y=\"7.2\"/>\r\n  </clipPath>\r\n </defs>\r\n</svg>\r\n",
      "image/png": "[encoded data removed]"
     },
     "metadata": {
      "needs_background": "light"
     }
    }
   ],
   "source": [
    "# Plot the real vs predicted values as a line chart\n",
    "stocks.plot()"
   ]
  },
  {
   "cell_type": "code",
   "execution_count": 20,
   "metadata": {},
   "outputs": [
    {
     "output_type": "execute_result",
     "data": {
      "text/plain": [
       "'for i in stocks:\\n    if stocks[\"Predicted\"][i] > stocks[\"Predicted\"][i - 1]:\\n        stocks[\"Signal\"][i] += .5\\n    if stocks[\"Real\"][i] > stocks[\"Real\"][i - 1]:\\n        stocks[\"Signal\"][i].append() += .5'"
      ]
     },
     "metadata": {},
     "execution_count": 20
    }
   ],
   "source": [
    "'''for i in stocks:\n",
    "    if stocks[\"Predicted\"][i] > stocks[\"Predicted\"][i - 1]:\n",
    "        stocks[\"Signal\"][i] += .5\n",
    "    if stocks[\"Real\"][i] > stocks[\"Real\"][i - 1]:\n",
    "        stocks[\"Signal\"][i].append() += .5'''"
   ]
  },
  {
   "cell_type": "code",
   "execution_count": 80,
   "metadata": {},
   "outputs": [
    {
     "output_type": "execute_result",
     "data": {
      "text/plain": [
       "                     NVDA Close  NVDA Volume\n",
       "Date                                        \n",
       "2019-01-08 16:00:00      139.83     19650429\n",
       "2019-01-09 16:00:00      142.58     15431475\n",
       "2019-01-10 16:00:00      145.23     13078906\n",
       "2019-01-11 16:00:00      148.83     21869066\n",
       "2019-01-14 16:00:00      150.44     18254249"
      ],
      "text/html": "<div>\n<style scoped>\n    .dataframe tbody tr th:only-of-type {\n        vertical-align: middle;\n    }\n\n    .dataframe tbody tr th {\n        vertical-align: top;\n    }\n\n    .dataframe thead th {\n        text-align: right;\n    }\n</style>\n<table border=\"1\" class=\"dataframe\">\n  <thead>\n    <tr style=\"text-align: right;\">\n      <th></th>\n      <th>NVDA Close</th>\n      <th>NVDA Volume</th>\n    </tr>\n    <tr>\n      <th>Date</th>\n      <th></th>\n      <th></th>\n    </tr>\n  </thead>\n  <tbody>\n    <tr>\n      <th>2019-01-08 16:00:00</th>\n      <td>139.83</td>\n      <td>19650429</td>\n    </tr>\n    <tr>\n      <th>2019-01-09 16:00:00</th>\n      <td>142.58</td>\n      <td>15431475</td>\n    </tr>\n    <tr>\n      <th>2019-01-10 16:00:00</th>\n      <td>145.23</td>\n      <td>13078906</td>\n    </tr>\n    <tr>\n      <th>2019-01-11 16:00:00</th>\n      <td>148.83</td>\n      <td>21869066</td>\n    </tr>\n    <tr>\n      <th>2019-01-14 16:00:00</th>\n      <td>150.44</td>\n      <td>18254249</td>\n    </tr>\n  </tbody>\n</table>\n</div>"
     },
     "metadata": {},
     "execution_count": 80
    }
   ],
   "source": [
    "# Load NFLX Data\n",
    "df_NFLX = pd.read_csv('../Data/Cleandata/Rawdata/nflx_data.csv', index_col=\"Date\", infer_datetime_format=True, parse_dates=True)\n",
    "df_PDD = pd.read_csv('../Data/Cleandata/Rawdata/pdd_data.csv', index_col=\"Date\", infer_datetime_format=True, parse_dates=True)\n",
    "df_NVDA = pd.read_csv('../Data/Cleandata/Rawdata/nvda_data.csv', index_col=\"Date\", infer_datetime_format=True, parse_dates=True)\n",
    "\n",
    "# Rename Columns\n",
    "df_NFLX.columns = ['NFLX Close', 'NFLX Volume']\n",
    "df_PDD.columns = ['PDD Close', 'PDD Volume']\n",
    "df_NVDA.columns = ['NVDA Close', 'NVDA Volume']\n",
    "\n",
    "# Call\n",
    "df_NFLX.head()\n",
    "df_PDD.head()\n",
    "df_NVDA.head()"
   ]
  },
  {
   "cell_type": "code",
   "execution_count": 81,
   "metadata": {},
   "outputs": [
    {
     "output_type": "execute_result",
     "data": {
      "text/plain": [
       "                     NFLX Close  NFLX Volume  PDD Close  PDD Volume  \\\n",
       "Date                                                                  \n",
       "2019-01-08 16:00:00      320.27     15359180      24.00     3355000   \n",
       "2019-01-09 16:00:00      319.96     13343152      25.54     7322212   \n",
       "2019-01-10 16:00:00      324.66     13472475      26.38     4956502   \n",
       "2019-01-11 16:00:00      337.59     19500429      26.16     2293294   \n",
       "2019-01-14 16:00:00      332.94     10499582      24.37     5526588   \n",
       "\n",
       "                     NVDA Close  NVDA Volume  \n",
       "Date                                          \n",
       "2019-01-08 16:00:00      139.83     19650429  \n",
       "2019-01-09 16:00:00      142.58     15431475  \n",
       "2019-01-10 16:00:00      145.23     13078906  \n",
       "2019-01-11 16:00:00      148.83     21869066  \n",
       "2019-01-14 16:00:00      150.44     18254249  "
      ],
      "text/html": "<div>\n<style scoped>\n    .dataframe tbody tr th:only-of-type {\n        vertical-align: middle;\n    }\n\n    .dataframe tbody tr th {\n        vertical-align: top;\n    }\n\n    .dataframe thead th {\n        text-align: right;\n    }\n</style>\n<table border=\"1\" class=\"dataframe\">\n  <thead>\n    <tr style=\"text-align: right;\">\n      <th></th>\n      <th>NFLX Close</th>\n      <th>NFLX Volume</th>\n      <th>PDD Close</th>\n      <th>PDD Volume</th>\n      <th>NVDA Close</th>\n      <th>NVDA Volume</th>\n    </tr>\n    <tr>\n      <th>Date</th>\n      <th></th>\n      <th></th>\n      <th></th>\n      <th></th>\n      <th></th>\n      <th></th>\n    </tr>\n  </thead>\n  <tbody>\n    <tr>\n      <th>2019-01-08 16:00:00</th>\n      <td>320.27</td>\n      <td>15359180</td>\n      <td>24.00</td>\n      <td>3355000</td>\n      <td>139.83</td>\n      <td>19650429</td>\n    </tr>\n    <tr>\n      <th>2019-01-09 16:00:00</th>\n      <td>319.96</td>\n      <td>13343152</td>\n      <td>25.54</td>\n      <td>7322212</td>\n      <td>142.58</td>\n      <td>15431475</td>\n    </tr>\n    <tr>\n      <th>2019-01-10 16:00:00</th>\n      <td>324.66</td>\n      <td>13472475</td>\n      <td>26.38</td>\n      <td>4956502</td>\n      <td>145.23</td>\n      <td>13078906</td>\n    </tr>\n    <tr>\n      <th>2019-01-11 16:00:00</th>\n      <td>337.59</td>\n      <td>19500429</td>\n      <td>26.16</td>\n      <td>2293294</td>\n      <td>148.83</td>\n      <td>21869066</td>\n    </tr>\n    <tr>\n      <th>2019-01-14 16:00:00</th>\n      <td>332.94</td>\n      <td>10499582</td>\n      <td>24.37</td>\n      <td>5526588</td>\n      <td>150.44</td>\n      <td>18254249</td>\n    </tr>\n  </tbody>\n</table>\n</div>"
     },
     "metadata": {},
     "execution_count": 81
    }
   ],
   "source": [
    "df_All = pd.concat([df_NFLX, df_PDD, df_NVDA], axis=\"columns\", join=\"inner\")\n",
    "df_All.head()"
   ]
  },
  {
   "cell_type": "code",
   "execution_count": 95,
   "metadata": {},
   "outputs": [
    {
     "output_type": "execute_result",
     "data": {
      "text/plain": [
       "                     NFLX Close  NFLX Volume  PDD Close  PDD Volume  \\\n",
       "Date                                                                  \n",
       "2020-12-31 16:00:00      540.73      5392322     177.67    12490032   \n",
       "2021-01-04 16:00:00      522.86      4444407     166.78    10987212   \n",
       "2021-01-05 16:00:00      520.80      3133872     187.20    16165814   \n",
       "2021-01-06 16:00:00      500.49      5346210     176.75    11873087   \n",
       "2021-01-07 16:00:00      508.89      3686448     180.12     8604167   \n",
       "\n",
       "                     NVDA Close  NVDA Volume  NFLX EMA12  NFLX EMA26  \\\n",
       "Date                                                                   \n",
       "2020-12-31 16:00:00      522.20      4810610  512.219395  503.603873   \n",
       "2021-01-04 16:00:00      524.54     14016045  512.816607  504.110450   \n",
       "2021-01-05 16:00:00      536.19      8068998  513.264680  504.549507   \n",
       "2021-01-06 16:00:00      504.58     14510575  512.547692  504.442712   \n",
       "2021-01-07 16:00:00      533.76     11537037  512.342402  504.559709   \n",
       "\n",
       "                      PDD EMA12   PDD EMA26  NVDA EMA12  NVDA EMA26  \n",
       "Date                                                                 \n",
       "2020-12-31 16:00:00  142.255318  123.283216  528.344412  518.239082  \n",
       "2021-01-04 16:00:00  143.631783  124.427500  528.130887  518.404843  \n",
       "2021-01-05 16:00:00  146.077079  126.078876  528.583210  518.872722  \n",
       "2021-01-06 16:00:00  147.798618  127.411897  527.236013  518.496719  \n",
       "2021-01-07 16:00:00  149.612677  128.798506  527.602176  518.898255  "
      ],
      "text/html": "<div>\n<style scoped>\n    .dataframe tbody tr th:only-of-type {\n        vertical-align: middle;\n    }\n\n    .dataframe tbody tr th {\n        vertical-align: top;\n    }\n\n    .dataframe thead th {\n        text-align: right;\n    }\n</style>\n<table border=\"1\" class=\"dataframe\">\n  <thead>\n    <tr style=\"text-align: right;\">\n      <th></th>\n      <th>NFLX Close</th>\n      <th>NFLX Volume</th>\n      <th>PDD Close</th>\n      <th>PDD Volume</th>\n      <th>NVDA Close</th>\n      <th>NVDA Volume</th>\n      <th>NFLX EMA12</th>\n      <th>NFLX EMA26</th>\n      <th>PDD EMA12</th>\n      <th>PDD EMA26</th>\n      <th>NVDA EMA12</th>\n      <th>NVDA EMA26</th>\n    </tr>\n    <tr>\n      <th>Date</th>\n      <th></th>\n      <th></th>\n      <th></th>\n      <th></th>\n      <th></th>\n      <th></th>\n      <th></th>\n      <th></th>\n      <th></th>\n      <th></th>\n      <th></th>\n      <th></th>\n    </tr>\n  </thead>\n  <tbody>\n    <tr>\n      <th>2020-12-31 16:00:00</th>\n      <td>540.73</td>\n      <td>5392322</td>\n      <td>177.67</td>\n      <td>12490032</td>\n      <td>522.20</td>\n      <td>4810610</td>\n      <td>512.219395</td>\n      <td>503.603873</td>\n      <td>142.255318</td>\n      <td>123.283216</td>\n      <td>528.344412</td>\n      <td>518.239082</td>\n    </tr>\n    <tr>\n      <th>2021-01-04 16:00:00</th>\n      <td>522.86</td>\n      <td>4444407</td>\n      <td>166.78</td>\n      <td>10987212</td>\n      <td>524.54</td>\n      <td>14016045</td>\n      <td>512.816607</td>\n      <td>504.110450</td>\n      <td>143.631783</td>\n      <td>124.427500</td>\n      <td>528.130887</td>\n      <td>518.404843</td>\n    </tr>\n    <tr>\n      <th>2021-01-05 16:00:00</th>\n      <td>520.80</td>\n      <td>3133872</td>\n      <td>187.20</td>\n      <td>16165814</td>\n      <td>536.19</td>\n      <td>8068998</td>\n      <td>513.264680</td>\n      <td>504.549507</td>\n      <td>146.077079</td>\n      <td>126.078876</td>\n      <td>528.583210</td>\n      <td>518.872722</td>\n    </tr>\n    <tr>\n      <th>2021-01-06 16:00:00</th>\n      <td>500.49</td>\n      <td>5346210</td>\n      <td>176.75</td>\n      <td>11873087</td>\n      <td>504.58</td>\n      <td>14510575</td>\n      <td>512.547692</td>\n      <td>504.442712</td>\n      <td>147.798618</td>\n      <td>127.411897</td>\n      <td>527.236013</td>\n      <td>518.496719</td>\n    </tr>\n    <tr>\n      <th>2021-01-07 16:00:00</th>\n      <td>508.89</td>\n      <td>3686448</td>\n      <td>180.12</td>\n      <td>8604167</td>\n      <td>533.76</td>\n      <td>11537037</td>\n      <td>512.342402</td>\n      <td>504.559709</td>\n      <td>149.612677</td>\n      <td>128.798506</td>\n      <td>527.602176</td>\n      <td>518.898255</td>\n    </tr>\n  </tbody>\n</table>\n</div>"
     },
     "metadata": {},
     "execution_count": 95
    }
   ],
   "source": [
    "short_span = 12\n",
    "long_span = 26\n",
    "df_NFLX['NFLX EMA'] = 0\n",
    "\n",
    "# Generate Moving Average\n",
    "df_All['NFLX EMA12'] = df_All['NFLX Close'].ewm(halflife=short_span).mean()\n",
    "df_All['NFLX EMA26'] = df_All['NFLX Close'].ewm(halflife=long_span).mean()\n",
    "df_All['PDD EMA12'] = df_All['PDD Close'].ewm(halflife=short_span).mean()\n",
    "df_All['PDD EMA26'] = df_All['PDD Close'].ewm(halflife=long_span).mean()\n",
    "df_All['NVDA EMA12'] = df_All['NVDA Close'].ewm(halflife=short_span).mean()\n",
    "df_All['NVDA EMA26'] = df_All['NVDA Close'].ewm(halflife=long_span).mean()\n",
    "df_All.tail()"
   ]
  },
  {
   "cell_type": "code",
   "execution_count": 102,
   "metadata": {},
   "outputs": [
    {
     "output_type": "execute_result",
     "data": {
      "text/plain": [
       "                     NFLX Close  NFLX Volume  PDD Close  PDD Volume  \\\n",
       "Date                                                                  \n",
       "2020-12-31 16:00:00      540.73      5392322     177.67    12490032   \n",
       "2021-01-04 16:00:00      522.86      4444407     166.78    10987212   \n",
       "2021-01-05 16:00:00      520.80      3133872     187.20    16165814   \n",
       "2021-01-06 16:00:00      500.49      5346210     176.75    11873087   \n",
       "2021-01-07 16:00:00      508.89      3686448     180.12     8604167   \n",
       "\n",
       "                     NVDA Close  NVDA Volume  NFLX EMA12  NFLX EMA26  \\\n",
       "Date                                                                   \n",
       "2020-12-31 16:00:00      522.20      4810610  512.219395  503.603873   \n",
       "2021-01-04 16:00:00      524.54     14016045  512.816607  504.110450   \n",
       "2021-01-05 16:00:00      536.19      8068998  513.264680  504.549507   \n",
       "2021-01-06 16:00:00      504.58     14510575  512.547692  504.442712   \n",
       "2021-01-07 16:00:00      533.76     11537037  512.342402  504.559709   \n",
       "\n",
       "                      PDD EMA12   PDD EMA26  NVDA EMA12  NVDA EMA26  \\\n",
       "Date                                                                  \n",
       "2020-12-31 16:00:00  142.255318  123.283216  528.344412  518.239082   \n",
       "2021-01-04 16:00:00  143.631783  124.427500  528.130887  518.404843   \n",
       "2021-01-05 16:00:00  146.077079  126.078876  528.583210  518.872722   \n",
       "2021-01-06 16:00:00  147.798618  127.411897  527.236013  518.496719   \n",
       "2021-01-07 16:00:00  149.612677  128.798506  527.602176  518.898255   \n",
       "\n",
       "                     NFLX Cross Short  NFLX Cross Long  PDD Cross Short  \\\n",
       "Date                                                                      \n",
       "2020-12-31 16:00:00               0.0              1.0              0.0   \n",
       "2021-01-04 16:00:00               0.0              1.0              0.0   \n",
       "2021-01-05 16:00:00               0.0              1.0              0.0   \n",
       "2021-01-06 16:00:00               0.0              1.0              0.0   \n",
       "2021-01-07 16:00:00               0.0              1.0              0.0   \n",
       "\n",
       "                     PDD Cross Long  NVDA Cross Short  NVDA Cross Long  \n",
       "Date                                                                    \n",
       "2020-12-31 16:00:00             1.0               0.0              1.0  \n",
       "2021-01-04 16:00:00             1.0               0.0              1.0  \n",
       "2021-01-05 16:00:00             1.0               0.0              1.0  \n",
       "2021-01-06 16:00:00             1.0               0.0              1.0  \n",
       "2021-01-07 16:00:00             1.0               0.0              1.0  "
      ],
      "text/html": "<div>\n<style scoped>\n    .dataframe tbody tr th:only-of-type {\n        vertical-align: middle;\n    }\n\n    .dataframe tbody tr th {\n        vertical-align: top;\n    }\n\n    .dataframe thead th {\n        text-align: right;\n    }\n</style>\n<table border=\"1\" class=\"dataframe\">\n  <thead>\n    <tr style=\"text-align: right;\">\n      <th></th>\n      <th>NFLX Close</th>\n      <th>NFLX Volume</th>\n      <th>PDD Close</th>\n      <th>PDD Volume</th>\n      <th>NVDA Close</th>\n      <th>NVDA Volume</th>\n      <th>NFLX EMA12</th>\n      <th>NFLX EMA26</th>\n      <th>PDD EMA12</th>\n      <th>PDD EMA26</th>\n      <th>NVDA EMA12</th>\n      <th>NVDA EMA26</th>\n      <th>NFLX Cross Short</th>\n      <th>NFLX Cross Long</th>\n      <th>PDD Cross Short</th>\n      <th>PDD Cross Long</th>\n      <th>NVDA Cross Short</th>\n      <th>NVDA Cross Long</th>\n    </tr>\n    <tr>\n      <th>Date</th>\n      <th></th>\n      <th></th>\n      <th></th>\n      <th></th>\n      <th></th>\n      <th></th>\n      <th></th>\n      <th></th>\n      <th></th>\n      <th></th>\n      <th></th>\n      <th></th>\n      <th></th>\n      <th></th>\n      <th></th>\n      <th></th>\n      <th></th>\n      <th></th>\n    </tr>\n  </thead>\n  <tbody>\n    <tr>\n      <th>2020-12-31 16:00:00</th>\n      <td>540.73</td>\n      <td>5392322</td>\n      <td>177.67</td>\n      <td>12490032</td>\n      <td>522.20</td>\n      <td>4810610</td>\n      <td>512.219395</td>\n      <td>503.603873</td>\n      <td>142.255318</td>\n      <td>123.283216</td>\n      <td>528.344412</td>\n      <td>518.239082</td>\n      <td>0.0</td>\n      <td>1.0</td>\n      <td>0.0</td>\n      <td>1.0</td>\n      <td>0.0</td>\n      <td>1.0</td>\n    </tr>\n    <tr>\n      <th>2021-01-04 16:00:00</th>\n      <td>522.86</td>\n      <td>4444407</td>\n      <td>166.78</td>\n      <td>10987212</td>\n      <td>524.54</td>\n      <td>14016045</td>\n      <td>512.816607</td>\n      <td>504.110450</td>\n      <td>143.631783</td>\n      <td>124.427500</td>\n      <td>528.130887</td>\n      <td>518.404843</td>\n      <td>0.0</td>\n      <td>1.0</td>\n      <td>0.0</td>\n      <td>1.0</td>\n      <td>0.0</td>\n      <td>1.0</td>\n    </tr>\n    <tr>\n      <th>2021-01-05 16:00:00</th>\n      <td>520.80</td>\n      <td>3133872</td>\n      <td>187.20</td>\n      <td>16165814</td>\n      <td>536.19</td>\n      <td>8068998</td>\n      <td>513.264680</td>\n      <td>504.549507</td>\n      <td>146.077079</td>\n      <td>126.078876</td>\n      <td>528.583210</td>\n      <td>518.872722</td>\n      <td>0.0</td>\n      <td>1.0</td>\n      <td>0.0</td>\n      <td>1.0</td>\n      <td>0.0</td>\n      <td>1.0</td>\n    </tr>\n    <tr>\n      <th>2021-01-06 16:00:00</th>\n      <td>500.49</td>\n      <td>5346210</td>\n      <td>176.75</td>\n      <td>11873087</td>\n      <td>504.58</td>\n      <td>14510575</td>\n      <td>512.547692</td>\n      <td>504.442712</td>\n      <td>147.798618</td>\n      <td>127.411897</td>\n      <td>527.236013</td>\n      <td>518.496719</td>\n      <td>0.0</td>\n      <td>1.0</td>\n      <td>0.0</td>\n      <td>1.0</td>\n      <td>0.0</td>\n      <td>1.0</td>\n    </tr>\n    <tr>\n      <th>2021-01-07 16:00:00</th>\n      <td>508.89</td>\n      <td>3686448</td>\n      <td>180.12</td>\n      <td>8604167</td>\n      <td>533.76</td>\n      <td>11537037</td>\n      <td>512.342402</td>\n      <td>504.559709</td>\n      <td>149.612677</td>\n      <td>128.798506</td>\n      <td>527.602176</td>\n      <td>518.898255</td>\n      <td>0.0</td>\n      <td>1.0</td>\n      <td>0.0</td>\n      <td>1.0</td>\n      <td>0.0</td>\n      <td>1.0</td>\n    </tr>\n  </tbody>\n</table>\n</div>"
     },
     "metadata": {},
     "execution_count": 102
    }
   ],
   "source": [
    "# Construct a crossover trading signal\n",
    "df_All['NFLX Cross Short'] = np.where(df_All['NFLX EMA26'] > df_All['NFLX EMA26'], -1.0, 0.0)\n",
    "df_All['NFLX Cross Long'] =  np.where(df_All['NFLX EMA12'] > df_All['NFLX EMA26'], 1.0, 0.0)\n",
    "df_All['PDD Cross Short'] = np.where(df_All['PDD EMA26'] > df_All['PDD EMA26'], -1.0, 0.0)\n",
    "df_All['PDD Cross Long'] =  np.where(df_All['PDD EMA12'] > df_All['PDD EMA26'], 1.0, 0.0)\n",
    "df_All['NVDA Cross Short'] = np.where(df_All['NVDA EMA26'] > df_All['NVDA EMA26'], -1.0, 0.0)\n",
    "df_All['NVDA Cross Long'] =  np.where(df_All['NVDA EMA12'] > df_All['NVDA EMA26'], 1.0, 0.0)\n",
    "df_All.tail()\n"
   ]
  },
  {
   "cell_type": "code",
   "execution_count": null,
   "metadata": {},
   "outputs": [],
   "source": []
  }
 ],
 "metadata": {
  "file_extension": ".py",
  "kernelspec": {
   "name": "python3",
   "display_name": "Python 3.8.5 64-bit (conda)",
   "metadata": {
    "interpreter": {
     "hash": "a8f77dbe312454737902693cf9af4b6737d00abf5e2a0337a5e2bcf81d1eed48"
    }
   }
  },
  "language_info": {
   "codemirror_mode": {
    "name": "ipython",
    "version": 3
   },
   "file_extension": ".py",
   "mimetype": "text/x-python",
   "name": "python",
   "nbconvert_exporter": "python",
   "pygments_lexer": "ipython3",
   "version": "3.8.5-final"
  },
  "mimetype": "text/x-python",
  "name": "python",
  "npconvert_exporter": "python",
  "pygments_lexer": "ipython3",
  "version": 3
 },
 "nbformat": 4,
 "nbformat_minor": 4
}