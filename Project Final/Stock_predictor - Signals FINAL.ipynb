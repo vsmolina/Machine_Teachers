{
 "cells": [
  {
   "cell_type": "markdown",
   "metadata": {},
   "source": [
    "# LSTM Stock Predictor Using Closing Prices"
   ]
  },
  {
   "cell_type": "markdown",
   "metadata": {},
   "source": [
    "## Data Preparation"
   ]
  },
  {
   "cell_type": "code",
   "execution_count": 225,
   "metadata": {},
   "outputs": [],
   "source": [
    "import numpy as np\n",
    "import pandas as pd\n",
    "#import hvplot.pandas"
   ]
  },
  {
   "cell_type": "code",
   "execution_count": 226,
   "metadata": {},
   "outputs": [
    {
     "output_type": "execute_result",
     "data": {
      "text/plain": [
       "                     NVDA Close  NVDA Volume\n",
       "Date                                        \n",
       "2019-01-08 16:00:00      139.83     19650429\n",
       "2019-01-09 16:00:00      142.58     15431475\n",
       "2019-01-10 16:00:00      145.23     13078906\n",
       "2019-01-11 16:00:00      148.83     21869066\n",
       "2019-01-14 16:00:00      150.44     18254249"
      ],
      "text/html": "<div>\n<style scoped>\n    .dataframe tbody tr th:only-of-type {\n        vertical-align: middle;\n    }\n\n    .dataframe tbody tr th {\n        vertical-align: top;\n    }\n\n    .dataframe thead th {\n        text-align: right;\n    }\n</style>\n<table border=\"1\" class=\"dataframe\">\n  <thead>\n    <tr style=\"text-align: right;\">\n      <th></th>\n      <th>NVDA Close</th>\n      <th>NVDA Volume</th>\n    </tr>\n    <tr>\n      <th>Date</th>\n      <th></th>\n      <th></th>\n    </tr>\n  </thead>\n  <tbody>\n    <tr>\n      <th>2019-01-08 16:00:00</th>\n      <td>139.83</td>\n      <td>19650429</td>\n    </tr>\n    <tr>\n      <th>2019-01-09 16:00:00</th>\n      <td>142.58</td>\n      <td>15431475</td>\n    </tr>\n    <tr>\n      <th>2019-01-10 16:00:00</th>\n      <td>145.23</td>\n      <td>13078906</td>\n    </tr>\n    <tr>\n      <th>2019-01-11 16:00:00</th>\n      <td>148.83</td>\n      <td>21869066</td>\n    </tr>\n    <tr>\n      <th>2019-01-14 16:00:00</th>\n      <td>150.44</td>\n      <td>18254249</td>\n    </tr>\n  </tbody>\n</table>\n</div>"
     },
     "metadata": {},
     "execution_count": 226
    }
   ],
   "source": [
    "# Load DATA Data\n",
    "df_NFLX = pd.read_csv('../Data/Cleandata/Rawdata/nflx_data.csv', index_col=\"Date\", infer_datetime_format=True, parse_dates=True)\n",
    "df_PDD = pd.read_csv('../Data/Cleandata/Rawdata/pdd_data.csv', index_col=\"Date\", infer_datetime_format=True, parse_dates=True)\n",
    "df_NVDA = pd.read_csv('../Data/Cleandata/Rawdata/nvda_data.csv', index_col=\"Date\", infer_datetime_format=True, parse_dates=True)\n",
    "\n",
    "# Rename Columns\n",
    "df_NFLX.columns = ['NFLX Close', 'NFLX Volume']\n",
    "df_PDD.columns = ['PDD Close', 'PDD Volume']\n",
    "df_NVDA.columns = ['NVDA Close', 'NVDA Volume']\n",
    "\n",
    "# Call\n",
    "df_NFLX.head()\n",
    "df_PDD.head()\n",
    "df_NVDA.head()"
   ]
  },
  {
   "cell_type": "code",
   "execution_count": 227,
   "metadata": {},
   "outputs": [
    {
     "output_type": "execute_result",
     "data": {
      "text/plain": [
       "                     NFLX Close  NFLX Volume  PDD Close  PDD Volume  \\\n",
       "Date                                                                  \n",
       "2019-01-08 16:00:00      320.27     15359180      24.00     3355000   \n",
       "2019-01-09 16:00:00      319.96     13343152      25.54     7322212   \n",
       "2019-01-10 16:00:00      324.66     13472475      26.38     4956502   \n",
       "2019-01-11 16:00:00      337.59     19500429      26.16     2293294   \n",
       "2019-01-14 16:00:00      332.94     10499582      24.37     5526588   \n",
       "\n",
       "                     NVDA Close  NVDA Volume  \n",
       "Date                                          \n",
       "2019-01-08 16:00:00      139.83     19650429  \n",
       "2019-01-09 16:00:00      142.58     15431475  \n",
       "2019-01-10 16:00:00      145.23     13078906  \n",
       "2019-01-11 16:00:00      148.83     21869066  \n",
       "2019-01-14 16:00:00      150.44     18254249  "
      ],
      "text/html": "<div>\n<style scoped>\n    .dataframe tbody tr th:only-of-type {\n        vertical-align: middle;\n    }\n\n    .dataframe tbody tr th {\n        vertical-align: top;\n    }\n\n    .dataframe thead th {\n        text-align: right;\n    }\n</style>\n<table border=\"1\" class=\"dataframe\">\n  <thead>\n    <tr style=\"text-align: right;\">\n      <th></th>\n      <th>NFLX Close</th>\n      <th>NFLX Volume</th>\n      <th>PDD Close</th>\n      <th>PDD Volume</th>\n      <th>NVDA Close</th>\n      <th>NVDA Volume</th>\n    </tr>\n    <tr>\n      <th>Date</th>\n      <th></th>\n      <th></th>\n      <th></th>\n      <th></th>\n      <th></th>\n      <th></th>\n    </tr>\n  </thead>\n  <tbody>\n    <tr>\n      <th>2019-01-08 16:00:00</th>\n      <td>320.27</td>\n      <td>15359180</td>\n      <td>24.00</td>\n      <td>3355000</td>\n      <td>139.83</td>\n      <td>19650429</td>\n    </tr>\n    <tr>\n      <th>2019-01-09 16:00:00</th>\n      <td>319.96</td>\n      <td>13343152</td>\n      <td>25.54</td>\n      <td>7322212</td>\n      <td>142.58</td>\n      <td>15431475</td>\n    </tr>\n    <tr>\n      <th>2019-01-10 16:00:00</th>\n      <td>324.66</td>\n      <td>13472475</td>\n      <td>26.38</td>\n      <td>4956502</td>\n      <td>145.23</td>\n      <td>13078906</td>\n    </tr>\n    <tr>\n      <th>2019-01-11 16:00:00</th>\n      <td>337.59</td>\n      <td>19500429</td>\n      <td>26.16</td>\n      <td>2293294</td>\n      <td>148.83</td>\n      <td>21869066</td>\n    </tr>\n    <tr>\n      <th>2019-01-14 16:00:00</th>\n      <td>332.94</td>\n      <td>10499582</td>\n      <td>24.37</td>\n      <td>5526588</td>\n      <td>150.44</td>\n      <td>18254249</td>\n    </tr>\n  </tbody>\n</table>\n</div>"
     },
     "metadata": {},
     "execution_count": 227
    }
   ],
   "source": [
    "df_All = pd.concat([df_NFLX, df_PDD, df_NVDA], axis=\"columns\", join=\"outer\")\n",
    "df_All.head()"
   ]
  },
  {
   "cell_type": "code",
   "execution_count": 228,
   "metadata": {},
   "outputs": [
    {
     "output_type": "execute_result",
     "data": {
      "text/plain": [
       "                     NFLX Close  NFLX Volume  PDD Close  PDD Volume  \\\n",
       "Date                                                                  \n",
       "2020-12-31 16:00:00      540.73      5392322     177.67    12490032   \n",
       "2021-01-04 16:00:00      522.86      4444407     166.78    10987212   \n",
       "2021-01-05 16:00:00      520.80      3133872     187.20    16165814   \n",
       "2021-01-06 16:00:00      500.49      5346210     176.75    11873087   \n",
       "2021-01-07 16:00:00      508.89      3686448     180.12     8604167   \n",
       "\n",
       "                     NVDA Close  NVDA Volume  NFLX EMA12  NFLX EMA26  \\\n",
       "Date                                                                   \n",
       "2020-12-31 16:00:00      522.20      4810610  512.219395  503.603873   \n",
       "2021-01-04 16:00:00      524.54     14016045  512.816607  504.110450   \n",
       "2021-01-05 16:00:00      536.19      8068998  513.264680  504.549507   \n",
       "2021-01-06 16:00:00      504.58     14510575  512.547692  504.442712   \n",
       "2021-01-07 16:00:00      533.76     11537037  512.342402  504.559709   \n",
       "\n",
       "                      PDD EMA12   PDD EMA26  NVDA EMA12  NVDA EMA26  \n",
       "Date                                                                 \n",
       "2020-12-31 16:00:00  142.255318  123.283216  528.344412  518.239082  \n",
       "2021-01-04 16:00:00  143.631783  124.427500  528.130887  518.404843  \n",
       "2021-01-05 16:00:00  146.077079  126.078876  528.583210  518.872722  \n",
       "2021-01-06 16:00:00  147.798618  127.411897  527.236013  518.496719  \n",
       "2021-01-07 16:00:00  149.612677  128.798506  527.602176  518.898255  "
      ],
      "text/html": "<div>\n<style scoped>\n    .dataframe tbody tr th:only-of-type {\n        vertical-align: middle;\n    }\n\n    .dataframe tbody tr th {\n        vertical-align: top;\n    }\n\n    .dataframe thead th {\n        text-align: right;\n    }\n</style>\n<table border=\"1\" class=\"dataframe\">\n  <thead>\n    <tr style=\"text-align: right;\">\n      <th></th>\n      <th>NFLX Close</th>\n      <th>NFLX Volume</th>\n      <th>PDD Close</th>\n      <th>PDD Volume</th>\n      <th>NVDA Close</th>\n      <th>NVDA Volume</th>\n      <th>NFLX EMA12</th>\n      <th>NFLX EMA26</th>\n      <th>PDD EMA12</th>\n      <th>PDD EMA26</th>\n      <th>NVDA EMA12</th>\n      <th>NVDA EMA26</th>\n    </tr>\n    <tr>\n      <th>Date</th>\n      <th></th>\n      <th></th>\n      <th></th>\n      <th></th>\n      <th></th>\n      <th></th>\n      <th></th>\n      <th></th>\n      <th></th>\n      <th></th>\n      <th></th>\n      <th></th>\n    </tr>\n  </thead>\n  <tbody>\n    <tr>\n      <th>2020-12-31 16:00:00</th>\n      <td>540.73</td>\n      <td>5392322</td>\n      <td>177.67</td>\n      <td>12490032</td>\n      <td>522.20</td>\n      <td>4810610</td>\n      <td>512.219395</td>\n      <td>503.603873</td>\n      <td>142.255318</td>\n      <td>123.283216</td>\n      <td>528.344412</td>\n      <td>518.239082</td>\n    </tr>\n    <tr>\n      <th>2021-01-04 16:00:00</th>\n      <td>522.86</td>\n      <td>4444407</td>\n      <td>166.78</td>\n      <td>10987212</td>\n      <td>524.54</td>\n      <td>14016045</td>\n      <td>512.816607</td>\n      <td>504.110450</td>\n      <td>143.631783</td>\n      <td>124.427500</td>\n      <td>528.130887</td>\n      <td>518.404843</td>\n    </tr>\n    <tr>\n      <th>2021-01-05 16:00:00</th>\n      <td>520.80</td>\n      <td>3133872</td>\n      <td>187.20</td>\n      <td>16165814</td>\n      <td>536.19</td>\n      <td>8068998</td>\n      <td>513.264680</td>\n      <td>504.549507</td>\n      <td>146.077079</td>\n      <td>126.078876</td>\n      <td>528.583210</td>\n      <td>518.872722</td>\n    </tr>\n    <tr>\n      <th>2021-01-06 16:00:00</th>\n      <td>500.49</td>\n      <td>5346210</td>\n      <td>176.75</td>\n      <td>11873087</td>\n      <td>504.58</td>\n      <td>14510575</td>\n      <td>512.547692</td>\n      <td>504.442712</td>\n      <td>147.798618</td>\n      <td>127.411897</td>\n      <td>527.236013</td>\n      <td>518.496719</td>\n    </tr>\n    <tr>\n      <th>2021-01-07 16:00:00</th>\n      <td>508.89</td>\n      <td>3686448</td>\n      <td>180.12</td>\n      <td>8604167</td>\n      <td>533.76</td>\n      <td>11537037</td>\n      <td>512.342402</td>\n      <td>504.559709</td>\n      <td>149.612677</td>\n      <td>128.798506</td>\n      <td>527.602176</td>\n      <td>518.898255</td>\n    </tr>\n  </tbody>\n</table>\n</div>"
     },
     "metadata": {},
     "execution_count": 228
    }
   ],
   "source": [
    "short_span = 12\n",
    "long_span = 26\n",
    "df_NFLX['NFLX EMA'] = 0\n",
    "\n",
    "# Generate Moving Average\n",
    "df_All['NFLX EMA12'] = df_All['NFLX Close'].ewm(halflife=short_span).mean()\n",
    "df_All['NFLX EMA26'] = df_All['NFLX Close'].ewm(halflife=long_span).mean()\n",
    "df_All['PDD EMA12'] = df_All['PDD Close'].ewm(halflife=short_span).mean()\n",
    "df_All['PDD EMA26'] = df_All['PDD Close'].ewm(halflife=long_span).mean()\n",
    "df_All['NVDA EMA12'] = df_All['NVDA Close'].ewm(halflife=short_span).mean()\n",
    "df_All['NVDA EMA26'] = df_All['NVDA Close'].ewm(halflife=long_span).mean()\n",
    "df_All.tail()"
   ]
  },
  {
   "cell_type": "code",
   "execution_count": 229,
   "metadata": {},
   "outputs": [
    {
     "output_type": "execute_result",
     "data": {
      "text/plain": [
       "                     NFLX Close  NFLX Volume  PDD Close  PDD Volume  \\\n",
       "Date                                                                  \n",
       "2020-12-31 16:00:00      540.73      5392322     177.67    12490032   \n",
       "2021-01-04 16:00:00      522.86      4444407     166.78    10987212   \n",
       "2021-01-05 16:00:00      520.80      3133872     187.20    16165814   \n",
       "2021-01-06 16:00:00      500.49      5346210     176.75    11873087   \n",
       "2021-01-07 16:00:00      508.89      3686448     180.12     8604167   \n",
       "\n",
       "                     NVDA Close  NVDA Volume  NFLX EMA12  NFLX EMA26  \\\n",
       "Date                                                                   \n",
       "2020-12-31 16:00:00      522.20      4810610  512.219395  503.603873   \n",
       "2021-01-04 16:00:00      524.54     14016045  512.816607  504.110450   \n",
       "2021-01-05 16:00:00      536.19      8068998  513.264680  504.549507   \n",
       "2021-01-06 16:00:00      504.58     14510575  512.547692  504.442712   \n",
       "2021-01-07 16:00:00      533.76     11537037  512.342402  504.559709   \n",
       "\n",
       "                      PDD EMA12   PDD EMA26  NVDA EMA12  NVDA EMA26  \\\n",
       "Date                                                                  \n",
       "2020-12-31 16:00:00  142.255318  123.283216  528.344412  518.239082   \n",
       "2021-01-04 16:00:00  143.631783  124.427500  528.130887  518.404843   \n",
       "2021-01-05 16:00:00  146.077079  126.078876  528.583210  518.872722   \n",
       "2021-01-06 16:00:00  147.798618  127.411897  527.236013  518.496719   \n",
       "2021-01-07 16:00:00  149.612677  128.798506  527.602176  518.898255   \n",
       "\n",
       "                     NFLX Cross Short  NFLX Cross Long  PDD Cross Short  \\\n",
       "Date                                                                      \n",
       "2020-12-31 16:00:00               0.0              1.0              0.0   \n",
       "2021-01-04 16:00:00               0.0              1.0              0.0   \n",
       "2021-01-05 16:00:00               0.0              1.0              0.0   \n",
       "2021-01-06 16:00:00               0.0              1.0              0.0   \n",
       "2021-01-07 16:00:00               0.0              1.0              0.0   \n",
       "\n",
       "                     PDD Cross Long  NVDA Cross Short  NVDA Cross Long  \n",
       "Date                                                                    \n",
       "2020-12-31 16:00:00             1.0               0.0              1.0  \n",
       "2021-01-04 16:00:00             1.0               0.0              1.0  \n",
       "2021-01-05 16:00:00             1.0               0.0              1.0  \n",
       "2021-01-06 16:00:00             1.0               0.0              1.0  \n",
       "2021-01-07 16:00:00             1.0               0.0              1.0  "
      ],
      "text/html": "<div>\n<style scoped>\n    .dataframe tbody tr th:only-of-type {\n        vertical-align: middle;\n    }\n\n    .dataframe tbody tr th {\n        vertical-align: top;\n    }\n\n    .dataframe thead th {\n        text-align: right;\n    }\n</style>\n<table border=\"1\" class=\"dataframe\">\n  <thead>\n    <tr style=\"text-align: right;\">\n      <th></th>\n      <th>NFLX Close</th>\n      <th>NFLX Volume</th>\n      <th>PDD Close</th>\n      <th>PDD Volume</th>\n      <th>NVDA Close</th>\n      <th>NVDA Volume</th>\n      <th>NFLX EMA12</th>\n      <th>NFLX EMA26</th>\n      <th>PDD EMA12</th>\n      <th>PDD EMA26</th>\n      <th>NVDA EMA12</th>\n      <th>NVDA EMA26</th>\n      <th>NFLX Cross Short</th>\n      <th>NFLX Cross Long</th>\n      <th>PDD Cross Short</th>\n      <th>PDD Cross Long</th>\n      <th>NVDA Cross Short</th>\n      <th>NVDA Cross Long</th>\n    </tr>\n    <tr>\n      <th>Date</th>\n      <th></th>\n      <th></th>\n      <th></th>\n      <th></th>\n      <th></th>\n      <th></th>\n      <th></th>\n      <th></th>\n      <th></th>\n      <th></th>\n      <th></th>\n      <th></th>\n      <th></th>\n      <th></th>\n      <th></th>\n      <th></th>\n      <th></th>\n      <th></th>\n    </tr>\n  </thead>\n  <tbody>\n    <tr>\n      <th>2020-12-31 16:00:00</th>\n      <td>540.73</td>\n      <td>5392322</td>\n      <td>177.67</td>\n      <td>12490032</td>\n      <td>522.20</td>\n      <td>4810610</td>\n      <td>512.219395</td>\n      <td>503.603873</td>\n      <td>142.255318</td>\n      <td>123.283216</td>\n      <td>528.344412</td>\n      <td>518.239082</td>\n      <td>0.0</td>\n      <td>1.0</td>\n      <td>0.0</td>\n      <td>1.0</td>\n      <td>0.0</td>\n      <td>1.0</td>\n    </tr>\n    <tr>\n      <th>2021-01-04 16:00:00</th>\n      <td>522.86</td>\n      <td>4444407</td>\n      <td>166.78</td>\n      <td>10987212</td>\n      <td>524.54</td>\n      <td>14016045</td>\n      <td>512.816607</td>\n      <td>504.110450</td>\n      <td>143.631783</td>\n      <td>124.427500</td>\n      <td>528.130887</td>\n      <td>518.404843</td>\n      <td>0.0</td>\n      <td>1.0</td>\n      <td>0.0</td>\n      <td>1.0</td>\n      <td>0.0</td>\n      <td>1.0</td>\n    </tr>\n    <tr>\n      <th>2021-01-05 16:00:00</th>\n      <td>520.80</td>\n      <td>3133872</td>\n      <td>187.20</td>\n      <td>16165814</td>\n      <td>536.19</td>\n      <td>8068998</td>\n      <td>513.264680</td>\n      <td>504.549507</td>\n      <td>146.077079</td>\n      <td>126.078876</td>\n      <td>528.583210</td>\n      <td>518.872722</td>\n      <td>0.0</td>\n      <td>1.0</td>\n      <td>0.0</td>\n      <td>1.0</td>\n      <td>0.0</td>\n      <td>1.0</td>\n    </tr>\n    <tr>\n      <th>2021-01-06 16:00:00</th>\n      <td>500.49</td>\n      <td>5346210</td>\n      <td>176.75</td>\n      <td>11873087</td>\n      <td>504.58</td>\n      <td>14510575</td>\n      <td>512.547692</td>\n      <td>504.442712</td>\n      <td>147.798618</td>\n      <td>127.411897</td>\n      <td>527.236013</td>\n      <td>518.496719</td>\n      <td>0.0</td>\n      <td>1.0</td>\n      <td>0.0</td>\n      <td>1.0</td>\n      <td>0.0</td>\n      <td>1.0</td>\n    </tr>\n    <tr>\n      <th>2021-01-07 16:00:00</th>\n      <td>508.89</td>\n      <td>3686448</td>\n      <td>180.12</td>\n      <td>8604167</td>\n      <td>533.76</td>\n      <td>11537037</td>\n      <td>512.342402</td>\n      <td>504.559709</td>\n      <td>149.612677</td>\n      <td>128.798506</td>\n      <td>527.602176</td>\n      <td>518.898255</td>\n      <td>0.0</td>\n      <td>1.0</td>\n      <td>0.0</td>\n      <td>1.0</td>\n      <td>0.0</td>\n      <td>1.0</td>\n    </tr>\n  </tbody>\n</table>\n</div>"
     },
     "metadata": {},
     "execution_count": 229
    }
   ],
   "source": [
    "# Construct a crossover trading signal\n",
    "df_All['NFLX Cross Short'] = np.where(df_All['NFLX EMA26'] > df_All['NFLX EMA26'], -1.0, 0.0)\n",
    "df_All['NFLX Cross Long'] =  np.where(df_All['NFLX EMA12'] > df_All['NFLX EMA26'], 1.0, 0.0)\n",
    "df_All['PDD Cross Short'] = np.where(df_All['PDD EMA26'] > df_All['PDD EMA26'], -1.0, 0.0)\n",
    "df_All['PDD Cross Long'] =  np.where(df_All['PDD EMA12'] > df_All['PDD EMA26'], 1.0, 0.0)\n",
    "df_All['NVDA Cross Short'] = np.where(df_All['NVDA EMA26'] > df_All['NVDA EMA26'], -1.0, 0.0)\n",
    "df_All['NVDA Cross Long'] =  np.where(df_All['NVDA EMA12'] > df_All['NVDA EMA26'], 1.0, 0.0)\n",
    "df_All.tail()\n"
   ]
  },
  {
   "cell_type": "code",
   "execution_count": 230,
   "metadata": {},
   "outputs": [
    {
     "output_type": "execute_result",
     "data": {
      "text/plain": [
       "                     NVDA Real  NVDA Predicted\n",
       "Date                                          \n",
       "2019-08-21 16:00:00     149.87       151.18695\n",
       "2019-08-22 16:00:00     148.84       153.20126\n",
       "2019-08-23 16:00:00     151.72       154.94188\n",
       "2019-08-26 16:00:00     156.93       156.30083\n",
       "2019-08-27 16:00:00     148.77       156.88548"
      ],
      "text/html": "<div>\n<style scoped>\n    .dataframe tbody tr th:only-of-type {\n        vertical-align: middle;\n    }\n\n    .dataframe tbody tr th {\n        vertical-align: top;\n    }\n\n    .dataframe thead th {\n        text-align: right;\n    }\n</style>\n<table border=\"1\" class=\"dataframe\">\n  <thead>\n    <tr style=\"text-align: right;\">\n      <th></th>\n      <th>NVDA Real</th>\n      <th>NVDA Predicted</th>\n    </tr>\n    <tr>\n      <th>Date</th>\n      <th></th>\n      <th></th>\n    </tr>\n  </thead>\n  <tbody>\n    <tr>\n      <th>2019-08-21 16:00:00</th>\n      <td>149.87</td>\n      <td>151.18695</td>\n    </tr>\n    <tr>\n      <th>2019-08-22 16:00:00</th>\n      <td>148.84</td>\n      <td>153.20126</td>\n    </tr>\n    <tr>\n      <th>2019-08-23 16:00:00</th>\n      <td>151.72</td>\n      <td>154.94188</td>\n    </tr>\n    <tr>\n      <th>2019-08-26 16:00:00</th>\n      <td>156.93</td>\n      <td>156.30083</td>\n    </tr>\n    <tr>\n      <th>2019-08-27 16:00:00</th>\n      <td>148.77</td>\n      <td>156.88548</td>\n    </tr>\n  </tbody>\n</table>\n</div>"
     },
     "metadata": {},
     "execution_count": 230
    }
   ],
   "source": [
    "# Load LSTM Data\n",
    "df_NFLX = pd.read_csv('../Data/Cleandata/LSTM_NFLX.csv', index_col=\"Date\", infer_datetime_format=True, parse_dates=True)\n",
    "df_PDD = pd.read_csv('../Data/Cleandata/LSTM_PDD.csv', index_col=\"Date\", infer_datetime_format=True, parse_dates=True)\n",
    "df_NVDA = pd.read_csv('../Data/Cleandata/LSTM_NVDA.csv', index_col=\"Date\", infer_datetime_format=True, parse_dates=True)\n",
    "\n",
    "# Rename Columns\n",
    "df_NFLX.columns = ['NFLX Real', 'NFLX Predicted']\n",
    "df_PDD.columns = ['PDD Real', 'PDD Predicted']\n",
    "df_NVDA.columns = ['NVDA Real', 'NVDA Predicted']\n",
    "\n",
    "# Call\n",
    "df_NFLX.head()\n",
    "df_PDD.head()\n",
    "df_NVDA.head()"
   ]
  },
  {
   "cell_type": "code",
   "execution_count": 231,
   "metadata": {},
   "outputs": [
    {
     "output_type": "stream",
     "name": "stdout",
     "text": [
      "                     NFLX Close  NFLX Volume  PDD Close  PDD Volume  \\\nDate                                                                  \n2019-01-08 16:00:00      320.27     15359180      24.00     3355000   \n2019-01-09 16:00:00      319.96     13343152      25.54     7322212   \n2019-01-10 16:00:00      324.66     13472475      26.38     4956502   \n2019-01-11 16:00:00      337.59     19500429      26.16     2293294   \n2019-01-14 16:00:00      332.94     10499582      24.37     5526588   \n...                         ...          ...        ...         ...   \n2020-12-31 16:00:00      540.73      5392322     177.67    12490032   \n2021-01-04 16:00:00      522.86      4444407     166.78    10987212   \n2021-01-05 16:00:00      520.80      3133872     187.20    16165814   \n2021-01-06 16:00:00      500.49      5346210     176.75    11873087   \n2021-01-07 16:00:00      508.89      3686448     180.12     8604167   \n\n                     NVDA Close  NVDA Volume  NFLX EMA12  NFLX EMA26  \\\nDate                                                                   \n2019-01-08 16:00:00      139.83     19650429  320.270000  320.270000   \n2019-01-09 16:00:00      142.58     15431475  320.110525  320.112934   \n2019-01-10 16:00:00      145.23     13078906  321.715406  321.669205   \n2019-01-11 16:00:00      148.83     21869066  326.034237  325.809955   \n2019-01-14 16:00:00      150.44     18254249  327.579368  327.312992   \n...                         ...          ...         ...         ...   \n2020-12-31 16:00:00      522.20      4810610  512.219395  503.603873   \n2021-01-04 16:00:00      524.54     14016045  512.816607  504.110450   \n2021-01-05 16:00:00      536.19      8068998  513.264680  504.549507   \n2021-01-06 16:00:00      504.58     14510575  512.547692  504.442712   \n2021-01-07 16:00:00      533.76     11537037  512.342402  504.559709   \n\n                      PDD EMA12   PDD EMA26  ...  PDD Cross Short  \\\nDate                                         ...                    \n2019-01-08 16:00:00   24.000000   24.000000  ...              0.0   \n2019-01-09 16:00:00   24.792232   24.780263  ...              0.0   \n2019-01-10 16:00:00   25.352336   25.327786  ...              0.0   \n2019-01-11 16:00:00   25.572069   25.544232  ...              0.0   \n2019-01-14 16:00:00   25.303112   25.296700  ...              0.0   \n...                         ...         ...  ...              ...   \n2020-12-31 16:00:00  142.255318  123.283216  ...              0.0   \n2021-01-04 16:00:00  143.631783  124.427500  ...              0.0   \n2021-01-05 16:00:00  146.077079  126.078876  ...              0.0   \n2021-01-06 16:00:00  147.798618  127.411897  ...              0.0   \n2021-01-07 16:00:00  149.612677  128.798506  ...              0.0   \n\n                     PDD Cross Long  NVDA Cross Short  NVDA Cross Long  \\\nDate                                                                     \n2019-01-08 16:00:00             0.0               0.0              0.0   \n2019-01-09 16:00:00             1.0               0.0              1.0   \n2019-01-10 16:00:00             1.0               0.0              1.0   \n2019-01-11 16:00:00             1.0               0.0              1.0   \n2019-01-14 16:00:00             1.0               0.0              1.0   \n...                             ...               ...              ...   \n2020-12-31 16:00:00             1.0               0.0              1.0   \n2021-01-04 16:00:00             1.0               0.0              1.0   \n2021-01-05 16:00:00             1.0               0.0              1.0   \n2021-01-06 16:00:00             1.0               0.0              1.0   \n2021-01-07 16:00:00             1.0               0.0              1.0   \n\n                     NFLX Real  NFLX Predicted  PDD Real  PDD Predicted  \\\nDate                                                                      \n2019-01-08 16:00:00        NaN             NaN       NaN            NaN   \n2019-01-09 16:00:00        NaN             NaN       NaN            NaN   \n2019-01-10 16:00:00        NaN             NaN       NaN            NaN   \n2019-01-11 16:00:00        NaN             NaN       NaN            NaN   \n2019-01-14 16:00:00        NaN             NaN       NaN            NaN   \n...                        ...             ...       ...            ...   \n2020-12-31 16:00:00     413.44       442.76560     60.36      63.463882   \n2021-01-04 16:00:00     419.73       430.52567     66.87      64.443146   \n2021-01-05 16:00:00     425.92       423.12045     65.76      66.536890   \n2021-01-06 16:00:00     427.31       418.09885     67.30      64.096730   \n2021-01-07 16:00:00     421.97       420.46300     68.15      63.310030   \n\n                     NVDA Real  NVDA Predicted  \nDate                                            \n2019-01-08 16:00:00        NaN             NaN  \n2019-01-09 16:00:00        NaN             NaN  \n2019-01-10 16:00:00        NaN             NaN  \n2019-01-11 16:00:00        NaN             NaN  \n2019-01-14 16:00:00        NaN             NaN  \n...                        ...             ...  \n2020-12-31 16:00:00     339.48       365.71660  \n2021-01-04 16:00:00     355.02       364.68726  \n2021-01-05 16:00:00     352.25       363.73227  \n2021-01-06 16:00:00     353.01       356.53450  \n2021-01-07 16:00:00     350.78       355.70215  \n\n[505 rows x 24 columns]\n"
     ]
    }
   ],
   "source": [
    "df_AllFinal = pd.concat([df_All, df_NFLX, df_PDD, df_NVDA], axis=\"columns\", join=\"outer\")\n",
    "print(df_AllFinal)"
   ]
  },
  {
   "cell_type": "code",
   "execution_count": 232,
   "metadata": {},
   "outputs": [
    {
     "output_type": "stream",
     "name": "stdout",
     "text": [
      "                     NFLX Close  NFLX Volume  PDD Close  PDD Volume  \\\nDate                                                                  \n2019-01-08 16:00:00      320.27     15359180      24.00     3355000   \n2019-01-09 16:00:00      319.96     13343152      25.54     7322212   \n2019-01-10 16:00:00      324.66     13472475      26.38     4956502   \n2019-01-11 16:00:00      337.59     19500429      26.16     2293294   \n2019-01-14 16:00:00      332.94     10499582      24.37     5526588   \n...                         ...          ...        ...         ...   \n2020-12-31 16:00:00      540.73      5392322     177.67    12490032   \n2021-01-04 16:00:00      522.86      4444407     166.78    10987212   \n2021-01-05 16:00:00      520.80      3133872     187.20    16165814   \n2021-01-06 16:00:00      500.49      5346210     176.75    11873087   \n2021-01-07 16:00:00      508.89      3686448     180.12     8604167   \n\n                     NVDA Close  NVDA Volume  NFLX EMA12  NFLX EMA26  \\\nDate                                                                   \n2019-01-08 16:00:00      139.83     19650429  320.270000  320.270000   \n2019-01-09 16:00:00      142.58     15431475  320.110525  320.112934   \n2019-01-10 16:00:00      145.23     13078906  321.715406  321.669205   \n2019-01-11 16:00:00      148.83     21869066  326.034237  325.809955   \n2019-01-14 16:00:00      150.44     18254249  327.579368  327.312992   \n...                         ...          ...         ...         ...   \n2020-12-31 16:00:00      522.20      4810610  512.219395  503.603873   \n2021-01-04 16:00:00      524.54     14016045  512.816607  504.110450   \n2021-01-05 16:00:00      536.19      8068998  513.264680  504.549507   \n2021-01-06 16:00:00      504.58     14510575  512.547692  504.442712   \n2021-01-07 16:00:00      533.76     11537037  512.342402  504.559709   \n\n                      PDD EMA12   PDD EMA26  ...  NVDA Cross Long  NFLX Real  \\\nDate                                         ...                               \n2019-01-08 16:00:00   24.000000   24.000000  ...              0.0        NaN   \n2019-01-09 16:00:00   24.792232   24.780263  ...              1.0        NaN   \n2019-01-10 16:00:00   25.352336   25.327786  ...              1.0        NaN   \n2019-01-11 16:00:00   25.572069   25.544232  ...              1.0        NaN   \n2019-01-14 16:00:00   25.303112   25.296700  ...              1.0        NaN   \n...                         ...         ...  ...              ...        ...   \n2020-12-31 16:00:00  142.255318  123.283216  ...              1.0     413.44   \n2021-01-04 16:00:00  143.631783  124.427500  ...              1.0     419.73   \n2021-01-05 16:00:00  146.077079  126.078876  ...              1.0     425.92   \n2021-01-06 16:00:00  147.798618  127.411897  ...              1.0     427.31   \n2021-01-07 16:00:00  149.612677  128.798506  ...              1.0     421.97   \n\n                     NFLX Predicted  PDD Real  PDD Predicted  NVDA Real  \\\nDate                                                                      \n2019-01-08 16:00:00             NaN       NaN            NaN        NaN   \n2019-01-09 16:00:00             NaN       NaN            NaN        NaN   \n2019-01-10 16:00:00             NaN       NaN            NaN        NaN   \n2019-01-11 16:00:00             NaN       NaN            NaN        NaN   \n2019-01-14 16:00:00             NaN       NaN            NaN        NaN   \n...                             ...       ...            ...        ...   \n2020-12-31 16:00:00       442.76560     60.36      63.463882     339.48   \n2021-01-04 16:00:00       430.52567     66.87      64.443146     355.02   \n2021-01-05 16:00:00       423.12045     65.76      66.536890     352.25   \n2021-01-06 16:00:00       418.09885     67.30      64.096730     353.01   \n2021-01-07 16:00:00       420.46300     68.15      63.310030     350.78   \n\n                     NVDA Predicted  NFLX EMA Net Sig  PDD EMA Net Sig  \\\nDate                                                                     \n2019-01-08 16:00:00             NaN               0.0              0.0   \n2019-01-09 16:00:00             NaN               0.0              1.0   \n2019-01-10 16:00:00             NaN               1.0              1.0   \n2019-01-11 16:00:00             NaN               1.0              1.0   \n2019-01-14 16:00:00             NaN               1.0              1.0   \n...                             ...               ...              ...   \n2020-12-31 16:00:00       365.71660               1.0              1.0   \n2021-01-04 16:00:00       364.68726               1.0              1.0   \n2021-01-05 16:00:00       363.73227               1.0              1.0   \n2021-01-06 16:00:00       356.53450               1.0              1.0   \n2021-01-07 16:00:00       355.70215               1.0              1.0   \n\n                     NVDA EMA Net Sig  \nDate                                   \n2019-01-08 16:00:00               0.0  \n2019-01-09 16:00:00               1.0  \n2019-01-10 16:00:00               1.0  \n2019-01-11 16:00:00               1.0  \n2019-01-14 16:00:00               1.0  \n...                               ...  \n2020-12-31 16:00:00               1.0  \n2021-01-04 16:00:00               1.0  \n2021-01-05 16:00:00               1.0  \n2021-01-06 16:00:00               1.0  \n2021-01-07 16:00:00               1.0  \n\n[505 rows x 27 columns]\n"
     ]
    }
   ],
   "source": [
    "# Net EMA\n",
    "df_AllFinal['NFLX EMA Net Sig'] = df_AllFinal['NFLX Cross Short']+ df_AllFinal['NFLX Cross Long']\n",
    "df_AllFinal['PDD EMA Net Sig'] = df_AllFinal['PDD Cross Short']+ df_AllFinal['PDD Cross Long']\n",
    "df_AllFinal['NVDA EMA Net Sig'] = df_AllFinal['NVDA Cross Short']+ df_AllFinal['NVDA Cross Long']\n",
    "print(df_AllFinal)"
   ]
  },
  {
   "source": [
    "# LSTM Signal;\n",
    "a = 1- df_AllFinal['NFLX Real']/df_AllFinal['NFLX Predicted']"
   ],
   "cell_type": "code",
   "metadata": {},
   "execution_count": 233,
   "outputs": [
    {
     "output_type": "execute_result",
     "data": {
      "text/plain": [
       "Date\n",
       "2019-01-08 16:00:00         NaN\n",
       "2019-01-09 16:00:00         NaN\n",
       "2019-01-10 16:00:00         NaN\n",
       "2019-01-11 16:00:00         NaN\n",
       "2019-01-14 16:00:00         NaN\n",
       "                         ...   \n",
       "2020-12-31 16:00:00    0.066233\n",
       "2021-01-04 16:00:00    0.025076\n",
       "2021-01-05 16:00:00   -0.006616\n",
       "2021-01-06 16:00:00   -0.022031\n",
       "2021-01-07 16:00:00   -0.003584\n",
       "Length: 505, dtype: float64"
      ]
     },
     "metadata": {},
     "execution_count": 233
    }
   ]
  },
  {
   "cell_type": "code",
   "execution_count": 234,
   "metadata": {},
   "outputs": [
    {
     "output_type": "stream",
     "name": "stdout",
     "text": [
      "                     NFLX Close  NFLX Volume  PDD Close  PDD Volume  \\\nDate                                                                  \n2019-01-08 16:00:00      320.27     15359180      24.00     3355000   \n2019-01-09 16:00:00      319.96     13343152      25.54     7322212   \n2019-01-10 16:00:00      324.66     13472475      26.38     4956502   \n2019-01-11 16:00:00      337.59     19500429      26.16     2293294   \n2019-01-14 16:00:00      332.94     10499582      24.37     5526588   \n...                         ...          ...        ...         ...   \n2020-12-31 16:00:00      540.73      5392322     177.67    12490032   \n2021-01-04 16:00:00      522.86      4444407     166.78    10987212   \n2021-01-05 16:00:00      520.80      3133872     187.20    16165814   \n2021-01-06 16:00:00      500.49      5346210     176.75    11873087   \n2021-01-07 16:00:00      508.89      3686448     180.12     8604167   \n\n                     NVDA Close  NVDA Volume  NFLX EMA12  NFLX EMA26  \\\nDate                                                                   \n2019-01-08 16:00:00      139.83     19650429  320.270000  320.270000   \n2019-01-09 16:00:00      142.58     15431475  320.110525  320.112934   \n2019-01-10 16:00:00      145.23     13078906  321.715406  321.669205   \n2019-01-11 16:00:00      148.83     21869066  326.034237  325.809955   \n2019-01-14 16:00:00      150.44     18254249  327.579368  327.312992   \n...                         ...          ...         ...         ...   \n2020-12-31 16:00:00      522.20      4810610  512.219395  503.603873   \n2021-01-04 16:00:00      524.54     14016045  512.816607  504.110450   \n2021-01-05 16:00:00      536.19      8068998  513.264680  504.549507   \n2021-01-06 16:00:00      504.58     14510575  512.547692  504.442712   \n2021-01-07 16:00:00      533.76     11537037  512.342402  504.559709   \n\n                      PDD EMA12   PDD EMA26  ...  NVDA EMA Net Sig  \\\nDate                                         ...                     \n2019-01-08 16:00:00   24.000000   24.000000  ...               0.0   \n2019-01-09 16:00:00   24.792232   24.780263  ...               1.0   \n2019-01-10 16:00:00   25.352336   25.327786  ...               1.0   \n2019-01-11 16:00:00   25.572069   25.544232  ...               1.0   \n2019-01-14 16:00:00   25.303112   25.296700  ...               1.0   \n...                         ...         ...  ...               ...   \n2020-12-31 16:00:00  142.255318  123.283216  ...               1.0   \n2021-01-04 16:00:00  143.631783  124.427500  ...               1.0   \n2021-01-05 16:00:00  146.077079  126.078876  ...               1.0   \n2021-01-06 16:00:00  147.798618  127.411897  ...               1.0   \n2021-01-07 16:00:00  149.612677  128.798506  ...               1.0   \n\n                     NFLX LSTM Sell Sig  NFLX LSTM Buy Sig  PDD LSTM Sell Sig  \\\nDate                                                                            \n2019-01-08 16:00:00                 NaN                NaN                NaN   \n2019-01-09 16:00:00                 NaN                NaN                NaN   \n2019-01-10 16:00:00                 NaN                NaN                NaN   \n2019-01-11 16:00:00                 NaN                NaN                NaN   \n2019-01-14 16:00:00                 NaN                NaN                NaN   \n...                                 ...                ...                ...   \n2020-12-31 16:00:00            0.066233           0.070931           0.048908   \n2021-01-04 16:00:00            0.025076           0.025721          -0.037659   \n2021-01-05 16:00:00           -0.006616          -0.006573           0.011676   \n2021-01-06 16:00:00           -0.022031          -0.021556          -0.049976   \n2021-01-07 16:00:00           -0.003584          -0.003571          -0.076449   \n\n                     PDD LSTM Buy Sig  NVDA LSTM Sell Sig  NVDA LSTM Buy Sig  \\\nDate                                                                           \n2019-01-08 16:00:00               NaN                 NaN                NaN   \n2019-01-09 16:00:00               NaN                 NaN                NaN   \n2019-01-10 16:00:00               NaN                 NaN                NaN   \n2019-01-11 16:00:00               NaN                 NaN                NaN   \n2019-01-14 16:00:00               NaN                 NaN                NaN   \n...                               ...                 ...                ...   \n2020-12-31 16:00:00          0.051423            0.071740           0.077285   \n2021-01-04 16:00:00         -0.036292            0.026508           0.027230   \n2021-01-05 16:00:00          0.011814            0.031568           0.032597   \n2021-01-06 16:00:00         -0.047597            0.009885           0.009984   \n2021-01-07 16:00:00         -0.071019            0.013838           0.014032   \n\n                     NFLX LSTM Sig  PDD LSTM Sig  NVDA LSTM Sig  \nDate                                                             \n2019-01-08 16:00:00            0.0           0.0            0.0  \n2019-01-09 16:00:00            0.0           0.0            0.0  \n2019-01-10 16:00:00            0.0           0.0            0.0  \n2019-01-11 16:00:00            0.0           0.0            0.0  \n2019-01-14 16:00:00            0.0           0.0            0.0  \n...                            ...           ...            ...  \n2020-12-31 16:00:00            0.0           0.0            0.0  \n2021-01-04 16:00:00            0.0           0.0            0.0  \n2021-01-05 16:00:00            0.0           0.0            0.0  \n2021-01-06 16:00:00            0.0           0.0            0.0  \n2021-01-07 16:00:00            0.0           0.0            0.0  \n\n[505 rows x 36 columns]\n"
     ]
    }
   ],
   "source": [
    "# LSTM Signal;\n",
    "df_AllFinal['NFLX LSTM Sell Sig'] = 1 - df_AllFinal['NFLX Real']/df_AllFinal['NFLX Predicted']\n",
    "df_AllFinal['NFLX LSTM Buy Sig'] = df_AllFinal['NFLX Predicted']/df_AllFinal['NFLX Real'] - 1\n",
    "df_AllFinal['PDD LSTM Sell Sig'] = 1 - df_AllFinal['PDD Real']/df_AllFinal['PDD Predicted']\n",
    "df_AllFinal['PDD LSTM Buy Sig'] = df_AllFinal['PDD Predicted']/df_AllFinal['PDD Real'] - 1\n",
    "df_AllFinal['NVDA LSTM Sell Sig'] = 1 - df_AllFinal['NVDA Real']/df_AllFinal['NVDA Predicted']\n",
    "df_AllFinal['NVDA LSTM Buy Sig'] = df_AllFinal['NVDA Predicted']/df_AllFinal['NVDA Real'] - 1\n",
    "df_AllFinal['NFLX LSTM Sig'] = np.where(df_AllFinal['NFLX LSTM Sell Sig'] > .01 , -1.0, 0.0) + np.where(df_AllFinal['NFLX LSTM Buy Sig'] > .01 , 1.0, 0.0)\n",
    "df_AllFinal['PDD LSTM Sig'] = np.where(df_AllFinal['PDD LSTM Sell Sig'] > .01 , -1.0, 0.0) + np.where(df_AllFinal['PDD LSTM Buy Sig'] > .01 , 1.0, 0.0)\n",
    "df_AllFinal['NVDA LSTM Sig'] = np.where(df_AllFinal['NVDA LSTM Sell Sig'] > .01 , -1.0, 0.0) + np.where(df_AllFinal['NVDA LSTM Buy Sig'] > .01 , 1.0, 0.0)\n",
    "print(df_AllFinal)\n",
    "df_AllFinal.to_csv('../Data/Cleandata/TestFinal1.csv')\n",
    "\n",
    "\n",
    "\n",
    "\n"
   ]
  },
  {
   "cell_type": "code",
   "execution_count": 235,
   "metadata": {},
   "outputs": [],
   "source": [
    "df_AllFinal['NFLX LSTM Sig'] = np.where(df_AllFinal['NFLX LSTM Sell Sig'] > .01 , -1.0, 0.0) + np.where(df_AllFinal['NFLX LSTM Buy Sig'] > .01 , 1.0, 0.0)\n",
    "df_AllFinal['PDD LSTM Sig'] = np.where(df_AllFinal['PDD LSTM Sell Sig'] > .01 , -1.0, 0.0) + np.where(df_AllFinal['PDD LSTM Buy Sig'] > .01 , 1.0, 0.0)\n",
    "df_AllFinal['NVDA LSTM Sig'] = np.where(df_AllFinal['NVDA LSTM Sell Sig'] > .01 , -1.0, 0.0) + np.where(df_AllFinal['NVDA LSTM Buy Sig'] > .01 , 1.0, 0.0)"
   ]
  },
  {
   "cell_type": "code",
   "execution_count": 236,
   "metadata": {},
   "outputs": [
    {
     "output_type": "execute_result",
     "data": {
      "text/plain": [
       "                     NFLX Close  NFLX Volume  PDD Close  PDD Volume  \\\n",
       "Date                                                                  \n",
       "2019-01-08 16:00:00      320.27     15359180      24.00     3355000   \n",
       "2019-01-09 16:00:00      319.96     13343152      25.54     7322212   \n",
       "2019-01-10 16:00:00      324.66     13472475      26.38     4956502   \n",
       "2019-01-11 16:00:00      337.59     19500429      26.16     2293294   \n",
       "2019-01-14 16:00:00      332.94     10499582      24.37     5526588   \n",
       "\n",
       "                     NVDA Close  NVDA Volume  NFLX EMA12  NFLX EMA26  \\\n",
       "Date                                                                   \n",
       "2019-01-08 16:00:00      139.83     19650429  320.270000  320.270000   \n",
       "2019-01-09 16:00:00      142.58     15431475  320.110525  320.112934   \n",
       "2019-01-10 16:00:00      145.23     13078906  321.715406  321.669205   \n",
       "2019-01-11 16:00:00      148.83     21869066  326.034237  325.809955   \n",
       "2019-01-14 16:00:00      150.44     18254249  327.579368  327.312992   \n",
       "\n",
       "                     PDD EMA12  PDD EMA26  ...  PDD LSTM Sell Sig  \\\n",
       "Date                                       ...                      \n",
       "2019-01-08 16:00:00  24.000000  24.000000  ...                NaN   \n",
       "2019-01-09 16:00:00  24.792232  24.780263  ...                NaN   \n",
       "2019-01-10 16:00:00  25.352336  25.327786  ...                NaN   \n",
       "2019-01-11 16:00:00  25.572069  25.544232  ...                NaN   \n",
       "2019-01-14 16:00:00  25.303112  25.296700  ...                NaN   \n",
       "\n",
       "                     PDD LSTM Buy Sig  NVDA LSTM Sell Sig  NVDA LSTM Buy Sig  \\\n",
       "Date                                                                           \n",
       "2019-01-08 16:00:00               NaN                 NaN                NaN   \n",
       "2019-01-09 16:00:00               NaN                 NaN                NaN   \n",
       "2019-01-10 16:00:00               NaN                 NaN                NaN   \n",
       "2019-01-11 16:00:00               NaN                 NaN                NaN   \n",
       "2019-01-14 16:00:00               NaN                 NaN                NaN   \n",
       "\n",
       "                     NFLX LSTM Sig  PDD LSTM Sig  NVDA LSTM Sig  \\\n",
       "Date                                                              \n",
       "2019-01-08 16:00:00            0.0           0.0            0.0   \n",
       "2019-01-09 16:00:00            0.0           0.0            0.0   \n",
       "2019-01-10 16:00:00            0.0           0.0            0.0   \n",
       "2019-01-11 16:00:00            0.0           0.0            0.0   \n",
       "2019-01-14 16:00:00            0.0           0.0            0.0   \n",
       "\n",
       "                     NFLX Trade Signal  PDD Trade Signal  NVDA Trade Signal  \n",
       "Date                                                                         \n",
       "2019-01-08 16:00:00                0.0               0.0                0.0  \n",
       "2019-01-09 16:00:00                0.0               0.0                0.0  \n",
       "2019-01-10 16:00:00                0.0               0.0                0.0  \n",
       "2019-01-11 16:00:00                0.0               0.0                0.0  \n",
       "2019-01-14 16:00:00                0.0               0.0                0.0  \n",
       "\n",
       "[5 rows x 39 columns]"
      ],
      "text/html": "<div>\n<style scoped>\n    .dataframe tbody tr th:only-of-type {\n        vertical-align: middle;\n    }\n\n    .dataframe tbody tr th {\n        vertical-align: top;\n    }\n\n    .dataframe thead th {\n        text-align: right;\n    }\n</style>\n<table border=\"1\" class=\"dataframe\">\n  <thead>\n    <tr style=\"text-align: right;\">\n      <th></th>\n      <th>NFLX Close</th>\n      <th>NFLX Volume</th>\n      <th>PDD Close</th>\n      <th>PDD Volume</th>\n      <th>NVDA Close</th>\n      <th>NVDA Volume</th>\n      <th>NFLX EMA12</th>\n      <th>NFLX EMA26</th>\n      <th>PDD EMA12</th>\n      <th>PDD EMA26</th>\n      <th>...</th>\n      <th>PDD LSTM Sell Sig</th>\n      <th>PDD LSTM Buy Sig</th>\n      <th>NVDA LSTM Sell Sig</th>\n      <th>NVDA LSTM Buy Sig</th>\n      <th>NFLX LSTM Sig</th>\n      <th>PDD LSTM Sig</th>\n      <th>NVDA LSTM Sig</th>\n      <th>NFLX Trade Signal</th>\n      <th>PDD Trade Signal</th>\n      <th>NVDA Trade Signal</th>\n    </tr>\n    <tr>\n      <th>Date</th>\n      <th></th>\n      <th></th>\n      <th></th>\n      <th></th>\n      <th></th>\n      <th></th>\n      <th></th>\n      <th></th>\n      <th></th>\n      <th></th>\n      <th></th>\n      <th></th>\n      <th></th>\n      <th></th>\n      <th></th>\n      <th></th>\n      <th></th>\n      <th></th>\n      <th></th>\n      <th></th>\n      <th></th>\n    </tr>\n  </thead>\n  <tbody>\n    <tr>\n      <th>2019-01-08 16:00:00</th>\n      <td>320.27</td>\n      <td>15359180</td>\n      <td>24.00</td>\n      <td>3355000</td>\n      <td>139.83</td>\n      <td>19650429</td>\n      <td>320.270000</td>\n      <td>320.270000</td>\n      <td>24.000000</td>\n      <td>24.000000</td>\n      <td>...</td>\n      <td>NaN</td>\n      <td>NaN</td>\n      <td>NaN</td>\n      <td>NaN</td>\n      <td>0.0</td>\n      <td>0.0</td>\n      <td>0.0</td>\n      <td>0.0</td>\n      <td>0.0</td>\n      <td>0.0</td>\n    </tr>\n    <tr>\n      <th>2019-01-09 16:00:00</th>\n      <td>319.96</td>\n      <td>13343152</td>\n      <td>25.54</td>\n      <td>7322212</td>\n      <td>142.58</td>\n      <td>15431475</td>\n      <td>320.110525</td>\n      <td>320.112934</td>\n      <td>24.792232</td>\n      <td>24.780263</td>\n      <td>...</td>\n      <td>NaN</td>\n      <td>NaN</td>\n      <td>NaN</td>\n      <td>NaN</td>\n      <td>0.0</td>\n      <td>0.0</td>\n      <td>0.0</td>\n      <td>0.0</td>\n      <td>0.0</td>\n      <td>0.0</td>\n    </tr>\n    <tr>\n      <th>2019-01-10 16:00:00</th>\n      <td>324.66</td>\n      <td>13472475</td>\n      <td>26.38</td>\n      <td>4956502</td>\n      <td>145.23</td>\n      <td>13078906</td>\n      <td>321.715406</td>\n      <td>321.669205</td>\n      <td>25.352336</td>\n      <td>25.327786</td>\n      <td>...</td>\n      <td>NaN</td>\n      <td>NaN</td>\n      <td>NaN</td>\n      <td>NaN</td>\n      <td>0.0</td>\n      <td>0.0</td>\n      <td>0.0</td>\n      <td>0.0</td>\n      <td>0.0</td>\n      <td>0.0</td>\n    </tr>\n    <tr>\n      <th>2019-01-11 16:00:00</th>\n      <td>337.59</td>\n      <td>19500429</td>\n      <td>26.16</td>\n      <td>2293294</td>\n      <td>148.83</td>\n      <td>21869066</td>\n      <td>326.034237</td>\n      <td>325.809955</td>\n      <td>25.572069</td>\n      <td>25.544232</td>\n      <td>...</td>\n      <td>NaN</td>\n      <td>NaN</td>\n      <td>NaN</td>\n      <td>NaN</td>\n      <td>0.0</td>\n      <td>0.0</td>\n      <td>0.0</td>\n      <td>0.0</td>\n      <td>0.0</td>\n      <td>0.0</td>\n    </tr>\n    <tr>\n      <th>2019-01-14 16:00:00</th>\n      <td>332.94</td>\n      <td>10499582</td>\n      <td>24.37</td>\n      <td>5526588</td>\n      <td>150.44</td>\n      <td>18254249</td>\n      <td>327.579368</td>\n      <td>327.312992</td>\n      <td>25.303112</td>\n      <td>25.296700</td>\n      <td>...</td>\n      <td>NaN</td>\n      <td>NaN</td>\n      <td>NaN</td>\n      <td>NaN</td>\n      <td>0.0</td>\n      <td>0.0</td>\n      <td>0.0</td>\n      <td>0.0</td>\n      <td>0.0</td>\n      <td>0.0</td>\n    </tr>\n  </tbody>\n</table>\n<p>5 rows × 39 columns</p>\n</div>"
     },
     "metadata": {},
     "execution_count": 236
    }
   ],
   "source": [
    "# Combined Signal\n",
    "NFLX_SELL = np.where(df_AllFinal['NFLX EMA Net Sig'] + df_AllFinal['NFLX LSTM Sig'] == -2 , -1.0, 0.0)\n",
    "NFLX_BUY = np.where(df_AllFinal['NFLX EMA Net Sig'] + df_AllFinal['NFLX LSTM Sig'] == 2 , 1.0, 0.0)\n",
    "PDD_SELL = np.where(df_AllFinal['PDD EMA Net Sig'] + df_AllFinal['PDD LSTM Sig'] == -2 , -1.0, 0.0)\n",
    "PDD_BUY = np.where(df_AllFinal['PDD EMA Net Sig'] + df_AllFinal['PDD LSTM Sig'] == 2 , 1.0, 0.0)\n",
    "NVDA_SELL = np.where(df_AllFinal['NVDA EMA Net Sig'] + df_AllFinal['NVDA LSTM Sig'] == -2 , -1.0, 0.0)\n",
    "NVDA_BUY = np.where(df_AllFinal['NVDA EMA Net Sig'] + df_AllFinal['NVDA LSTM Sig'] == 2 , 1.0, 0.0)\n",
    "\n",
    "df_AllFinal['NFLX Trade Signal'] = NFLX_BUY + NFLX_SELL\n",
    "df_AllFinal['PDD Trade Signal'] = PDD_BUY + PDD_SELL\n",
    "df_AllFinal['NVDA Trade Signal'] = NVDA_BUY + PDD_SELL\n",
    "\n",
    "df_AllFinal.head()"
   ]
  },
  {
   "cell_type": "code",
   "execution_count": 237,
   "metadata": {},
   "outputs": [
    {
     "output_type": "stream",
     "name": "stdout",
     "text": [
      "                     NFLX Trade Signal  PDD Trade Signal  NVDA Trade Signal\nDate                                                                       \n2019-01-08 16:00:00                0.0               0.0                0.0\n2019-01-09 16:00:00                0.0               0.0                0.0\n2019-01-10 16:00:00                0.0               0.0                0.0\n2019-01-11 16:00:00                0.0               0.0                0.0\n2019-01-14 16:00:00                0.0               0.0                0.0\n...                                ...               ...                ...\n2020-12-31 16:00:00                0.0               0.0                0.0\n2021-01-04 16:00:00                0.0               0.0                0.0\n2021-01-05 16:00:00                0.0               0.0                0.0\n2021-01-06 16:00:00                0.0               0.0                0.0\n2021-01-07 16:00:00                0.0               0.0                0.0\n\n[505 rows x 3 columns]\n"
     ]
    }
   ],
   "source": [
    "df_Trade_Signals = df_AllFinal[['NFLX Trade Signal','PDD Trade Signal','NVDA Trade Signal']]\n",
    "print(df_Trade_Signals)\n"
   ]
  },
  {
   "cell_type": "code",
   "execution_count": 238,
   "metadata": {},
   "outputs": [
    {
     "output_type": "execute_result",
     "data": {
      "text/plain": [
       "0.0"
      ]
     },
     "metadata": {},
     "execution_count": 238
    }
   ],
   "source": [
    "df_Trade_Signals['NVDA Trade Signal'].sum()"
   ]
  },
  {
   "cell_type": "code",
   "execution_count": null,
   "metadata": {},
   "outputs": [],
   "source": []
  }
 ],
 "metadata": {
  "file_extension": ".py",
  "kernelspec": {
   "name": "python3",
   "display_name": "Python 3.8.5 64-bit (conda)",
   "metadata": {
    "interpreter": {
     "hash": "a8f77dbe312454737902693cf9af4b6737d00abf5e2a0337a5e2bcf81d1eed48"
    }
   }
  },
  "language_info": {
   "codemirror_mode": {
    "name": "ipython",
    "version": 3
   },
   "file_extension": ".py",
   "mimetype": "text/x-python",
   "name": "python",
   "nbconvert_exporter": "python",
   "pygments_lexer": "ipython3",
   "version": "3.8.5-final"
  },
  "mimetype": "text/x-python",
  "name": "python",
  "npconvert_exporter": "python",
  "pygments_lexer": "ipython3",
  "version": 3
 },
 "nbformat": 4,
 "nbformat_minor": 4
}