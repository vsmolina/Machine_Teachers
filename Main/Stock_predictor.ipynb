{
 "cells": [
  {
   "cell_type": "markdown",
   "metadata": {},
   "source": [
    "# LSTM Stock Predictor Using Closing Prices"
   ]
  },
  {
   "cell_type": "markdown",
   "metadata": {},
   "source": [
    "## Data Preparation"
   ]
  },
  {
   "cell_type": "code",
   "execution_count": 1,
   "metadata": {},
   "outputs": [],
   "source": [
    "import numpy as np\n",
    "import pandas as pd\n",
    "#import hvplot.pandas"
   ]
  },
  {
   "cell_type": "code",
   "execution_count": 2,
   "metadata": {},
   "outputs": [],
   "source": [
    "# Set the random seed for reproducibility\n",
    "# Note: This is for the homework solution, but it is good practice to comment this out and run multiple experiments to evaluate your model\n",
    "from numpy.random import seed\n",
    "seed(1)\n",
    "from tensorflow import random\n",
    "random.set_seed(2)"
   ]
  },
  {
   "cell_type": "code",
   "execution_count": 3,
   "metadata": {},
   "outputs": [
    {
     "data": {
      "text/html": [
       "<div>\n",
       "<style scoped>\n",
       "    .dataframe tbody tr th:only-of-type {\n",
       "        vertical-align: middle;\n",
       "    }\n",
       "\n",
       "    .dataframe tbody tr th {\n",
       "        vertical-align: top;\n",
       "    }\n",
       "\n",
       "    .dataframe thead th {\n",
       "        text-align: right;\n",
       "    }\n",
       "</style>\n",
       "<table border=\"1\" class=\"dataframe\">\n",
       "  <thead>\n",
       "    <tr style=\"text-align: right;\">\n",
       "      <th></th>\n",
       "      <th>Closing Price</th>\n",
       "      <th>Volume</th>\n",
       "    </tr>\n",
       "    <tr>\n",
       "      <th>Date</th>\n",
       "      <th></th>\n",
       "      <th></th>\n",
       "    </tr>\n",
       "  </thead>\n",
       "  <tbody>\n",
       "    <tr>\n",
       "      <th>2019-01-08 16:00:00</th>\n",
       "      <td>320.27</td>\n",
       "      <td>15359180</td>\n",
       "    </tr>\n",
       "    <tr>\n",
       "      <th>2019-01-09 16:00:00</th>\n",
       "      <td>319.96</td>\n",
       "      <td>13343152</td>\n",
       "    </tr>\n",
       "    <tr>\n",
       "      <th>2019-01-10 16:00:00</th>\n",
       "      <td>324.66</td>\n",
       "      <td>13472475</td>\n",
       "    </tr>\n",
       "    <tr>\n",
       "      <th>2019-01-11 16:00:00</th>\n",
       "      <td>337.59</td>\n",
       "      <td>19500429</td>\n",
       "    </tr>\n",
       "    <tr>\n",
       "      <th>2019-01-14 16:00:00</th>\n",
       "      <td>332.94</td>\n",
       "      <td>10499582</td>\n",
       "    </tr>\n",
       "  </tbody>\n",
       "</table>\n",
       "</div>"
      ],
      "text/plain": [
       "                     Closing Price    Volume\n",
       "Date                                        \n",
       "2019-01-08 16:00:00         320.27  15359180\n",
       "2019-01-09 16:00:00         319.96  13343152\n",
       "2019-01-10 16:00:00         324.66  13472475\n",
       "2019-01-11 16:00:00         337.59  19500429\n",
       "2019-01-14 16:00:00         332.94  10499582"
      ]
     },
     "execution_count": 3,
     "metadata": {},
     "output_type": "execute_result"
    }
   ],
   "source": [
    "# Load Tickers Data\n",
    "df = pd.read_csv('../Data/Cleandata/Rawdata/nflx_data.csv', index_col=\"Date\", infer_datetime_format=True, parse_dates=True)\n",
    "\n",
    "df.head()"
   ]
  },
  {
   "cell_type": "code",
   "execution_count": 4,
   "metadata": {},
   "outputs": [],
   "source": [
    "# This function accepts the column number for the features (X) and the target (y)\n",
    "# It chunks the data up with a rolling window of Xt-n to predict Xt\n",
    "# It returns a numpy array of X any y\n",
    "def window_data(df, window, feature_col_number, target_col_number):\n",
    "    X = []\n",
    "    y = []\n",
    "    for i in range(len(df) - window - 1):\n",
    "        features = df.iloc[i:(i + window), feature_col_number]\n",
    "        target = df.iloc[(i + window), target_col_number]\n",
    "        X.append(features)\n",
    "        y.append(target)\n",
    "    return np.array(X), np.array(y).reshape(-1, 1)"
   ]
  },
  {
   "cell_type": "code",
   "execution_count": 5,
   "metadata": {},
   "outputs": [],
   "source": [
    "# Predict Closing Prices using a 10 day window of previous closing prices\n",
    "# Then, experiment with window sizes anywhere from 1 to 10 and see how the model performance changes\n",
    "window_size = 5\n",
    "\n",
    "# Column index 0 is the 'fng_value' column\n",
    "# Column index 1 is the `Close` column\n",
    "feature_column = 0\n",
    "target_column = 0\n",
    "X, y = window_data(df, window_size, feature_column, target_column)"
   ]
  },
  {
   "cell_type": "code",
   "execution_count": 6,
   "metadata": {},
   "outputs": [],
   "source": [
    "# Use 70% of the data for training and the remaineder for testing\n",
    "split = int(0.7 * len(X))\n",
    "\n",
    "X_train = X[: split]\n",
    "X_test = X[: split]\n",
    "\n",
    "y_train = y[: split]\n",
    "y_test = y[: split]"
   ]
  },
  {
   "cell_type": "code",
   "execution_count": 7,
   "metadata": {},
   "outputs": [],
   "source": [
    "from sklearn.preprocessing import MinMaxScaler\n",
    "# Use the MinMaxScaler to scale data between 0 and 1.\n",
    "# YOUR CODE HERE!\n",
    "scaler = MinMaxScaler()\n",
    "\n",
    "scaler.fit(X)\n",
    "\n",
    "X_train = scaler.transform(X_train)\n",
    "X_test = scaler.transform(X_test)\n",
    "\n",
    "scaler.fit(y)\n",
    "\n",
    "y_train = scaler.transform(y_train)\n",
    "y_test = scaler.transform(y_test)"
   ]
  },
  {
   "cell_type": "code",
   "execution_count": 8,
   "metadata": {},
   "outputs": [
    {
     "name": "stdout",
     "output_type": "stream",
     "text": [
      "X_train sample values:\n",
      "[[[0.21751225]\n",
      "  [0.21648563]\n",
      "  [0.2320506 ]\n",
      "  [0.27487084]\n",
      "  [0.25947145]]\n",
      "\n",
      " [[0.21648563]\n",
      "  [0.2320506 ]\n",
      "  [0.27487084]\n",
      "  [0.25947145]\n",
      "  [0.33133528]]\n",
      "\n",
      " [[0.2320506 ]\n",
      "  [0.27487084]\n",
      "  [0.25947145]\n",
      "  [0.33133528]\n",
      "  [0.32057226]]\n",
      "\n",
      " [[0.27487084]\n",
      "  [0.25947145]\n",
      "  [0.33133528]\n",
      "  [0.32057226]\n",
      "  [0.32653332]]\n",
      "\n",
      " [[0.25947145]\n",
      "  [0.33133528]\n",
      "  [0.32057226]\n",
      "  [0.32653332]\n",
      "  [0.27987151]]] \n",
      "\n",
      "X_test sample values:\n",
      "[[[0.21751225]\n",
      "  [0.21648563]\n",
      "  [0.2320506 ]\n",
      "  [0.27487084]\n",
      "  [0.25947145]]\n",
      "\n",
      " [[0.21648563]\n",
      "  [0.2320506 ]\n",
      "  [0.27487084]\n",
      "  [0.25947145]\n",
      "  [0.33133528]]\n",
      "\n",
      " [[0.2320506 ]\n",
      "  [0.27487084]\n",
      "  [0.25947145]\n",
      "  [0.33133528]\n",
      "  [0.32057226]]\n",
      "\n",
      " [[0.27487084]\n",
      "  [0.25947145]\n",
      "  [0.33133528]\n",
      "  [0.32057226]\n",
      "  [0.32653332]]\n",
      "\n",
      " [[0.25947145]\n",
      "  [0.33133528]\n",
      "  [0.32057226]\n",
      "  [0.32653332]\n",
      "  [0.27987151]]]\n"
     ]
    }
   ],
   "source": [
    "# Reshape the features for the model\n",
    "X_train = X_train.reshape((X_train.shape[0], X_train.shape[1], 1))\n",
    "X_test = X_test.reshape((X_test.shape[0], X_test.shape[1], 1))\n",
    "print (f\"X_train sample values:\\n{X_train[:5]} \\n\")\n",
    "print (f\"X_test sample values:\\n{X_test[:5]}\")"
   ]
  },
  {
   "cell_type": "markdown",
   "metadata": {},
   "source": [
    "---"
   ]
  },
  {
   "cell_type": "markdown",
   "metadata": {},
   "source": [
    "## Build and Train the LSTM RNN\n",
    "\n",
    "In this section, you will design a custom LSTM RNN and fit (train) it using the training data.\n",
    "\n",
    "You will need to:\n",
    "1. Define the model architecture\n",
    "2. Compile the model\n",
    "3. Fit the model to the training data\n",
    "\n",
    "### Hints:\n",
    "You will want to use the same model architecture and random seed for both notebooks. This is necessary to accurately compare the performance of the FNG model vs the closing price model. "
   ]
  },
  {
   "cell_type": "code",
   "execution_count": 9,
   "metadata": {},
   "outputs": [],
   "source": [
    "from tensorflow.keras.models import Sequential\n",
    "from tensorflow.keras.layers import LSTM, Dense, Dropout"
   ]
  },
  {
   "cell_type": "code",
   "execution_count": 10,
   "metadata": {},
   "outputs": [],
   "source": [
    "# Build the LSTM model. \n",
    "# The return sequences need to be set to True if you are adding additional LSTM layers, but \n",
    "# You don't have to do this for the final layer. \n",
    "# Note: The dropouts help prevent overfitting\n",
    "# Note: The input shape is the number of time steps and the number of indicators\n",
    "# Note: Batching inputs has a different input shape of Samples/TimeSteps/Features\n",
    "\n",
    "model = Sequential()\n",
    "\n",
    "number_units = 30\n",
    "dropout_fraction = 0.2\n",
    "\n",
    "#layer 1\n",
    "model.add(LSTM(\n",
    "    units=number_units,\n",
    "    return_sequences=True,\n",
    "    input_shape=(X_train.shape[1], 1)\n",
    "))\n",
    "model.add(Dropout(dropout_fraction))\n",
    "\n",
    "#layer 2\n",
    "model.add(LSTM(units=number_units, return_sequences=True))\n",
    "model.add(Dropout(dropout_fraction))\n",
    "\n",
    "#layer 3\n",
    "model.add(LSTM(units=number_units))\n",
    "model.add(Dropout(dropout_fraction))\n",
    "\n",
    "model.add(Dense(1))"
   ]
  },
  {
   "cell_type": "code",
   "execution_count": 11,
   "metadata": {},
   "outputs": [],
   "source": [
    "# Compile the model\n",
    "model.compile(optimizer=\"adam\", loss=\"mean_squared_error\")"
   ]
  },
  {
   "cell_type": "code",
   "execution_count": 12,
   "metadata": {},
   "outputs": [
    {
     "name": "stdout",
     "output_type": "stream",
     "text": [
      "Model: \"sequential\"\n",
      "_________________________________________________________________\n",
      "Layer (type)                 Output Shape              Param #   \n",
      "=================================================================\n",
      "lstm (LSTM)                  (None, 5, 30)             3840      \n",
      "_________________________________________________________________\n",
      "dropout (Dropout)            (None, 5, 30)             0         \n",
      "_________________________________________________________________\n",
      "lstm_1 (LSTM)                (None, 5, 30)             7320      \n",
      "_________________________________________________________________\n",
      "dropout_1 (Dropout)          (None, 5, 30)             0         \n",
      "_________________________________________________________________\n",
      "lstm_2 (LSTM)                (None, 30)                7320      \n",
      "_________________________________________________________________\n",
      "dropout_2 (Dropout)          (None, 30)                0         \n",
      "_________________________________________________________________\n",
      "dense (Dense)                (None, 1)                 31        \n",
      "=================================================================\n",
      "Total params: 18,511\n",
      "Trainable params: 18,511\n",
      "Non-trainable params: 0\n",
      "_________________________________________________________________\n"
     ]
    }
   ],
   "source": [
    "# Summarize the model\n",
    "model.summary()"
   ]
  },
  {
   "cell_type": "code",
   "execution_count": 13,
   "metadata": {},
   "outputs": [
    {
     "name": "stdout",
     "output_type": "stream",
     "text": [
      "Epoch 1/30\n",
      "4/4 [==============================] - 0s 6ms/step - loss: 0.0998\n",
      "Epoch 2/30\n",
      "4/4 [==============================] - 0s 6ms/step - loss: 0.0773\n",
      "Epoch 3/30\n",
      "4/4 [==============================] - 0s 6ms/step - loss: 0.0553\n",
      "Epoch 4/30\n",
      "4/4 [==============================] - 0s 6ms/step - loss: 0.0341\n",
      "Epoch 5/30\n",
      "4/4 [==============================] - 0s 6ms/step - loss: 0.0181\n",
      "Epoch 6/30\n",
      "4/4 [==============================] - 0s 6ms/step - loss: 0.0130\n",
      "Epoch 7/30\n",
      "4/4 [==============================] - 0s 5ms/step - loss: 0.0174\n",
      "Epoch 8/30\n",
      "4/4 [==============================] - 0s 5ms/step - loss: 0.0190\n",
      "Epoch 9/30\n",
      "4/4 [==============================] - 0s 5ms/step - loss: 0.0153\n",
      "Epoch 10/30\n",
      "4/4 [==============================] - 0s 4ms/step - loss: 0.0127\n",
      "Epoch 11/30\n",
      "4/4 [==============================] - 0s 5ms/step - loss: 0.0134\n",
      "Epoch 12/30\n",
      "4/4 [==============================] - 0s 5ms/step - loss: 0.0121\n",
      "Epoch 13/30\n",
      "4/4 [==============================] - 0s 5ms/step - loss: 0.0103\n",
      "Epoch 14/30\n",
      "4/4 [==============================] - 0s 4ms/step - loss: 0.0099\n",
      "Epoch 15/30\n",
      "4/4 [==============================] - 0s 4ms/step - loss: 0.0087\n",
      "Epoch 16/30\n",
      "4/4 [==============================] - 0s 5ms/step - loss: 0.0102\n",
      "Epoch 17/30\n",
      "4/4 [==============================] - 0s 4ms/step - loss: 0.0093\n",
      "Epoch 18/30\n",
      "4/4 [==============================] - 0s 4ms/step - loss: 0.0086\n",
      "Epoch 19/30\n",
      "4/4 [==============================] - 0s 4ms/step - loss: 0.0084\n",
      "Epoch 20/30\n",
      "4/4 [==============================] - 0s 4ms/step - loss: 0.0070\n",
      "Epoch 21/30\n",
      "4/4 [==============================] - 0s 5ms/step - loss: 0.0059\n",
      "Epoch 22/30\n",
      "4/4 [==============================] - 0s 5ms/step - loss: 0.0055\n",
      "Epoch 23/30\n",
      "4/4 [==============================] - 0s 4ms/step - loss: 0.0049\n",
      "Epoch 24/30\n",
      "4/4 [==============================] - 0s 5ms/step - loss: 0.0041\n",
      "Epoch 25/30\n",
      "4/4 [==============================] - 0s 5ms/step - loss: 0.0046\n",
      "Epoch 26/30\n",
      "4/4 [==============================] - 0s 5ms/step - loss: 0.0042\n",
      "Epoch 27/30\n",
      "4/4 [==============================] - 0s 5ms/step - loss: 0.0041\n",
      "Epoch 28/30\n",
      "4/4 [==============================] - 0s 4ms/step - loss: 0.0045\n",
      "Epoch 29/30\n",
      "4/4 [==============================] - 0s 4ms/step - loss: 0.0046\n",
      "Epoch 30/30\n",
      "4/4 [==============================] - 0s 5ms/step - loss: 0.0042\n"
     ]
    },
    {
     "data": {
      "text/plain": [
       "<tensorflow.python.keras.callbacks.History at 0x215b3911b50>"
      ]
     },
     "execution_count": 13,
     "metadata": {},
     "output_type": "execute_result"
    }
   ],
   "source": [
    "# Train the model\n",
    "# Use at least 10 epochs\n",
    "# Do not shuffle the data\n",
    "# Experiement with the batch size, but a smaller batch size is recommended\n",
    "model.fit(X_train, y_train, epochs=30, shuffle=False, batch_size=90, verbose=1)"
   ]
  },
  {
   "cell_type": "markdown",
   "metadata": {},
   "source": [
    "---"
   ]
  },
  {
   "cell_type": "markdown",
   "metadata": {},
   "source": [
    "## Model Performance\n",
    "\n",
    "In this section, you will evaluate the model using the test data. \n",
    "\n",
    "You will need to:\n",
    "1. Evaluate the model using the `X_test` and `y_test` data.\n",
    "2. Use the X_test data to make predictions\n",
    "3. Create a DataFrame of Real (y_test) vs predicted values. \n",
    "4. Plot the Real vs predicted values as a line chart\n",
    "\n",
    "### Hints\n",
    "Remember to apply the `inverse_transform` function to the predicted and y_test values to recover the actual closing prices."
   ]
  },
  {
   "cell_type": "code",
   "execution_count": 14,
   "metadata": {},
   "outputs": [
    {
     "name": "stdout",
     "output_type": "stream",
     "text": [
      "11/11 [==============================] - 0s 1ms/step - loss: 0.0024\n"
     ]
    },
    {
     "data": {
      "text/plain": [
       "0.0024362606927752495"
      ]
     },
     "execution_count": 14,
     "metadata": {},
     "output_type": "execute_result"
    }
   ],
   "source": [
    "# Evaluate the model\n",
    "model.evaluate(X_test, y_test)"
   ]
  },
  {
   "cell_type": "code",
   "execution_count": 15,
   "metadata": {},
   "outputs": [],
   "source": [
    "# Make some predictions\n",
    "predicted = model.predict(X_test)"
   ]
  },
  {
   "cell_type": "code",
   "execution_count": 16,
   "metadata": {},
   "outputs": [],
   "source": [
    "# Recover the original prices instead of the scaled version\n",
    "predicted_prices = scaler.inverse_transform(predicted)\n",
    "real_prices = scaler.inverse_transform(y_test.reshape(-1, 1))"
   ]
  },
  {
   "cell_type": "code",
   "execution_count": 17,
   "metadata": {},
   "outputs": [
    {
     "data": {
      "text/html": [
       "<div>\n",
       "<style scoped>\n",
       "    .dataframe tbody tr th:only-of-type {\n",
       "        vertical-align: middle;\n",
       "    }\n",
       "\n",
       "    .dataframe tbody tr th {\n",
       "        vertical-align: top;\n",
       "    }\n",
       "\n",
       "    .dataframe thead th {\n",
       "        text-align: right;\n",
       "    }\n",
       "</style>\n",
       "<table border=\"1\" class=\"dataframe\">\n",
       "  <thead>\n",
       "    <tr style=\"text-align: right;\">\n",
       "      <th></th>\n",
       "      <th>Real</th>\n",
       "      <th>Predicted</th>\n",
       "    </tr>\n",
       "    <tr>\n",
       "      <th>Date</th>\n",
       "      <th></th>\n",
       "      <th></th>\n",
       "    </tr>\n",
       "  </thead>\n",
       "  <tbody>\n",
       "    <tr>\n",
       "      <th>2020-12-31 16:00:00</th>\n",
       "      <td>413.44</td>\n",
       "      <td>442.765564</td>\n",
       "    </tr>\n",
       "    <tr>\n",
       "      <th>2021-01-04 16:00:00</th>\n",
       "      <td>419.73</td>\n",
       "      <td>430.525665</td>\n",
       "    </tr>\n",
       "    <tr>\n",
       "      <th>2021-01-05 16:00:00</th>\n",
       "      <td>425.92</td>\n",
       "      <td>423.120453</td>\n",
       "    </tr>\n",
       "    <tr>\n",
       "      <th>2021-01-06 16:00:00</th>\n",
       "      <td>427.31</td>\n",
       "      <td>418.098846</td>\n",
       "    </tr>\n",
       "    <tr>\n",
       "      <th>2021-01-07 16:00:00</th>\n",
       "      <td>421.97</td>\n",
       "      <td>420.463013</td>\n",
       "    </tr>\n",
       "  </tbody>\n",
       "</table>\n",
       "</div>"
      ],
      "text/plain": [
       "                       Real   Predicted\n",
       "Date                                   \n",
       "2020-12-31 16:00:00  413.44  442.765564\n",
       "2021-01-04 16:00:00  419.73  430.525665\n",
       "2021-01-05 16:00:00  425.92  423.120453\n",
       "2021-01-06 16:00:00  427.31  418.098846\n",
       "2021-01-07 16:00:00  421.97  420.463013"
      ]
     },
     "execution_count": 17,
     "metadata": {},
     "output_type": "execute_result"
    }
   ],
   "source": [
    "# Create a DataFrame of Real and Predicted values\n",
    "stocks = pd.DataFrame({\n",
    "    \"Real\": real_prices.ravel(),\n",
    "    \"Predicted\": predicted_prices.ravel(),\n",
    "}, index = df.index[-len(real_prices): ]) \n",
    "stocks.tail()"
   ]
  },
  {
   "cell_type": "code",
   "execution_count": 18,
   "metadata": {},
   "outputs": [
    {
     "data": {
      "text/plain": [
       "<AxesSubplot:xlabel='Date'>"
      ]
     },
     "execution_count": 18,
     "metadata": {},
     "output_type": "execute_result"
    },
    {
     "data": {
      "image/png": "[encoded data removed]",
      "text/plain": [
       "<Figure size 432x288 with 1 Axes>"
      ]
     },
     "metadata": {
      "needs_background": "light"
     },
     "output_type": "display_data"
    }
   ],
   "source": [
    "# Plot the real vs predicted values as a line chart\n",
    "stocks.plot()"
   ]
  },
  {
   "cell_type": "code",
   "execution_count": 20,
   "metadata": {},
   "outputs": [
    {
     "ename": "SyntaxError",
     "evalue": "cannot assign to function call (<ipython-input-20-de037d9c7fe5>, line 5)",
     "output_type": "error",
     "traceback": [
      "\u001b[1;36m  File \u001b[1;32m\"<ipython-input-20-de037d9c7fe5>\"\u001b[1;36m, line \u001b[1;32m5\u001b[0m\n\u001b[1;33m    stocks[\"Signal\"][i].append() += .5\u001b[0m\n\u001b[1;37m    ^\u001b[0m\n\u001b[1;31mSyntaxError\u001b[0m\u001b[1;31m:\u001b[0m cannot assign to function call\n"
     ]
    }
   ],
   "source": [
    "for i in stocks:\n",
    "    if stocks[\"Predicted\"][i] > stocks[\"Predicted\"][i - 1]:\n",
    "        stocks[\"Signal\"][i] += .5\n",
    "    if stocks[\"Real\"][i] > stocks[\"Real\"][i - 1]:\n",
    "        stocks[\"Signal\"][i].append() += .5"
   ]
  },
  {
   "cell_type": "code",
   "execution_count": null,
   "metadata": {},
   "outputs": [],
   "source": []
  }
 ],
 "metadata": {
  "file_extension": ".py",
  "kernelspec": {
   "display_name": "Python 3",
   "language": "python",
   "name": "python3"
  },
  "language_info": {
   "codemirror_mode": {
    "name": "ipython",
    "version": 3
   },
   "file_extension": ".py",
   "mimetype": "text/x-python",
   "name": "python",
   "nbconvert_exporter": "python",
   "pygments_lexer": "ipython3",
   "version": "3.8.5"
  },
  "mimetype": "text/x-python",
  "name": "python",
  "npconvert_exporter": "python",
  "pygments_lexer": "ipython3",
  "version": 3
 },
 "nbformat": 4,
 "nbformat_minor": 4
}
