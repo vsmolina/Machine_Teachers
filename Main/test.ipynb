{
 "cells": [
  {
   "cell_type": "code",
   "execution_count": 1,
   "metadata": {},
   "outputs": [],
   "source": [
    "import numpy as np\n",
    "import pandas as pd\n",
    "from numpy.random import seed\n",
    "seed(1)\n",
    "from tensorflow import random\n",
    "random.set_seed(2)\n",
    "from sklearn.preprocessing import MinMaxScaler\n",
    "from tensorflow.keras.models import Sequential\n",
    "from tensorflow.keras.layers import LSTM, Dense, Dropout\n",
    "from stock_predictor import Stock_predictor"
   ]
  },
  {
   "cell_type": "code",
   "execution_count": 2,
   "metadata": {},
   "outputs": [
    {
     "data": {
      "text/html": [
       "<div>\n",
       "<style scoped>\n",
       "    .dataframe tbody tr th:only-of-type {\n",
       "        vertical-align: middle;\n",
       "    }\n",
       "\n",
       "    .dataframe tbody tr th {\n",
       "        vertical-align: top;\n",
       "    }\n",
       "\n",
       "    .dataframe thead th {\n",
       "        text-align: right;\n",
       "    }\n",
       "</style>\n",
       "<table border=\"1\" class=\"dataframe\">\n",
       "  <thead>\n",
       "    <tr style=\"text-align: right;\">\n",
       "      <th></th>\n",
       "      <th>Closing Price</th>\n",
       "      <th>Volume</th>\n",
       "    </tr>\n",
       "    <tr>\n",
       "      <th>Date</th>\n",
       "      <th></th>\n",
       "      <th></th>\n",
       "    </tr>\n",
       "  </thead>\n",
       "  <tbody>\n",
       "    <tr>\n",
       "      <th>2019-01-08 16:00:00</th>\n",
       "      <td>320.27</td>\n",
       "      <td>15359180</td>\n",
       "    </tr>\n",
       "    <tr>\n",
       "      <th>2019-01-09 16:00:00</th>\n",
       "      <td>319.96</td>\n",
       "      <td>13343152</td>\n",
       "    </tr>\n",
       "    <tr>\n",
       "      <th>2019-01-10 16:00:00</th>\n",
       "      <td>324.66</td>\n",
       "      <td>13472475</td>\n",
       "    </tr>\n",
       "    <tr>\n",
       "      <th>2019-01-11 16:00:00</th>\n",
       "      <td>337.59</td>\n",
       "      <td>19500429</td>\n",
       "    </tr>\n",
       "    <tr>\n",
       "      <th>2019-01-14 16:00:00</th>\n",
       "      <td>332.94</td>\n",
       "      <td>10499582</td>\n",
       "    </tr>\n",
       "  </tbody>\n",
       "</table>\n",
       "</div>"
      ],
      "text/plain": [
       "                     Closing Price    Volume\n",
       "Date                                        \n",
       "2019-01-08 16:00:00         320.27  15359180\n",
       "2019-01-09 16:00:00         319.96  13343152\n",
       "2019-01-10 16:00:00         324.66  13472475\n",
       "2019-01-11 16:00:00         337.59  19500429\n",
       "2019-01-14 16:00:00         332.94  10499582"
      ]
     },
     "execution_count": 2,
     "metadata": {},
     "output_type": "execute_result"
    }
   ],
   "source": [
    "df = pd.read_csv('../Data/Cleandata/Rawdata/nflx_data.csv', index_col=\"Date\", infer_datetime_format=True, parse_dates=True)\n",
    "\n",
    "df.head()"
   ]
  },
  {
   "cell_type": "code",
   "execution_count": 3,
   "metadata": {},
   "outputs": [
    {
     "name": "stdout",
     "output_type": "stream",
     "text": [
      "Epoch 1/30\n",
      "4/4 [==============================] - 0s 5ms/step - loss: 0.0998\n",
      "Epoch 2/30\n",
      "4/4 [==============================] - 0s 6ms/step - loss: 0.0773\n",
      "Epoch 3/30\n",
      "4/4 [==============================] - 0s 6ms/step - loss: 0.0553\n",
      "Epoch 4/30\n",
      "4/4 [==============================] - 0s 6ms/step - loss: 0.0341\n",
      "Epoch 5/30\n",
      "4/4 [==============================] - 0s 5ms/step - loss: 0.0181\n",
      "Epoch 6/30\n",
      "4/4 [==============================] - 0s 5ms/step - loss: 0.0130\n",
      "Epoch 7/30\n",
      "4/4 [==============================] - 0s 4ms/step - loss: 0.0174\n",
      "Epoch 8/30\n",
      "4/4 [==============================] - 0s 4ms/step - loss: 0.0190\n",
      "Epoch 9/30\n",
      "4/4 [==============================] - 0s 4ms/step - loss: 0.0153\n",
      "Epoch 10/30\n",
      "4/4 [==============================] - 0s 4ms/step - loss: 0.0127\n",
      "Epoch 11/30\n",
      "4/4 [==============================] - 0s 4ms/step - loss: 0.0134\n",
      "Epoch 12/30\n",
      "4/4 [==============================] - 0s 4ms/step - loss: 0.0121\n",
      "Epoch 13/30\n",
      "4/4 [==============================] - 0s 4ms/step - loss: 0.0103\n",
      "Epoch 14/30\n",
      "4/4 [==============================] - 0s 4ms/step - loss: 0.0099\n",
      "Epoch 15/30\n",
      "4/4 [==============================] - 0s 4ms/step - loss: 0.0087\n",
      "Epoch 16/30\n",
      "4/4 [==============================] - 0s 4ms/step - loss: 0.0102\n",
      "Epoch 17/30\n",
      "4/4 [==============================] - 0s 4ms/step - loss: 0.0093\n",
      "Epoch 18/30\n",
      "4/4 [==============================] - 0s 4ms/step - loss: 0.0086\n",
      "Epoch 19/30\n",
      "4/4 [==============================] - 0s 4ms/step - loss: 0.0084\n",
      "Epoch 20/30\n",
      "4/4 [==============================] - 0s 4ms/step - loss: 0.0070\n",
      "Epoch 21/30\n",
      "4/4 [==============================] - 0s 4ms/step - loss: 0.0059\n",
      "Epoch 22/30\n",
      "4/4 [==============================] - 0s 4ms/step - loss: 0.0055\n",
      "Epoch 23/30\n",
      "4/4 [==============================] - 0s 4ms/step - loss: 0.0049\n",
      "Epoch 24/30\n",
      "4/4 [==============================] - 0s 4ms/step - loss: 0.0041\n",
      "Epoch 25/30\n",
      "4/4 [==============================] - 0s 4ms/step - loss: 0.0046\n",
      "Epoch 26/30\n",
      "4/4 [==============================] - 0s 4ms/step - loss: 0.0042\n",
      "Epoch 27/30\n",
      "4/4 [==============================] - 0s 4ms/step - loss: 0.0041\n",
      "Epoch 28/30\n",
      "4/4 [==============================] - 0s 4ms/step - loss: 0.0045\n",
      "Epoch 29/30\n",
      "4/4 [==============================] - 0s 4ms/step - loss: 0.0046\n",
      "Epoch 30/30\n",
      "4/4 [==============================] - 0s 4ms/step - loss: 0.0042\n"
     ]
    }
   ],
   "source": [
    "predictor = Stock_predictor(df)\n",
    "predictor.window_data()\n",
    "predictor.prepare_data()\n",
    "predictor.setup_model()\n",
    "predictor.train_model()\n",
    "\n"
   ]
  },
  {
   "cell_type": "code",
   "execution_count": 14,
   "metadata": {},
   "outputs": [
    {
     "data": {
      "text/html": [
       "<div>\n",
       "<style scoped>\n",
       "    .dataframe tbody tr th:only-of-type {\n",
       "        vertical-align: middle;\n",
       "    }\n",
       "\n",
       "    .dataframe tbody tr th {\n",
       "        vertical-align: top;\n",
       "    }\n",
       "\n",
       "    .dataframe thead th {\n",
       "        text-align: right;\n",
       "    }\n",
       "</style>\n",
       "<table border=\"1\" class=\"dataframe\">\n",
       "  <thead>\n",
       "    <tr style=\"text-align: right;\">\n",
       "      <th></th>\n",
       "      <th>Real</th>\n",
       "      <th>Predicted</th>\n",
       "    </tr>\n",
       "    <tr>\n",
       "      <th>Date</th>\n",
       "      <th></th>\n",
       "      <th></th>\n",
       "    </tr>\n",
       "  </thead>\n",
       "  <tbody>\n",
       "    <tr>\n",
       "      <th>2020-12-31 16:00:00</th>\n",
       "      <td>413.44</td>\n",
       "      <td>442.765564</td>\n",
       "    </tr>\n",
       "    <tr>\n",
       "      <th>2021-01-04 16:00:00</th>\n",
       "      <td>419.73</td>\n",
       "      <td>430.525665</td>\n",
       "    </tr>\n",
       "    <tr>\n",
       "      <th>2021-01-05 16:00:00</th>\n",
       "      <td>425.92</td>\n",
       "      <td>423.120453</td>\n",
       "    </tr>\n",
       "    <tr>\n",
       "      <th>2021-01-06 16:00:00</th>\n",
       "      <td>427.31</td>\n",
       "      <td>418.098846</td>\n",
       "    </tr>\n",
       "    <tr>\n",
       "      <th>2021-01-07 16:00:00</th>\n",
       "      <td>421.97</td>\n",
       "      <td>420.463013</td>\n",
       "    </tr>\n",
       "  </tbody>\n",
       "</table>\n",
       "</div>"
      ],
      "text/plain": [
       "                       Real   Predicted\n",
       "Date                                   \n",
       "2020-12-31 16:00:00  413.44  442.765564\n",
       "2021-01-04 16:00:00  419.73  430.525665\n",
       "2021-01-05 16:00:00  425.92  423.120453\n",
       "2021-01-06 16:00:00  427.31  418.098846\n",
       "2021-01-07 16:00:00  421.97  420.463013"
      ]
     },
     "execution_count": 14,
     "metadata": {},
     "output_type": "execute_result"
    }
   ],
   "source": [
    "pred_df = predictor.predictions_df()\n",
    "pred_df.tail()"
   ]
  },
  {
   "cell_type": "code",
   "execution_count": 12,
   "metadata": {},
   "outputs": [
    {
     "data": {
      "text/plain": [
       "421.97"
      ]
     },
     "execution_count": 12,
     "metadata": {},
     "output_type": "execute_result"
    }
   ],
   "source": [
    "pred_df[\"Real\"][-1]"
   ]
  },
  {
   "cell_type": "code",
   "execution_count": 6,
   "metadata": {},
   "outputs": [],
   "source": [
    "#predictor = Stock_predictor(df)\n",
    "#def create_predictions_df(df):\n",
    "    \n",
    "    #predictor.window_data()\n",
    "    #predictor.prepare_data()\n",
    "    #predictor.setup_model()\n",
    "    #predictor.train_model()\n",
    "    "
   ]
  },
  {
   "cell_type": "code",
   "execution_count": 7,
   "metadata": {},
   "outputs": [],
   "source": [
    "#nflx = create_predictions_df(df)"
   ]
  },
  {
   "cell_type": "code",
   "execution_count": 8,
   "metadata": {},
   "outputs": [],
   "source": [
    "#nflx.predictions_df()"
   ]
  },
  {
   "cell_type": "code",
   "execution_count": null,
   "metadata": {},
   "outputs": [],
   "source": []
  }
 ],
 "metadata": {
  "kernelspec": {
   "display_name": "Python 3",
   "language": "python",
   "name": "python3"
  },
  "language_info": {
   "codemirror_mode": {
    "name": "ipython",
    "version": 3
   },
   "file_extension": ".py",
   "mimetype": "text/x-python",
   "name": "python",
   "nbconvert_exporter": "python",
   "pygments_lexer": "ipython3",
   "version": "3.8.5"
  }
 },
 "nbformat": 4,
 "nbformat_minor": 4
}
