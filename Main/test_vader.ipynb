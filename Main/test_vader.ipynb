{
 "cells": [
  {
   "cell_type": "code",
   "execution_count": 10,
   "metadata": {},
   "outputs": [
    {
     "output_type": "stream",
     "name": "stderr",
     "text": [
      "[nltk_data] Downloading package vader_lexicon to\n[nltk_data]     /Users/laanuadeyeye/nltk_data...\n[nltk_data]   Package vader_lexicon is already up-to-date!\n"
     ]
    }
   ],
   "source": [
    "import os\n",
    "from pathlib import Path\n",
    "import pandas as pd\n",
    "from newsapi import NewsApiClient\n",
    "import nltk\n",
    "from nltk.sentiment.vader import SentimentIntensityAnalyzer\n",
    "from dotenv import load_dotenv\n",
    "load_dotenv()\n",
    "nltk.download('vader_lexicon')\n",
    "from VADER_analysis import Vader_analysis"
   ]
  },
  {
   "cell_type": "code",
   "execution_count": 11,
   "metadata": {},
   "outputs": [],
   "source": [
    "vader = Vader_analysis(\"pdd\")"
   ]
  },
  {
   "cell_type": "code",
   "execution_count": 12,
   "metadata": {},
   "outputs": [],
   "source": [
    "vader.fetch_all_news()\n",
    "vader.stock_sentiment_score_df()\n",
    "vader.descriptive_stats_df()"
   ]
  },
  {
   "cell_type": "code",
   "execution_count": 13,
   "metadata": {},
   "outputs": [
    {
     "output_type": "execute_result",
     "data": {
      "text/plain": [
       "        compound   positive   negative    neutral\n",
       "count  78.000000  78.000000  78.000000  78.000000\n",
       "mean    0.140687   0.080333   0.047974   0.871692\n",
       "std     0.449426   0.070805   0.072303   0.089617\n",
       "min    -0.953800   0.000000   0.000000   0.651000\n",
       "25%    -0.070800   0.000000   0.000000   0.804000\n",
       "50%     0.102600   0.067500   0.000000   0.869500\n",
       "75%     0.528150   0.128750   0.073250   0.936000\n",
       "max     0.855500   0.256000   0.337000   1.000000"
      ],
      "text/html": "<div>\n<style scoped>\n    .dataframe tbody tr th:only-of-type {\n        vertical-align: middle;\n    }\n\n    .dataframe tbody tr th {\n        vertical-align: top;\n    }\n\n    .dataframe thead th {\n        text-align: right;\n    }\n</style>\n<table border=\"1\" class=\"dataframe\">\n  <thead>\n    <tr style=\"text-align: right;\">\n      <th></th>\n      <th>compound</th>\n      <th>positive</th>\n      <th>negative</th>\n      <th>neutral</th>\n    </tr>\n  </thead>\n  <tbody>\n    <tr>\n      <th>count</th>\n      <td>78.000000</td>\n      <td>78.000000</td>\n      <td>78.000000</td>\n      <td>78.000000</td>\n    </tr>\n    <tr>\n      <th>mean</th>\n      <td>0.140687</td>\n      <td>0.080333</td>\n      <td>0.047974</td>\n      <td>0.871692</td>\n    </tr>\n    <tr>\n      <th>std</th>\n      <td>0.449426</td>\n      <td>0.070805</td>\n      <td>0.072303</td>\n      <td>0.089617</td>\n    </tr>\n    <tr>\n      <th>min</th>\n      <td>-0.953800</td>\n      <td>0.000000</td>\n      <td>0.000000</td>\n      <td>0.651000</td>\n    </tr>\n    <tr>\n      <th>25%</th>\n      <td>-0.070800</td>\n      <td>0.000000</td>\n      <td>0.000000</td>\n      <td>0.804000</td>\n    </tr>\n    <tr>\n      <th>50%</th>\n      <td>0.102600</td>\n      <td>0.067500</td>\n      <td>0.000000</td>\n      <td>0.869500</td>\n    </tr>\n    <tr>\n      <th>75%</th>\n      <td>0.528150</td>\n      <td>0.128750</td>\n      <td>0.073250</td>\n      <td>0.936000</td>\n    </tr>\n    <tr>\n      <th>max</th>\n      <td>0.855500</td>\n      <td>0.256000</td>\n      <td>0.337000</td>\n      <td>1.000000</td>\n    </tr>\n  </tbody>\n</table>\n</div>"
     },
     "metadata": {},
     "execution_count": 13
    }
   ],
   "source": [
    "vader.stats"
   ]
  },
  {
   "cell_type": "code",
   "execution_count": null,
   "metadata": {},
   "outputs": [],
   "source": []
  }
 ],
 "metadata": {
  "kernelspec": {
   "display_name": "Python 3",
   "language": "python",
   "name": "python3"
  },
  "language_info": {
   "name": "",
   "version": "3.8.2-final"
  }
 },
 "nbformat": 4,
 "nbformat_minor": 4
}